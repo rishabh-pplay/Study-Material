{
  "nbformat": 4,
  "nbformat_minor": 0,
  "metadata": {
    "colab": {
      "name": "pyspark.ipynb",
      "provenance": [],
      "collapsed_sections": [],
      "toc_visible": true,
      "authorship_tag": "ABX9TyPIV0SWLoJqcBkvyi+41mRg",
      "include_colab_link": true
    },
    "kernelspec": {
      "name": "python3",
      "display_name": "Python 3"
    },
    "language_info": {
      "name": "python"
    }
  },
  "cells": [
    {
      "cell_type": "markdown",
      "metadata": {
        "id": "view-in-github",
        "colab_type": "text"
      },
      "source": [
        "<a href=\"https://colab.research.google.com/github/sajal1302/Study-Material/blob/master/pyspark.ipynb\" target=\"_parent\"><img src=\"https://colab.research.google.com/assets/colab-badge.svg\" alt=\"Open In Colab\"/></a>"
      ]
    },
    {
      "cell_type": "code",
      "metadata": {
        "colab": {
          "base_uri": "https://localhost:8080/"
        },
        "id": "Nf-UfmEVW4sN",
        "outputId": "dfa81d23-75f3-4490-e540-dc9be67d8ca1"
      },
      "source": [
        "! pip install pyspark"
      ],
      "execution_count": 1,
      "outputs": [
        {
          "output_type": "stream",
          "text": [
            "Collecting pyspark\n",
            "\u001b[?25l  Downloading https://files.pythonhosted.org/packages/45/b0/9d6860891ab14a39d4bddf80ba26ce51c2f9dc4805e5c6978ac0472c120a/pyspark-3.1.1.tar.gz (212.3MB)\n",
            "\u001b[K     |████████████████████████████████| 212.3MB 71kB/s \n",
            "\u001b[?25hCollecting py4j==0.10.9\n",
            "\u001b[?25l  Downloading https://files.pythonhosted.org/packages/9e/b6/6a4fb90cd235dc8e265a6a2067f2a2c99f0d91787f06aca4bcf7c23f3f80/py4j-0.10.9-py2.py3-none-any.whl (198kB)\n",
            "\u001b[K     |████████████████████████████████| 204kB 47.4MB/s \n",
            "\u001b[?25hBuilding wheels for collected packages: pyspark\n",
            "  Building wheel for pyspark (setup.py) ... \u001b[?25l\u001b[?25hdone\n",
            "  Created wheel for pyspark: filename=pyspark-3.1.1-py2.py3-none-any.whl size=212767604 sha256=96a7e31d3bdebeb3b3abcaa260d1b255b0950a4a621568c017559f57273f9a13\n",
            "  Stored in directory: /root/.cache/pip/wheels/0b/90/c0/01de724414ef122bd05f056541fb6a0ecf47c7ca655f8b3c0f\n",
            "Successfully built pyspark\n",
            "Installing collected packages: py4j, pyspark\n",
            "Successfully installed py4j-0.10.9 pyspark-3.1.1\n"
          ],
          "name": "stdout"
        }
      ]
    },
    {
      "cell_type": "code",
      "metadata": {
        "id": "hxQnd-BJXOJb"
      },
      "source": [
        "from pyspark.sql import SparkSession"
      ],
      "execution_count": 4,
      "outputs": []
    },
    {
      "cell_type": "code",
      "metadata": {
        "id": "O79HURu6XOUZ"
      },
      "source": [
        "def get_spark_session():\n",
        "    spark = SparkSession.builder.appName(\"BCG-Project\").enableHiveSupport().getOrCreate()\n",
        "    return spark"
      ],
      "execution_count": 3,
      "outputs": []
    },
    {
      "cell_type": "code",
      "metadata": {
        "id": "UOOPesnsXOYD"
      },
      "source": [
        "config = { 'files' : ['Charges_use.csv' ,\n",
        "                      'Damages_use.csv' ,\n",
        "                      'Endorse_use.csv',\n",
        "                      'Primary_Person_use.csv' ,\n",
        "                      'Restrict_use.csv' ,\n",
        "                      'Units_use.csv'] ,\n",
        "          'files_loc' : '',\n",
        "          \n",
        "          'feeds':{\n",
        "              'Charges_use': {\n",
        "                  'feed_name' : 'Charges_use.csv',\n",
        "                  'feed_location' : '',\n",
        "                  'delimeter' : '',\n",
        "                  'compression' : '',\n",
        "                  \n",
        "              },\n",
        "              'Damages_use': {\n",
        "                  'feed_name' : 'Damages_use.csv',\n",
        "                  'feed_location' : '',\n",
        "                  'delimeter' : '',\n",
        "                  'compression' : '',\n",
        "                  \n",
        "              },\n",
        "              'Endorse_use': {\n",
        "                  'feed_name' : 'Damages_use.csv',\n",
        "                  'feed_location' : '',\n",
        "                  'delimeter' : '',\n",
        "                  'compression' : '',\n",
        "                  \n",
        "              },\n",
        "              'Primary_Person_use': {\n",
        "                  'feed_name' : 'Primary_Person_use.csv',\n",
        "                  'feed_location' : '',\n",
        "                  'delimeter' : '',\n",
        "                  'compression' : '',\n",
        "                  \n",
        "              },\n",
        "              'Restrict_use': {\n",
        "                  'feed_name' : 'Restrict_use.csv',\n",
        "                  'feed_location' : '',\n",
        "                  'delimeter' : '',\n",
        "                  'compression' : '',\n",
        "                  \n",
        "              },\n",
        "              'Units_use': {\n",
        "                  'feed_name' : 'Units_use.csv',\n",
        "                  'feed_location' : '',\n",
        "                  'delimeter' : '',\n",
        "                  'compression' : '',\n",
        "                  \n",
        "              }\n",
        "          }  \n",
        "    \n",
        "}"
      ],
      "execution_count": 5,
      "outputs": []
    },
    {
      "cell_type": "code",
      "metadata": {
        "id": "iZzBxexhXOfb"
      },
      "source": [
        "spark = get_spark_session()"
      ],
      "execution_count": 6,
      "outputs": []
    },
    {
      "cell_type": "code",
      "metadata": {
        "colab": {
          "base_uri": "https://localhost:8080/"
        },
        "id": "AgrtiDYys95H",
        "outputId": "45c04e65-e70a-4c35-8899-eb5ef20b72f9"
      },
      "source": [
        "from google.colab import drive\n",
        "drive.mount('/content/drive')"
      ],
      "execution_count": 8,
      "outputs": [
        {
          "output_type": "stream",
          "text": [
            "Mounted at /content/drive\n"
          ],
          "name": "stdout"
        }
      ]
    },
    {
      "cell_type": "code",
      "metadata": {
        "id": "mUudwGX3XOi-",
        "colab": {
          "base_uri": "https://localhost:8080/",
          "height": 218
        },
        "outputId": "bb2c2d53-d2fa-4ed9-8531-863010f4d550"
      },
      "source": [
        "spark"
      ],
      "execution_count": 7,
      "outputs": [
        {
          "output_type": "execute_result",
          "data": {
            "text/html": [
              "\n",
              "            <div>\n",
              "                <p><b>SparkSession - hive</b></p>\n",
              "                \n",
              "        <div>\n",
              "            <p><b>SparkContext</b></p>\n",
              "\n",
              "            <p><a href=\"http://2acd35f17c6d:4040\">Spark UI</a></p>\n",
              "\n",
              "            <dl>\n",
              "              <dt>Version</dt>\n",
              "                <dd><code>v3.1.1</code></dd>\n",
              "              <dt>Master</dt>\n",
              "                <dd><code>local[*]</code></dd>\n",
              "              <dt>AppName</dt>\n",
              "                <dd><code>BCG-Project</code></dd>\n",
              "            </dl>\n",
              "        </div>\n",
              "        \n",
              "            </div>\n",
              "        "
            ],
            "text/plain": [
              "<pyspark.sql.session.SparkSession at 0x7f32abdb2850>"
            ]
          },
          "metadata": {
            "tags": []
          },
          "execution_count": 7
        }
      ]
    },
    {
      "cell_type": "code",
      "metadata": {
        "colab": {
          "base_uri": "https://localhost:8080/"
        },
        "id": "7R9CoY9_sP6S",
        "outputId": "6d33dc26-5ef4-4f89-d420-9de1d4b6bd45"
      },
      "source": [
        "! ls drive/MyDrive/bcg/staging_files/"
      ],
      "execution_count": 15,
      "outputs": [
        {
          "output_type": "stream",
          "text": [
            "Charges_use.csv  Endorse_use.csv\t Restrict_use.csv\n",
            "Damages_use.csv  Primary_Person_use.csv  Units_use.csv\n"
          ],
          "name": "stdout"
        }
      ]
    },
    {
      "cell_type": "code",
      "metadata": {
        "colab": {
          "base_uri": "https://localhost:8080/"
        },
        "id": "IQloN1ZksQEA",
        "outputId": "529d51a8-e1af-4df8-fd84-ea40b133b73c"
      },
      "source": [
        "! ls bcg/config"
      ],
      "execution_count": 20,
      "outputs": [
        {
          "output_type": "stream",
          "text": [
            "config.json\n"
          ],
          "name": "stdout"
        }
      ]
    },
    {
      "cell_type": "code",
      "metadata": {
        "id": "5uDtNXAcws2J"
      },
      "source": [
        "import json"
      ],
      "execution_count": 21,
      "outputs": []
    },
    {
      "cell_type": "code",
      "metadata": {
        "id": "VapaijMQws-_"
      },
      "source": [
        "def load_json(file_path):\n",
        "  with open(file_path) as f:\n",
        "    config = json.load(f)\n",
        "    return config"
      ],
      "execution_count": 28,
      "outputs": []
    },
    {
      "cell_type": "code",
      "metadata": {
        "id": "YYgHC7tszNNT"
      },
      "source": [
        "bcg_conf = load_json('bcg/config/config.json')"
      ],
      "execution_count": 31,
      "outputs": []
    },
    {
      "cell_type": "code",
      "metadata": {
        "colab": {
          "base_uri": "https://localhost:8080/"
        },
        "id": "qVcAQeg8wtCa",
        "outputId": "250a2d46-2867-46f3-ff30-42a292fae260"
      },
      "source": [
        "bcg_conf['feeds']"
      ],
      "execution_count": 32,
      "outputs": [
        {
          "output_type": "execute_result",
          "data": {
            "text/plain": [
              "{'feeds': {'Charges_use': {'compression': '',\n",
              "   'delimeter': '',\n",
              "   'feed_location': 'bcg/staging_files/',\n",
              "   'feed_name': 'Charges_use.csv'},\n",
              "  'Damages_use': {'compression': '',\n",
              "   'delimeter': '',\n",
              "   'feed_location': '',\n",
              "   'feed_name': 'Damages_use.csv'},\n",
              "  'Endorse_use': {'compression': '',\n",
              "   'delimeter': '',\n",
              "   'feed_location': '',\n",
              "   'feed_name': 'Damages_use.csv'},\n",
              "  'Primary_Person_use': {'compression': '',\n",
              "   'delimeter': '',\n",
              "   'feed_location': '',\n",
              "   'feed_name': 'Primary_Person_use.csv'},\n",
              "  'Restrict_use': {'compression': '',\n",
              "   'delimeter': '',\n",
              "   'feed_location': '',\n",
              "   'feed_name': 'Restrict_use.csv'},\n",
              "  'Units_use': {'compression': '',\n",
              "   'delimeter': '',\n",
              "   'feed_location': '',\n",
              "   'feed_name': 'Units_use.csv'}}}"
            ]
          },
          "metadata": {
            "tags": []
          },
          "execution_count": 32
        }
      ]
    },
    {
      "cell_type": "code",
      "metadata": {
        "colab": {
          "base_uri": "https://localhost:8080/"
        },
        "id": "m332n3NR0W7J",
        "outputId": "e91d6660-dfa5-4c44-a157-dc53f0471b6a"
      },
      "source": [
        "bcg_conf['feeds'].items()"
      ],
      "execution_count": 35,
      "outputs": [
        {
          "output_type": "execute_result",
          "data": {
            "text/plain": [
              "dict_items([('Charges_use', {'feed_name': 'Charges_use.csv', 'feed_location': 'bcg/staging_files/', 'delimeter': '', 'compression': ''}), ('Damages_use', {'feed_name': 'Damages_use.csv', 'feed_location': '', 'delimeter': '', 'compression': ''}), ('Endorse_use', {'feed_name': 'Damages_use.csv', 'feed_location': '', 'delimeter': '', 'compression': ''}), ('Primary_Person_use', {'feed_name': 'Primary_Person_use.csv', 'feed_location': '', 'delimeter': '', 'compression': ''}), ('Restrict_use', {'feed_name': 'Restrict_use.csv', 'feed_location': '', 'delimeter': '', 'compression': ''}), ('Units_use', {'feed_name': 'Units_use.csv', 'feed_location': '', 'delimeter': '', 'compression': ''})])"
            ]
          },
          "metadata": {
            "tags": []
          },
          "execution_count": 35
        }
      ]
    },
    {
      "cell_type": "code",
      "metadata": {
        "colab": {
          "base_uri": "https://localhost:8080/"
        },
        "id": "X_39AEaI2jMQ",
        "outputId": "8b159fc8-d0f3-4247-c192-d4177700cb7e"
      },
      "source": [
        "for a in bcg_conf['feeds']:\n",
        "  print(a, bcg_conf['feeds'][a], bcg_conf['feeds'][a]['feed_name'],  bcg_conf['feeds'][a]['feed_location']  )"
      ],
      "execution_count": 48,
      "outputs": [
        {
          "output_type": "stream",
          "text": [
            "Charges_use {'feed_name': 'Charges_use.csv', 'feed_location': 'bcg/staging_files/', 'delimeter': '', 'compression': ''} Charges_use.csv bcg/staging_files/\n",
            "Damages_use {'feed_name': 'Damages_use.csv', 'feed_location': '', 'delimeter': '', 'compression': ''} Damages_use.csv \n",
            "Endorse_use {'feed_name': 'Damages_use.csv', 'feed_location': '', 'delimeter': '', 'compression': ''} Damages_use.csv \n",
            "Primary_Person_use {'feed_name': 'Primary_Person_use.csv', 'feed_location': '', 'delimeter': '', 'compression': ''} Primary_Person_use.csv \n",
            "Restrict_use {'feed_name': 'Restrict_use.csv', 'feed_location': '', 'delimeter': '', 'compression': ''} Restrict_use.csv \n",
            "Units_use {'feed_name': 'Units_use.csv', 'feed_location': '', 'delimeter': '', 'compression': ''} Units_use.csv \n"
          ],
          "name": "stdout"
        }
      ]
    },
    {
      "cell_type": "code",
      "metadata": {
        "id": "hfHsfLEe1Is7"
      },
      "source": [
        "feed_dict = list(bcg_conf['feeds'].items())"
      ],
      "execution_count": 39,
      "outputs": []
    },
    {
      "cell_type": "code",
      "metadata": {
        "colab": {
          "base_uri": "https://localhost:8080/"
        },
        "id": "1blMbN372KA7",
        "outputId": "6ddd19ea-33c2-4686-84b0-514c3db21a45"
      },
      "source": [
        "feed_dict"
      ],
      "execution_count": 43,
      "outputs": [
        {
          "output_type": "execute_result",
          "data": {
            "text/plain": [
              "[('Charges_use',\n",
              "  {'compression': '',\n",
              "   'delimeter': '',\n",
              "   'feed_location': 'bcg/staging_files/',\n",
              "   'feed_name': 'Charges_use.csv'}),\n",
              " ('Damages_use',\n",
              "  {'compression': '',\n",
              "   'delimeter': '',\n",
              "   'feed_location': '',\n",
              "   'feed_name': 'Damages_use.csv'}),\n",
              " ('Endorse_use',\n",
              "  {'compression': '',\n",
              "   'delimeter': '',\n",
              "   'feed_location': '',\n",
              "   'feed_name': 'Damages_use.csv'}),\n",
              " ('Primary_Person_use',\n",
              "  {'compression': '',\n",
              "   'delimeter': '',\n",
              "   'feed_location': '',\n",
              "   'feed_name': 'Primary_Person_use.csv'}),\n",
              " ('Restrict_use',\n",
              "  {'compression': '',\n",
              "   'delimeter': '',\n",
              "   'feed_location': '',\n",
              "   'feed_name': 'Restrict_use.csv'}),\n",
              " ('Units_use',\n",
              "  {'compression': '',\n",
              "   'delimeter': '',\n",
              "   'feed_location': '',\n",
              "   'feed_name': 'Units_use.csv'})]"
            ]
          },
          "metadata": {
            "tags": []
          },
          "execution_count": 43
        }
      ]
    },
    {
      "cell_type": "code",
      "metadata": {
        "colab": {
          "base_uri": "https://localhost:8080/",
          "height": 186
        },
        "id": "PoLxSBFY0W-7",
        "outputId": "1e46dbb4-3373-4880-d9ca-ad0629ed0fa8"
      },
      "source": [
        "for feed, value in feed_dict[0] :\n",
        "  print(feed , feed_dict[feed]['feed_name'])\n"
      ],
      "execution_count": 40,
      "outputs": [
        {
          "output_type": "error",
          "ename": "ValueError",
          "evalue": "ignored",
          "traceback": [
            "\u001b[0;31m---------------------------------------------------------------------------\u001b[0m",
            "\u001b[0;31mValueError\u001b[0m                                Traceback (most recent call last)",
            "\u001b[0;32m<ipython-input-40-05d63890f599>\u001b[0m in \u001b[0;36m<module>\u001b[0;34m()\u001b[0m\n\u001b[0;32m----> 1\u001b[0;31m \u001b[0;32mfor\u001b[0m \u001b[0mfeed\u001b[0m\u001b[0;34m,\u001b[0m \u001b[0mvalue\u001b[0m \u001b[0;32min\u001b[0m \u001b[0mfeed_dict\u001b[0m\u001b[0;34m[\u001b[0m\u001b[0;36m0\u001b[0m\u001b[0;34m]\u001b[0m \u001b[0;34m:\u001b[0m\u001b[0;34m\u001b[0m\u001b[0;34m\u001b[0m\u001b[0m\n\u001b[0m\u001b[1;32m      2\u001b[0m   \u001b[0mprint\u001b[0m\u001b[0;34m(\u001b[0m\u001b[0mfeed\u001b[0m \u001b[0;34m,\u001b[0m \u001b[0mfeed_dict\u001b[0m\u001b[0;34m[\u001b[0m\u001b[0mfeed\u001b[0m\u001b[0;34m]\u001b[0m\u001b[0;34m[\u001b[0m\u001b[0;34m'feed_name'\u001b[0m\u001b[0;34m]\u001b[0m\u001b[0;34m)\u001b[0m\u001b[0;34m\u001b[0m\u001b[0;34m\u001b[0m\u001b[0m\n",
            "\u001b[0;31mValueError\u001b[0m: too many values to unpack (expected 2)"
          ]
        }
      ]
    },
    {
      "cell_type": "code",
      "metadata": {
        "id": "hb3AdDlT0XCP"
      },
      "source": [
        ""
      ],
      "execution_count": null,
      "outputs": []
    },
    {
      "cell_type": "code",
      "metadata": {
        "id": "uAvaea0E0XFM"
      },
      "source": [
        ""
      ],
      "execution_count": null,
      "outputs": []
    },
    {
      "cell_type": "code",
      "metadata": {
        "id": "8gUP7rTA0XHk"
      },
      "source": [
        ""
      ],
      "execution_count": null,
      "outputs": []
    }
  ]
}