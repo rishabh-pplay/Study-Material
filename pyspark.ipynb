{
  "nbformat": 4,
  "nbformat_minor": 0,
  "metadata": {
    "colab": {
      "name": "Copy of pyspark.ipynb",
      "provenance": [],
      "collapsed_sections": [],
      "authorship_tag": "ABX9TyP3ow0a3Os7cVWWoBDwwniU",
      "include_colab_link": true
    },
    "kernelspec": {
      "name": "python3",
      "display_name": "Python 3"
    },
    "language_info": {
      "name": "python"
    }
  },
  "cells": [
    {
      "cell_type": "markdown",
      "metadata": {
        "id": "view-in-github",
        "colab_type": "text"
      },
      "source": [
        "<a href=\"https://colab.research.google.com/github/sajal1302/Study-Material/blob/master/pyspark.ipynb\" target=\"_parent\"><img src=\"https://colab.research.google.com/assets/colab-badge.svg\" alt=\"Open In Colab\"/></a>"
      ]
    },
    {
      "cell_type": "code",
      "metadata": {
        "colab": {
          "base_uri": "https://localhost:8080/"
        },
        "id": "Nf-UfmEVW4sN",
        "outputId": "3067373e-b794-4cf2-960b-b29f3e439672"
      },
      "source": [
        "! pip install pyspark"
      ],
      "execution_count": 1,
      "outputs": [
        {
          "output_type": "stream",
          "text": [
            "Collecting pyspark\n",
            "\u001b[?25l  Downloading https://files.pythonhosted.org/packages/45/b0/9d6860891ab14a39d4bddf80ba26ce51c2f9dc4805e5c6978ac0472c120a/pyspark-3.1.1.tar.gz (212.3MB)\n",
            "\u001b[K     |████████████████████████████████| 212.3MB 72kB/s \n",
            "\u001b[?25hCollecting py4j==0.10.9\n",
            "\u001b[?25l  Downloading https://files.pythonhosted.org/packages/9e/b6/6a4fb90cd235dc8e265a6a2067f2a2c99f0d91787f06aca4bcf7c23f3f80/py4j-0.10.9-py2.py3-none-any.whl (198kB)\n",
            "\u001b[K     |████████████████████████████████| 204kB 41.8MB/s \n",
            "\u001b[?25hBuilding wheels for collected packages: pyspark\n",
            "  Building wheel for pyspark (setup.py) ... \u001b[?25l\u001b[?25hdone\n",
            "  Created wheel for pyspark: filename=pyspark-3.1.1-py2.py3-none-any.whl size=212767604 sha256=d65341cf9cfb30967b0a8b7ffda3053501f8c5484ab9eabf589d5f994a593d74\n",
            "  Stored in directory: /root/.cache/pip/wheels/0b/90/c0/01de724414ef122bd05f056541fb6a0ecf47c7ca655f8b3c0f\n",
            "Successfully built pyspark\n",
            "Installing collected packages: py4j, pyspark\n",
            "Successfully installed py4j-0.10.9 pyspark-3.1.1\n"
          ],
          "name": "stdout"
        }
      ]
    },
    {
      "cell_type": "code",
      "metadata": {
        "id": "Dl4SsGmgFtp5"
      },
      "source": [
        "from pyspark.sql import SparkSession\n",
        "from pyspark.sql.functions import *\n",
        "from pyspark.sql.window import Window\n",
        "import logging\n",
        "import json\n",
        "logger = logging.getLogger('BCG-Use-Case')\n",
        "logger.setLevel(logging.INFO)"
      ],
      "execution_count": 5,
      "outputs": []
    },
    {
      "cell_type": "code",
      "metadata": {
        "id": "O79HURu6XOUZ"
      },
      "source": [
        "def get_spark_session():\n",
        "    spark = SparkSession.builder.appName(\"BCG-Project\").enableHiveSupport().getOrCreate()\n",
        "    return spark"
      ],
      "execution_count": 3,
      "outputs": []
    },
    {
      "cell_type": "code",
      "metadata": {
        "id": "UOOPesnsXOYD"
      },
      "source": [
        "config = { 'files' : ['Charges_use.csv' ,\n",
        "                      'Damages_use.csv' ,\n",
        "                      'Endorse_use.csv',\n",
        "                      'Primary_Person_use.csv' ,\n",
        "                      'Restrict_use.csv' ,\n",
        "                      'Units_use.csv'] ,\n",
        "          'files_loc' : '',\n",
        "          \n",
        "          'feeds':{\n",
        "              'Charges_use': {\n",
        "                  'feed_name' : 'Charges_use.csv',\n",
        "                  'feed_location' : '',\n",
        "                  'delimeter' : '',\n",
        "                  'compression' : '',\n",
        "                  \n",
        "              },\n",
        "              'Damages_use': {\n",
        "                  'feed_name' : 'Damages_use.csv',\n",
        "                  'feed_location' : '',\n",
        "                  'delimeter' : '',\n",
        "                  'compression' : '',\n",
        "                  \n",
        "              },\n",
        "              'Endorse_use': {\n",
        "                  'feed_name' : 'Damages_use.csv',\n",
        "                  'feed_location' : '',\n",
        "                  'delimeter' : '',\n",
        "                  'compression' : '',\n",
        "                  \n",
        "              },\n",
        "              'Primary_Person_use': {\n",
        "                  'feed_name' : 'Primary_Person_use.csv',\n",
        "                  'feed_location' : '',\n",
        "                  'delimeter' : '',\n",
        "                  'compression' : '',\n",
        "                  \n",
        "              },\n",
        "              'Restrict_use': {\n",
        "                  'feed_name' : 'Restrict_use.csv',\n",
        "                  'feed_location' : '',\n",
        "                  'delimeter' : '',\n",
        "                  'compression' : '',\n",
        "                  \n",
        "              },\n",
        "              'Units_use': {\n",
        "                  'feed_name' : 'Units_use.csv',\n",
        "                  'feed_location' : '',\n",
        "                  'delimeter' : '',\n",
        "                  'compression' : '',\n",
        "                  \n",
        "              }\n",
        "          }  \n",
        "    \n",
        "}"
      ],
      "execution_count": null,
      "outputs": []
    },
    {
      "cell_type": "code",
      "metadata": {
        "id": "iZzBxexhXOfb"
      },
      "source": [
        "spark = get_spark_session()"
      ],
      "execution_count": 4,
      "outputs": []
    },
    {
      "cell_type": "code",
      "metadata": {
        "colab": {
          "base_uri": "https://localhost:8080/"
        },
        "id": "AgrtiDYys95H",
        "outputId": "3ce8f27b-f723-4765-ffec-8120516d8833"
      },
      "source": [
        "from google.colab import drive\n",
        "drive.mount('/content/drive')"
      ],
      "execution_count": 6,
      "outputs": [
        {
          "output_type": "stream",
          "text": [
            "Mounted at /content/drive\n"
          ],
          "name": "stdout"
        }
      ]
    },
    {
      "cell_type": "code",
      "metadata": {
        "id": "mUudwGX3XOi-",
        "colab": {
          "base_uri": "https://localhost:8080/",
          "height": 218
        },
        "outputId": "8831abe2-e2cf-401f-b2e6-559fc5ea8450"
      },
      "source": [
        "spark"
      ],
      "execution_count": 7,
      "outputs": [
        {
          "output_type": "execute_result",
          "data": {
            "text/html": [
              "\n",
              "            <div>\n",
              "                <p><b>SparkSession - hive</b></p>\n",
              "                \n",
              "        <div>\n",
              "            <p><b>SparkContext</b></p>\n",
              "\n",
              "            <p><a href=\"http://751ca85b60d4:4040\">Spark UI</a></p>\n",
              "\n",
              "            <dl>\n",
              "              <dt>Version</dt>\n",
              "                <dd><code>v3.1.1</code></dd>\n",
              "              <dt>Master</dt>\n",
              "                <dd><code>local[*]</code></dd>\n",
              "              <dt>AppName</dt>\n",
              "                <dd><code>BCG-Project</code></dd>\n",
              "            </dl>\n",
              "        </div>\n",
              "        \n",
              "            </div>\n",
              "        "
            ],
            "text/plain": [
              "<pyspark.sql.session.SparkSession at 0x7f2afdbd7c10>"
            ]
          },
          "metadata": {
            "tags": []
          },
          "execution_count": 7
        }
      ]
    },
    {
      "cell_type": "code",
      "metadata": {
        "colab": {
          "base_uri": "https://localhost:8080/"
        },
        "id": "7R9CoY9_sP6S",
        "outputId": "514acfbf-a1f4-4231-982a-4001287939d0"
      },
      "source": [
        "! ls drive/MyDrive/bcg/staging_files/"
      ],
      "execution_count": 8,
      "outputs": [
        {
          "output_type": "stream",
          "text": [
            "Charges_use.csv  Endorse_use.csv\t Restrict_use.csv\n",
            "Damages_use.csv  Primary_Person_use.csv  Units_use.csv\n"
          ],
          "name": "stdout"
        }
      ]
    },
    {
      "cell_type": "code",
      "metadata": {
        "colab": {
          "base_uri": "https://localhost:8080/"
        },
        "id": "IQloN1ZksQEA",
        "outputId": "529d51a8-e1af-4df8-fd84-ea40b133b73c"
      },
      "source": [
        "! ls bcg/config"
      ],
      "execution_count": null,
      "outputs": [
        {
          "output_type": "stream",
          "text": [
            "config.json\n"
          ],
          "name": "stdout"
        }
      ]
    },
    {
      "cell_type": "code",
      "metadata": {
        "id": "5uDtNXAcws2J"
      },
      "source": [
        ""
      ],
      "execution_count": null,
      "outputs": []
    },
    {
      "cell_type": "code",
      "metadata": {
        "id": "VapaijMQws-_"
      },
      "source": [
        "def load_json(file_path):\n",
        "  with open(file_path) as f:\n",
        "    config = json.load(f)\n",
        "    return config"
      ],
      "execution_count": 9,
      "outputs": []
    },
    {
      "cell_type": "code",
      "metadata": {
        "id": "YYgHC7tszNNT"
      },
      "source": [
        "bcg_conf = load_json('/content/drive/MyDrive/bcg/config/config.json')"
      ],
      "execution_count": 12,
      "outputs": []
    },
    {
      "cell_type": "code",
      "metadata": {
        "id": "kIo02bZu53mM"
      },
      "source": [
        "def load_file(bcg_conf , entity_name):\n",
        "  try :\n",
        "    feed_name = bcg_conf['feeds'][entity_name]['feed_name']\n",
        "    file_loc = bcg_conf['feeds'][entity_name]['feed_location']\n",
        "    file_format = bcg_conf['feeds'][entity_name]['file_format']\n",
        "    delimeter = bcg_conf['feeds'][entity_name]['delimeter']\n",
        "    header = bcg_conf['feeds'][entity_name]['header']\n",
        "    full_path = file_loc + feed_name\n",
        "\n",
        "    print(feed_name , file_loc , file_format, full_path )\n",
        "    df_ = spark.read.load(full_path, \n",
        "                    format= file_format, sep= delimeter, inferSchema=\"true\",\n",
        "                    header=header)\n",
        "    return df_\n",
        "\n",
        "  except:\n",
        "    logger.error(\"Check the Config for the Entity : {} \".format(entity_name))"
      ],
      "execution_count": 13,
      "outputs": []
    },
    {
      "cell_type": "code",
      "metadata": {
        "id": "vSZ0cGEkFUfQ"
      },
      "source": [
        "def trim_columns(df):\n",
        "  df_ = df.select([ trim(col(colm)).alias(colm.strip()) if dtype =='string' else col(colm).alias(colm.strip()) for colm,dtype in df.dtypes ])\n",
        "  return df_"
      ],
      "execution_count": 14,
      "outputs": []
    },
    {
      "cell_type": "code",
      "metadata": {
        "colab": {
          "base_uri": "https://localhost:8080/"
        },
        "id": "4GgQOW0_Pks0",
        "outputId": "7726232d-4a46-416c-c266-095ad76aa02b"
      },
      "source": [
        "charges_use_df = trim_columns(load_file(bcg_conf , 'Charges_use'))\n",
        "damages_use_df = trim_columns(load_file(bcg_conf , 'Damages_use'))\n",
        "endorse_use_df = trim_columns(load_file(bcg_conf , 'Endorse_use'))\n",
        "primary_person_use_df = trim_columns(load_file(bcg_conf , 'Primary_Person_use'))\n",
        "restrict_use_df = trim_columns(load_file(bcg_conf , 'Restrict_use'))\n",
        "units_use_df = trim_columns(load_file(bcg_conf , 'Units_use'))"
      ],
      "execution_count": 18,
      "outputs": [
        {
          "output_type": "stream",
          "text": [
            "Charges_use.csv /content/drive/MyDrive/bcg/staging_files/ csv /content/drive/MyDrive/bcg/staging_files/Charges_use.csv\n",
            "Damages_use.csv /content/drive/MyDrive/bcg/staging_files/ csv /content/drive/MyDrive/bcg/staging_files/Damages_use.csv\n",
            "Damages_use.csv /content/drive/MyDrive/bcg/staging_files/ csv /content/drive/MyDrive/bcg/staging_files/Damages_use.csv\n",
            "Primary_Person_use.csv /content/drive/MyDrive/bcg/staging_files/ csv /content/drive/MyDrive/bcg/staging_files/Primary_Person_use.csv\n",
            "Restrict_use.csv /content/drive/MyDrive/bcg/staging_files/ csv /content/drive/MyDrive/bcg/staging_files/Restrict_use.csv\n",
            "Units_use.csv /content/drive/MyDrive/bcg/staging_files/ csv /content/drive/MyDrive/bcg/staging_files/Units_use.csv\n"
          ],
          "name": "stdout"
        }
      ]
    },
    {
      "cell_type": "code",
      "metadata": {
        "colab": {
          "base_uri": "https://localhost:8080/"
        },
        "id": "ZKy9OR_LWEp8",
        "outputId": "3d534592-30d9-4e78-8333-4f07a4e3da56"
      },
      "source": [
        "primary_person_use_df.show(10, False)"
      ],
      "execution_count": null,
      "outputs": [
        {
          "output_type": "stream",
          "text": [
            "+--------+--------+--------+------------+------------------+-------------------------+--------+-----------------+------------+------------+-------------------+-----------------+--------------+-----------+---------------------+----------------+------------------+---------------------+----------------+-----------------+---------------+---------------+------------------+--------------+-------------+--------------+-------------+---------+----------------------+-----------------+------------------+--------+\n",
            "|CRASH_ID|UNIT_NBR|PRSN_NBR|PRSN_TYPE_ID|PRSN_OCCPNT_POS_ID|PRSN_INJRY_SEV_ID        |PRSN_AGE|PRSN_ETHNICITY_ID|PRSN_GNDR_ID|PRSN_EJCT_ID|PRSN_REST_ID       |PRSN_AIRBAG_ID   |PRSN_HELMET_ID|PRSN_SOL_FL|PRSN_ALC_SPEC_TYPE_ID|PRSN_ALC_RSLT_ID|PRSN_BAC_TEST_RSLT|PRSN_DRG_SPEC_TYPE_ID|PRSN_DRG_RSLT_ID|DRVR_DRG_CAT_1_ID|PRSN_DEATH_TIME|INCAP_INJRY_CNT|NONINCAP_INJRY_CNT|POSS_INJRY_CNT|NON_INJRY_CNT|UNKN_INJRY_CNT|TOT_INJRY_CNT|DEATH_CNT|DRVR_LIC_TYPE_ID      |DRVR_LIC_STATE_ID|DRVR_LIC_CLS_ID   |DRVR_ZIP|\n",
            "+--------+--------+--------+------------+------------------+-------------------------+--------+-----------------+------------+------------+-------------------+-----------------+--------------+-----------+---------------------+----------------+------------------+---------------------+----------------+-----------------+---------------+---------------+------------------+--------------+-------------+--------------+-------------+---------+----------------------+-----------------+------------------+--------+\n",
            "|14768622|1       |1       |DRIVER      |FRONT LEFT        |NOT INJURED              |27      |HISPANIC         |MALE        |NO          |NONE               |DEPLOYED MULTIPLE|NOT APPLICABLE|N          |BLOOD                |Positive        |0.225             |NONE                 |NOT APPLICABLE  |NOT APPLICABLE   |null           |0              |0                 |0             |1            |0             |0            |0        |DRIVER LICENSE        |Texas            |CLASS C           |77357   |\n",
            "|14838637|1       |1       |DRIVER      |FRONT LEFT        |NOT INJURED              |31      |WHITE            |MALE        |NO          |SHOULDER & LAP BELT|NOT DEPLOYED     |NOT APPLICABLE|N          |BREATH               |Positive        |0.21              |NONE                 |NOT APPLICABLE  |NOT APPLICABLE   |null           |0              |0                 |0             |1            |0             |0            |0        |DRIVER LICENSE        |New York         |OTHER/OUT OF STATE|13830   |\n",
            "|14838637|2       |1       |DRIVER      |FRONT LEFT        |NOT INJURED              |41      |BLACK            |MALE        |NO          |SHOULDER & LAP BELT|NOT DEPLOYED     |NOT APPLICABLE|N          |NONE                 |NA              |NA                |NONE                 |NOT APPLICABLE  |NOT APPLICABLE   |null           |0              |0                 |0             |1            |0             |0            |0        |COMMERCIAL DRIVER LIC.|Texas            |CLASS A           |78934   |\n",
            "|14838641|1       |1       |DRIVER      |FRONT LEFT        |POSSIBLE INJURY          |32      |WHITE            |MALE        |NO          |SHOULDER & LAP BELT|DEPLOYED MULTIPLE|NOT APPLICABLE|N          |NONE                 |NA              |NA                |NONE                 |NOT APPLICABLE  |NOT APPLICABLE   |null           |0              |0                 |1             |0            |0             |1            |0        |DRIVER LICENSE        |Texas            |CLASS C           |76520   |\n",
            "|14838641|2       |1       |DRIVER      |FRONT LEFT        |NON-INCAPACITATING INJURY|34      |BLACK            |FEMALE      |NO          |SHOULDER & LAP BELT|DEPLOYED MULTIPLE|NOT APPLICABLE|N          |NONE                 |NA              |NA                |NONE                 |NOT APPLICABLE  |NOT APPLICABLE   |null           |0              |1                 |0             |0            |0             |1            |0        |ID CARD               |Texas            |UNLICENSED        |76707   |\n",
            "|14838668|1       |1       |DRIVER      |FRONT LEFT        |NOT INJURED              |24      |HISPANIC         |MALE        |NO          |SHOULDER & LAP BELT|DEPLOYED, FRONT  |NOT APPLICABLE|N          |BREATH               |Positive        |0.178             |NONE                 |NOT APPLICABLE  |NOT APPLICABLE   |null           |0              |0                 |0             |1            |0             |0            |0        |DRIVER LICENSE        |Texas            |CLASS C           |78076   |\n",
            "|14838669|1       |1       |DRIVER      |FRONT LEFT        |NOT INJURED              |53      |WHITE            |MALE        |NO          |SHOULDER & LAP BELT|NOT DEPLOYED     |NOT APPLICABLE|N          |NONE                 |NA              |NA                |NONE                 |NOT APPLICABLE  |NOT APPLICABLE   |null           |0              |0                 |0             |1            |0             |0            |0        |DRIVER LICENSE        |Texas            |CLASS C           |76053   |\n",
            "|14838669|2       |1       |DRIVER      |FRONT LEFT        |NOT INJURED              |24      |WHITE            |MALE        |NO          |UNKNOWN            |DEPLOYED, FRONT  |NOT APPLICABLE|N          |BREATH               |Positive        |0.219             |NONE                 |NOT APPLICABLE  |NOT APPLICABLE   |null           |0              |0                 |0             |1            |0             |0            |0        |DRIVER LICENSE        |Texas            |CLASS C           |76118   |\n",
            "|14838670|1       |1       |DRIVER      |FRONT LEFT        |NOT INJURED              |23      |WHITE            |MALE        |NO          |NONE               |NOT DEPLOYED     |NOT APPLICABLE|N          |BLOOD                |Positive        |0.16              |BLOOD                |UNKNOWN         |UNKNOWN          |null           |0              |0                 |0             |1            |0             |0            |0        |DRIVER LICENSE        |Texas            |CLASS C           |75050   |\n",
            "|14838685|1       |1       |DRIVER      |FRONT LEFT        |NOT INJURED              |27      |BLACK            |FEMALE      |NO          |SHOULDER & LAP BELT|NOT DEPLOYED     |NOT APPLICABLE|N          |NONE                 |NA              |NA                |NONE                 |NOT APPLICABLE  |NOT APPLICABLE   |null           |0              |0                 |0             |1            |0             |0            |0        |ID CARD               |Texas            |UNLICENSED        |77033   |\n",
            "+--------+--------+--------+------------+------------------+-------------------------+--------+-----------------+------------+------------+-------------------+-----------------+--------------+-----------+---------------------+----------------+------------------+---------------------+----------------+-----------------+---------------+---------------+------------------+--------------+-------------+--------------+-------------+---------+----------------------+-----------------+------------------+--------+\n",
            "only showing top 10 rows\n",
            "\n"
          ],
          "name": "stdout"
        }
      ]
    },
    {
      "cell_type": "code",
      "metadata": {
        "id": "2tJumspebR6f"
      },
      "source": [
        "lcp = [colms.lower() for colms in primary_person_use_df.columns]\n",
        "lcu = [colms.lower() for colms in units_use_df.columns]"
      ],
      "execution_count": 22,
      "outputs": []
    },
    {
      "cell_type": "code",
      "metadata": {
        "colab": {
          "base_uri": "https://localhost:8080/"
        },
        "id": "fEZe4JVUbcSy",
        "outputId": "3081fafa-1a06-4fae-8c7c-7f2c5f6a08be"
      },
      "source": [
        "print(lcp)"
      ],
      "execution_count": null,
      "outputs": [
        {
          "output_type": "stream",
          "text": [
            "['crash_id', 'unit_nbr', 'prsn_nbr', 'prsn_type_id', 'prsn_occpnt_pos_id', 'prsn_injry_sev_id', 'prsn_age', 'prsn_ethnicity_id', 'prsn_gndr_id', 'prsn_ejct_id', 'prsn_rest_id', 'prsn_airbag_id', 'prsn_helmet_id', 'prsn_sol_fl', 'prsn_alc_spec_type_id', 'prsn_alc_rslt_id', 'prsn_bac_test_rslt', 'prsn_drg_spec_type_id', 'prsn_drg_rslt_id', 'drvr_drg_cat_1_id', 'prsn_death_time', 'incap_injry_cnt', 'nonincap_injry_cnt', 'poss_injry_cnt', 'non_injry_cnt', 'unkn_injry_cnt', 'tot_injry_cnt', 'death_cnt', 'drvr_lic_type_id', 'drvr_lic_state_id', 'drvr_lic_cls_id', 'drvr_zip']\n"
          ],
          "name": "stdout"
        }
      ]
    },
    {
      "cell_type": "code",
      "metadata": {
        "colab": {
          "base_uri": "https://localhost:8080/"
        },
        "id": "YYZ_-rTGsNZB",
        "outputId": "fcbcf44b-b985-44dc-cdad-1190ac10eeea"
      },
      "source": [
        "print(lcu)"
      ],
      "execution_count": 23,
      "outputs": [
        {
          "output_type": "stream",
          "text": [
            "['crash_id', 'unit_nbr', 'unit_desc_id', 'veh_parked_fl', 'veh_hnr_fl', 'veh_lic_state_id', 'vin', 'veh_mod_year', 'veh_color_id', 'veh_make_id', 'veh_mod_id', 'veh_body_styl_id', 'emer_respndr_fl', 'ownr_zip', 'fin_resp_proof_id', 'fin_resp_type_id', 'veh_dmag_area_1_id', 'veh_dmag_scl_1_id', 'force_dir_1_id', 'veh_dmag_area_2_id', 'veh_dmag_scl_2_id', 'force_dir_2_id', 'veh_inventoried_fl', 'veh_transp_name', 'veh_transp_dest', 'contrib_factr_1_id', 'contrib_factr_2_id', 'contrib_factr_p1_id', 'veh_trvl_dir_id', 'first_harm_evt_inv_id', 'incap_injry_cnt', 'nonincap_injry_cnt', 'poss_injry_cnt', 'non_injry_cnt', 'unkn_injry_cnt', 'tot_injry_cnt', 'death_cnt']\n"
          ],
          "name": "stdout"
        }
      ]
    },
    {
      "cell_type": "code",
      "metadata": {
        "colab": {
          "base_uri": "https://localhost:8080/"
        },
        "id": "cGgy3JoCWEs-",
        "outputId": "056d6bdf-8655-4cbc-819c-2fdb92a2303c"
      },
      "source": [
        "\n",
        "primary_person_use_df.select(count('*'),count(col('crash_id')),\n",
        "                             countDistinct(col('crash_id')),\n",
        "                             sum(when(lower(col('prsn_injry_sev_id')) == 'killed',1).otherwise(0)),\n",
        "\n",
        "                             sum(col('death_cnt'))\n",
        "                             ).show(10, False)"
      ],
      "execution_count": null,
      "outputs": [
        {
          "output_type": "stream",
          "text": [
            "+--------+---------------+------------------------+--------------------------------------------------------------------+--------------+\n",
            "|count(1)|count(crash_id)|count(DISTINCT crash_id)|sum(CASE WHEN (lower(prsn_injry_sev_id) = killed) THEN 1 ELSE 0 END)|sum(death_cnt)|\n",
            "+--------+---------------+------------------------+--------------------------------------------------------------------+--------------+\n",
            "|156954  |156954         |83805                   |246                                                                 |246           |\n",
            "+--------+---------------+------------------------+--------------------------------------------------------------------+--------------+\n",
            "\n"
          ],
          "name": "stdout"
        }
      ]
    },
    {
      "cell_type": "code",
      "metadata": {
        "colab": {
          "base_uri": "https://localhost:8080/"
        },
        "id": "bLLw8eZRWEwf",
        "outputId": "fef80dba-838b-4f4a-9c25-9d128bfbe579"
      },
      "source": [
        "# Analysis 1\n",
        "primary_person_use_df.where((lower(col('prsn_injry_sev_id')) == 'killed') & (lower(col('prsn_gndr_id')) == 'male'))\\\n",
        ".select(col('crash_id')).distinct().count()"
      ],
      "execution_count": 19,
      "outputs": [
        {
          "output_type": "execute_result",
          "data": {
            "text/plain": [
              "180"
            ]
          },
          "metadata": {
            "tags": []
          },
          "execution_count": 19
        }
      ]
    },
    {
      "cell_type": "code",
      "metadata": {
        "id": "uVS0fjNgdFLT"
      },
      "source": [
        ""
      ],
      "execution_count": null,
      "outputs": []
    },
    {
      "cell_type": "code",
      "metadata": {
        "id": "GkjjkzAjdFUU"
      },
      "source": [
        ""
      ],
      "execution_count": null,
      "outputs": []
    },
    {
      "cell_type": "code",
      "metadata": {
        "id": "2Z15qFJNj2TW"
      },
      "source": [
        ""
      ],
      "execution_count": null,
      "outputs": []
    },
    {
      "cell_type": "code",
      "metadata": {
        "colab": {
          "base_uri": "https://localhost:8080/"
        },
        "id": "527zZW9AkQ3J",
        "outputId": "4e413982-1614-4175-9cec-32aee4a707e1"
      },
      "source": [
        "# Analysis 3\n",
        "\n",
        "fem_crash_state_df = primary_person_use_df.where((lower(col('prsn_gndr_id')) == 'female') \n",
        "                  & (~ lower(col('drvr_lic_state_id')).isin('na', 'unknown')))\\\n",
        "                    .groupBy(lower(col('drvr_lic_state_id')).alias('drvr_lic_state_id'))\\\n",
        "                      .agg(countDistinct(col('crash_id')).alias(\"num_crashes\")).orderBy(col(\"num_crashes\").desc())\n",
        "\n",
        "window_crash_rank = Window.orderBy(col('num_crashes').desc())\n",
        "\n",
        "max_female_crash_state_df =fem_crash_state_df.withColumn(\"rank\", rank().over(window_crash_rank))\\\n",
        ".where(\"rank = 1\").select(col('drvr_lic_state_id').alias(\"max_female_crash_state\"))\n",
        "\n",
        "max_female_crash_state_df.show(10, False)"
      ],
      "execution_count": 21,
      "outputs": [
        {
          "output_type": "stream",
          "text": [
            "+----------------------+\n",
            "|max_female_crash_state|\n",
            "+----------------------+\n",
            "|texas                 |\n",
            "+----------------------+\n",
            "\n"
          ],
          "name": "stdout"
        }
      ]
    },
    {
      "cell_type": "code",
      "metadata": {
        "id": "CusZl1SBk12U"
      },
      "source": [
        ""
      ],
      "execution_count": null,
      "outputs": []
    },
    {
      "cell_type": "code",
      "metadata": {
        "colab": {
          "base_uri": "https://localhost:8080/"
        },
        "id": "dY4Sn9A9lO3z",
        "outputId": "473a1441-ad47-4981-a803-db526c6c269b"
      },
      "source": [
        "#Analysis4\n",
        "\n",
        "win_spec_veh_inj_cnt = Window.orderBy(col(\"veh_inj_cnt\").desc())\n",
        "top_veh_make_id = units_use_df.where(lower(col('veh_make_id')) != 'na').groupBy(\"veh_make_id\").agg(sum(col('tot_injry_cnt')).alias(\"veh_inj_cnt\"))\\\n",
        "      .withColumn(\"rank\", dense_rank().over(win_spec_veh_inj_cnt)).select(col('veh_make_id'), col('rank')).where(\"rank >=5 and rank <= 15\")\n",
        "\n",
        "top_veh_make_id.show(100, False)"
      ],
      "execution_count": 40,
      "outputs": [
        {
          "output_type": "stream",
          "text": [
            "+-----------+----+\n",
            "|veh_make_id|rank|\n",
            "+-----------+----+\n",
            "|NISSAN     |5   |\n",
            "|HONDA      |6   |\n",
            "|GMC        |7   |\n",
            "|HYUNDAI    |8   |\n",
            "|KIA        |9   |\n",
            "|JEEP       |10  |\n",
            "|CHRYSLER   |11  |\n",
            "|MAZDA      |12  |\n",
            "|VOLKSWAGEN |13  |\n",
            "|PONTIAC    |14  |\n",
            "|LEXUS      |15  |\n",
            "+-----------+----+\n",
            "\n"
          ],
          "name": "stdout"
        }
      ]
    },
    {
      "cell_type": "code",
      "metadata": {
        "colab": {
          "base_uri": "https://localhost:8080/"
        },
        "id": "pwjid2pjFNk1",
        "outputId": "821751fa-7f9f-485c-a164-e45e5b3863f1"
      },
      "source": [
        "#Analysis5\n",
        "#prsn_ethnicity_id shouldnot be na, unknown etc\n",
        "\n",
        "#win_spec_veh_sty_eth = Window.partitionBy(col('veh_body_styl_id')).orderBy()\n",
        "comp_df = units_use_df.where(~lower(col('veh_body_styl_id')).isin('na', 'not reported' ,'unknown'))\\\n",
        "      .join(primary_person_use_df, \"crash_id\", \"inner\")\\\n",
        "      .select(col('crash_id'),\n",
        "              upper(col('veh_body_styl_id')).alias('veh_body_styl_id'),\n",
        "              upper(col('prsn_ethnicity_id')).alias('prsn_ethnicity_id'))\n",
        "#comp_df.show(10, False)\n",
        "\n",
        "agg_comp_df = comp_df.groupBy(col('veh_body_styl_id'), col('prsn_ethnicity_id')).agg(countDistinct(col('crash_id')).alias('cnt_dis_crash_id')).orderBy(col('veh_body_styl_id'))\n",
        "\n",
        "#agg_comp_df.show(100, False)\n",
        "\n",
        "win_spec_veh_sty_eth = Window.partitionBy(col('veh_body_styl_id')).orderBy(col('cnt_dis_crash_id').desc())\n",
        "\n",
        "top_prsn_ethnicity_id_df = agg_comp_df.withColumn(\"rank\", dense_rank().over(win_spec_veh_sty_eth))\\\n",
        "      .where(col('rank') == 1)\\\n",
        "      .select(col('veh_body_styl_id'), col('prsn_ethnicity_id').alias('top_prsn_ethnicity_id'))\n",
        "\n",
        "top_prsn_ethnicity_id_df.show(100, False)"
      ],
      "execution_count": 46,
      "outputs": [
        {
          "output_type": "stream",
          "text": [
            "+---------------------------------+---------------------------+----------------+\n",
            "|veh_body_styl_id                 |prsn_ethnicity_id          |cnt_dis_crash_id|\n",
            "+---------------------------------+---------------------------+----------------+\n",
            "|AMBULANCE                        |HISPANIC                   |32              |\n",
            "|AMBULANCE                        |ASIAN                      |3               |\n",
            "|AMBULANCE                        |NA                         |1               |\n",
            "|AMBULANCE                        |OTHER                      |9               |\n",
            "|AMBULANCE                        |BLACK                      |23              |\n",
            "|AMBULANCE                        |WHITE                      |58              |\n",
            "|BUS                              |OTHER                      |8               |\n",
            "|BUS                              |UNKNOWN                    |3               |\n",
            "|BUS                              |HISPANIC                   |138             |\n",
            "|BUS                              |BLACK                      |106             |\n",
            "|BUS                              |ASIAN                      |15              |\n",
            "|BUS                              |WHITE                      |129             |\n",
            "|BUS                              |NA                         |1               |\n",
            "|FARM EQUIPMENT                   |OTHER                      |2               |\n",
            "|FARM EQUIPMENT                   |WHITE                      |32              |\n",
            "|FARM EQUIPMENT                   |UNKNOWN                    |1               |\n",
            "|FARM EQUIPMENT                   |HISPANIC                   |24              |\n",
            "|FARM EQUIPMENT                   |BLACK                      |8               |\n",
            "|FIRE TRUCK                       |OTHER                      |1               |\n",
            "|FIRE TRUCK                       |WHITE                      |52              |\n",
            "|FIRE TRUCK                       |UNKNOWN                    |1               |\n",
            "|FIRE TRUCK                       |BLACK                      |12              |\n",
            "|FIRE TRUCK                       |ASIAN                      |2               |\n",
            "|FIRE TRUCK                       |NA                         |2               |\n",
            "|FIRE TRUCK                       |HISPANIC                   |25              |\n",
            "|MOTORCYCLE                       |WHITE                      |560             |\n",
            "|MOTORCYCLE                       |HISPANIC                   |280             |\n",
            "|MOTORCYCLE                       |NA                         |2               |\n",
            "|MOTORCYCLE                       |OTHER                      |14              |\n",
            "|MOTORCYCLE                       |BLACK                      |139             |\n",
            "|MOTORCYCLE                       |ASIAN                      |17              |\n",
            "|MOTORCYCLE                       |UNKNOWN                    |19              |\n",
            "|NEV-NEIGHBORHOOD ELECTRIC VEHICLE|WHITE                      |3               |\n",
            "|NEV-NEIGHBORHOOD ELECTRIC VEHICLE|HISPANIC                   |1               |\n",
            "|NEV-NEIGHBORHOOD ELECTRIC VEHICLE|BLACK                      |1               |\n",
            "|OTHER  (EXPLAIN IN NARRATIVE)    |NA                         |2               |\n",
            "|OTHER  (EXPLAIN IN NARRATIVE)    |ASIAN                      |10              |\n",
            "|OTHER  (EXPLAIN IN NARRATIVE)    |AMER. INDIAN/ALASKAN NATIVE|1               |\n",
            "|OTHER  (EXPLAIN IN NARRATIVE)    |OTHER                      |10              |\n",
            "|OTHER  (EXPLAIN IN NARRATIVE)    |BLACK                      |113             |\n",
            "|OTHER  (EXPLAIN IN NARRATIVE)    |WHITE                      |238             |\n",
            "|OTHER  (EXPLAIN IN NARRATIVE)    |HISPANIC                   |199             |\n",
            "|OTHER  (EXPLAIN IN NARRATIVE)    |UNKNOWN                    |5               |\n",
            "|PASSENGER CAR, 2-DOOR            |OTHER                      |420             |\n",
            "|PASSENGER CAR, 2-DOOR            |UNKNOWN                    |203             |\n",
            "|PASSENGER CAR, 2-DOOR            |ASIAN                      |599             |\n",
            "|PASSENGER CAR, 2-DOOR            |HISPANIC                   |5294            |\n",
            "|PASSENGER CAR, 2-DOOR            |NA                         |33              |\n",
            "|PASSENGER CAR, 2-DOOR            |WHITE                      |6319            |\n",
            "|PASSENGER CAR, 2-DOOR            |BLACK                      |2512            |\n",
            "|PASSENGER CAR, 2-DOOR            |AMER. INDIAN/ALASKAN NATIVE|26              |\n",
            "|PASSENGER CAR, 4-DOOR            |ASIAN                      |3317            |\n",
            "|PASSENGER CAR, 4-DOOR            |HISPANIC                   |23829           |\n",
            "|PASSENGER CAR, 4-DOOR            |UNKNOWN                    |967             |\n",
            "|PASSENGER CAR, 4-DOOR            |OTHER                      |2118            |\n",
            "|PASSENGER CAR, 4-DOOR            |WHITE                      |29351           |\n",
            "|PASSENGER CAR, 4-DOOR            |BLACK                      |14484           |\n",
            "|PASSENGER CAR, 4-DOOR            |NA                         |184             |\n",
            "|PASSENGER CAR, 4-DOOR            |AMER. INDIAN/ALASKAN NATIVE|146             |\n",
            "|PICKUP                           |HISPANIC                   |15199           |\n",
            "|PICKUP                           |AMER. INDIAN/ALASKAN NATIVE|62              |\n",
            "|PICKUP                           |WHITE                      |20792           |\n",
            "|PICKUP                           |NA                         |98              |\n",
            "|PICKUP                           |ASIAN                      |1058            |\n",
            "|PICKUP                           |BLACK                      |5849            |\n",
            "|PICKUP                           |OTHER                      |993             |\n",
            "|PICKUP                           |UNKNOWN                    |504             |\n",
            "|POLICE CAR/TRUCK                 |OTHER                      |16              |\n",
            "|POLICE CAR/TRUCK                 |NA                         |2               |\n",
            "|POLICE CAR/TRUCK                 |WHITE                      |252             |\n",
            "|POLICE CAR/TRUCK                 |BLACK                      |116             |\n",
            "|POLICE CAR/TRUCK                 |HISPANIC                   |157             |\n",
            "|POLICE CAR/TRUCK                 |UNKNOWN                    |3               |\n",
            "|POLICE CAR/TRUCK                 |ASIAN                      |22              |\n",
            "|POLICE MOTORCYCLE                |HISPANIC                   |3               |\n",
            "|POLICE MOTORCYCLE                |WHITE                      |2               |\n",
            "|POLICE MOTORCYCLE                |BLACK                      |1               |\n",
            "|SPORT UTILITY VEHICLE            |UNKNOWN                    |463             |\n",
            "|SPORT UTILITY VEHICLE            |HISPANIC                   |13807           |\n",
            "|SPORT UTILITY VEHICLE            |BLACK                      |6977            |\n",
            "|SPORT UTILITY VEHICLE            |WHITE                      |18157           |\n",
            "|SPORT UTILITY VEHICLE            |ASIAN                      |1780            |\n",
            "|SPORT UTILITY VEHICLE            |AMER. INDIAN/ALASKAN NATIVE|72              |\n",
            "|SPORT UTILITY VEHICLE            |OTHER                      |1084            |\n",
            "|SPORT UTILITY VEHICLE            |NA                         |86              |\n",
            "|TRUCK                            |ASIAN                      |183             |\n",
            "|TRUCK                            |UNKNOWN                    |75              |\n",
            "|TRUCK                            |OTHER                      |159             |\n",
            "|TRUCK                            |NA                         |7               |\n",
            "|TRUCK                            |WHITE                      |2021            |\n",
            "|TRUCK                            |BLACK                      |938             |\n",
            "|TRUCK                            |AMER. INDIAN/ALASKAN NATIVE|11              |\n",
            "|TRUCK                            |HISPANIC                   |1760            |\n",
            "|TRUCK TRACTOR                    |ASIAN                      |98              |\n",
            "|TRUCK TRACTOR                    |OTHER                      |143             |\n",
            "|TRUCK TRACTOR                    |BLACK                      |867             |\n",
            "|TRUCK TRACTOR                    |UNKNOWN                    |53              |\n",
            "|TRUCK TRACTOR                    |WHITE                      |1858            |\n",
            "|TRUCK TRACTOR                    |AMER. INDIAN/ALASKAN NATIVE|8               |\n",
            "|TRUCK TRACTOR                    |NA                         |10              |\n",
            "+---------------------------------+---------------------------+----------------+\n",
            "only showing top 100 rows\n",
            "\n"
          ],
          "name": "stdout"
        }
      ]
    },
    {
      "cell_type": "code",
      "metadata": {
        "colab": {
          "base_uri": "https://localhost:8080/"
        },
        "id": "xOE9EVNvMDu_",
        "outputId": "38702aa8-bb23-40a1-a85d-ba72b670feb8"
      },
      "source": [
        ""
      ],
      "execution_count": 52,
      "outputs": [
        {
          "output_type": "stream",
          "text": [
            "+---------------------------------+---------------------+\n",
            "|veh_body_styl_id                 |top_prsn_ethnicity_id|\n",
            "+---------------------------------+---------------------+\n",
            "|AMBULANCE                        |WHITE                |\n",
            "|BUS                              |HISPANIC             |\n",
            "|FARM EQUIPMENT                   |WHITE                |\n",
            "|FIRE TRUCK                       |WHITE                |\n",
            "|MOTORCYCLE                       |WHITE                |\n",
            "|NEV-NEIGHBORHOOD ELECTRIC VEHICLE|WHITE                |\n",
            "|OTHER  (EXPLAIN IN NARRATIVE)    |WHITE                |\n",
            "|PASSENGER CAR, 2-DOOR            |WHITE                |\n",
            "|PASSENGER CAR, 4-DOOR            |WHITE                |\n",
            "|PICKUP                           |WHITE                |\n",
            "|POLICE CAR/TRUCK                 |WHITE                |\n",
            "|POLICE MOTORCYCLE                |HISPANIC             |\n",
            "|SPORT UTILITY VEHICLE            |WHITE                |\n",
            "|TRUCK                            |WHITE                |\n",
            "|TRUCK TRACTOR                    |WHITE                |\n",
            "|VAN                              |WHITE                |\n",
            "|YELLOW SCHOOL BUS                |WHITE                |\n",
            "+---------------------------------+---------------------+\n",
            "\n"
          ],
          "name": "stdout"
        }
      ]
    },
    {
      "cell_type": "code",
      "metadata": {
        "colab": {
          "base_uri": "https://localhost:8080/"
        },
        "id": "_l7bWQIdFNz5",
        "outputId": "56636783-dbc6-4847-91d0-239c79e1d0d2"
      },
      "source": [
        "\n",
        "\n",
        "units_use_df.where(~lower(col('veh_body_styl_id')).isin('na', 'not reported' ,'unknown'))\\\n",
        "      .select(col('veh_body_styl_id')).distinct().show(100, False)"
      ],
      "execution_count": 41,
      "outputs": [
        {
          "output_type": "stream",
          "text": [
            "+---------------------------------+\n",
            "|veh_body_styl_id                 |\n",
            "+---------------------------------+\n",
            "|BUS                              |\n",
            "|NA                               |\n",
            "|VAN                              |\n",
            "|PICKUP                           |\n",
            "|SPORT UTILITY VEHICLE            |\n",
            "|PASSENGER CAR, 4-DOOR            |\n",
            "|FIRE TRUCK                       |\n",
            "|TRUCK                            |\n",
            "|UNKNOWN                          |\n",
            "|AMBULANCE                        |\n",
            "|POLICE CAR/TRUCK                 |\n",
            "|MOTORCYCLE                       |\n",
            "|YELLOW SCHOOL BUS                |\n",
            "|POLICE MOTORCYCLE                |\n",
            "|PASSENGER CAR, 2-DOOR            |\n",
            "|TRUCK TRACTOR                    |\n",
            "|FARM EQUIPMENT                   |\n",
            "|NEV-NEIGHBORHOOD ELECTRIC VEHICLE|\n",
            "|OTHER  (EXPLAIN IN NARRATIVE)    |\n",
            "|NOT REPORTED                     |\n",
            "+---------------------------------+\n",
            "\n"
          ],
          "name": "stdout"
        }
      ]
    },
    {
      "cell_type": "code",
      "metadata": {
        "colab": {
          "base_uri": "https://localhost:8080/"
        },
        "id": "bm_tPHmcs3Ia",
        "outputId": "fb806481-b988-44b5-e5bb-5f9ae5a1a1ca"
      },
      "source": [
        "primary_person_use_df.select(count(\"*\"), countDistinct(col('crash_id')), sum(col('tot_injry_cnt'))).show(10, False)"
      ],
      "execution_count": 24,
      "outputs": [
        {
          "output_type": "stream",
          "text": [
            "+--------+------------------------+------------------+\n",
            "|count(1)|count(DISTINCT crash_id)|sum(tot_injry_cnt)|\n",
            "+--------+------------------------+------------------+\n",
            "|156954  |83805                   |33276             |\n",
            "+--------+------------------------+------------------+\n",
            "\n"
          ],
          "name": "stdout"
        }
      ]
    },
    {
      "cell_type": "code",
      "metadata": {
        "colab": {
          "base_uri": "https://localhost:8080/"
        },
        "id": "-Ih5fyALtK6r",
        "outputId": "ad77047a-e2ff-4571-c12a-da3b5ec8c937"
      },
      "source": [
        "primary_person_use_df.dropDuplicates().select(count(\"*\"), countDistinct(col('crash_id')), sum(col('tot_injry_cnt'))).show(10, False)"
      ],
      "execution_count": 25,
      "outputs": [
        {
          "output_type": "stream",
          "text": [
            "+--------+------------------------+------------------+\n",
            "|count(1)|count(DISTINCT crash_id)|sum(tot_injry_cnt)|\n",
            "+--------+------------------------+------------------+\n",
            "|156954  |83805                   |33276             |\n",
            "+--------+------------------------+------------------+\n",
            "\n"
          ],
          "name": "stdout"
        }
      ]
    },
    {
      "cell_type": "code",
      "metadata": {
        "colab": {
          "base_uri": "https://localhost:8080/"
        },
        "id": "-6dCD7MOtd6o",
        "outputId": "773f8751-dd8f-4dfa-b843-d8cc28c4cda0"
      },
      "source": [
        "primary_person_use_df.orderBy(\"crash_id\").show(100, False)"
      ],
      "execution_count": 26,
      "outputs": [
        {
          "output_type": "stream",
          "text": [
            "+--------+--------+--------+---------------------------------+------------------+-------------------------+--------+-----------------+------------+--------------+-------------------+-----------------+-----------------+-----------+---------------------+----------------+------------------+---------------------+----------------+-----------------+---------------+---------------+------------------+--------------+-------------+--------------+-------------+---------+----------------------+-----------------+------------------+--------+\n",
            "|CRASH_ID|UNIT_NBR|PRSN_NBR|PRSN_TYPE_ID                     |PRSN_OCCPNT_POS_ID|PRSN_INJRY_SEV_ID        |PRSN_AGE|PRSN_ETHNICITY_ID|PRSN_GNDR_ID|PRSN_EJCT_ID  |PRSN_REST_ID       |PRSN_AIRBAG_ID   |PRSN_HELMET_ID   |PRSN_SOL_FL|PRSN_ALC_SPEC_TYPE_ID|PRSN_ALC_RSLT_ID|PRSN_BAC_TEST_RSLT|PRSN_DRG_SPEC_TYPE_ID|PRSN_DRG_RSLT_ID|DRVR_DRG_CAT_1_ID|PRSN_DEATH_TIME|INCAP_INJRY_CNT|NONINCAP_INJRY_CNT|POSS_INJRY_CNT|NON_INJRY_CNT|UNKN_INJRY_CNT|TOT_INJRY_CNT|DEATH_CNT|DRVR_LIC_TYPE_ID      |DRVR_LIC_STATE_ID|DRVR_LIC_CLS_ID   |DRVR_ZIP|\n",
            "+--------+--------+--------+---------------------------------+------------------+-------------------------+--------+-----------------+------------+--------------+-------------------+-----------------+-----------------+-----------+---------------------+----------------+------------------+---------------------+----------------+-----------------+---------------+---------------+------------------+--------------+-------------+--------------+-------------+---------+----------------------+-----------------+------------------+--------+\n",
            "|13403990|1       |1       |DRIVER                           |FRONT LEFT        |POSSIBLE INJURY          |74      |BLACK            |FEMALE      |NO            |SHOULDER & LAP BELT|NOT DEPLOYED     |NOT APPLICABLE   |N          |NONE                 |NA              |NA                |NONE                 |NOT APPLICABLE  |NOT APPLICABLE   |null           |0              |0                 |1             |0            |0             |1            |0        |DRIVER LICENSE        |Texas            |CLASS C           |75951   |\n",
            "|14504626|1       |1       |DRIVER                           |FRONT LEFT        |NOT INJURED              |20      |HISPANIC         |MALE        |NO            |SHOULDER & LAP BELT|DEPLOYED, FRONT  |NOT APPLICABLE   |N          |NONE                 |NA              |NA                |NONE                 |NOT APPLICABLE  |NOT APPLICABLE   |null           |0              |0                 |0             |1            |0             |0            |0        |ID CARD               |Texas            |UNLICENSED        |79938   |\n",
            "|14504626|2       |1       |DRIVER OF MOTORCYCLE TYPE VEHICLE|FRONT LEFT        |POSSIBLE INJURY          |37      |BLACK            |MALE        |NOT APPLICABLE|NOT APPLICABLE     |NOT APPLICABLE   |WORN, NOT DAMAGED|N          |NONE                 |NA              |NA                |NONE                 |NOT APPLICABLE  |NOT APPLICABLE   |null           |0              |0                 |1             |0            |0             |1            |0        |DRIVER LICENSE        |Texas            |CLASS C           |79938   |\n",
            "|14673345|2       |1       |DRIVER OF MOTORCYCLE TYPE VEHICLE|FRONT LEFT        |POSSIBLE INJURY          |60      |HISPANIC         |MALE        |NOT APPLICABLE|NOT APPLICABLE     |NOT APPLICABLE   |WORN, DAMAGED    |N          |NONE                 |NA              |NA                |NONE                 |NOT APPLICABLE  |NOT APPLICABLE   |null           |0              |0                 |1             |0            |0             |1            |0        |DRIVER LICENSE        |Texas            |CLASS A AND M     |78384   |\n",
            "|14673345|1       |1       |DRIVER                           |FRONT LEFT        |NOT INJURED              |81      |HISPANIC         |MALE        |NO            |SHOULDER & LAP BELT|NOT DEPLOYED     |NOT APPLICABLE   |N          |NONE                 |NA              |NA                |NONE                 |NOT APPLICABLE  |NOT APPLICABLE   |null           |0              |0                 |0             |1            |0             |0            |0        |DRIVER LICENSE        |Texas            |CLASS C           |78332   |\n",
            "|14768622|1       |1       |DRIVER                           |FRONT LEFT        |NOT INJURED              |27      |HISPANIC         |MALE        |NO            |NONE               |DEPLOYED MULTIPLE|NOT APPLICABLE   |N          |BLOOD                |Positive        |0.225             |NONE                 |NOT APPLICABLE  |NOT APPLICABLE   |null           |0              |0                 |0             |1            |0             |0            |0        |DRIVER LICENSE        |Texas            |CLASS C           |77357   |\n",
            "|14838637|2       |1       |DRIVER                           |FRONT LEFT        |NOT INJURED              |41      |BLACK            |MALE        |NO            |SHOULDER & LAP BELT|NOT DEPLOYED     |NOT APPLICABLE   |N          |NONE                 |NA              |NA                |NONE                 |NOT APPLICABLE  |NOT APPLICABLE   |null           |0              |0                 |0             |1            |0             |0            |0        |COMMERCIAL DRIVER LIC.|Texas            |CLASS A           |78934   |\n",
            "|14838637|1       |1       |DRIVER                           |FRONT LEFT        |NOT INJURED              |31      |WHITE            |MALE        |NO            |SHOULDER & LAP BELT|NOT DEPLOYED     |NOT APPLICABLE   |N          |BREATH               |Positive        |0.21              |NONE                 |NOT APPLICABLE  |NOT APPLICABLE   |null           |0              |0                 |0             |1            |0             |0            |0        |DRIVER LICENSE        |New York         |OTHER/OUT OF STATE|13830   |\n",
            "|14838641|1       |1       |DRIVER                           |FRONT LEFT        |POSSIBLE INJURY          |32      |WHITE            |MALE        |NO            |SHOULDER & LAP BELT|DEPLOYED MULTIPLE|NOT APPLICABLE   |N          |NONE                 |NA              |NA                |NONE                 |NOT APPLICABLE  |NOT APPLICABLE   |null           |0              |0                 |1             |0            |0             |1            |0        |DRIVER LICENSE        |Texas            |CLASS C           |76520   |\n",
            "|14838641|2       |1       |DRIVER                           |FRONT LEFT        |NON-INCAPACITATING INJURY|34      |BLACK            |FEMALE      |NO            |SHOULDER & LAP BELT|DEPLOYED MULTIPLE|NOT APPLICABLE   |N          |NONE                 |NA              |NA                |NONE                 |NOT APPLICABLE  |NOT APPLICABLE   |null           |0              |1                 |0             |0            |0             |1            |0        |ID CARD               |Texas            |UNLICENSED        |76707   |\n",
            "|14838668|1       |1       |DRIVER                           |FRONT LEFT        |NOT INJURED              |24      |HISPANIC         |MALE        |NO            |SHOULDER & LAP BELT|DEPLOYED, FRONT  |NOT APPLICABLE   |N          |BREATH               |Positive        |0.178             |NONE                 |NOT APPLICABLE  |NOT APPLICABLE   |null           |0              |0                 |0             |1            |0             |0            |0        |DRIVER LICENSE        |Texas            |CLASS C           |78076   |\n",
            "|14838669|2       |1       |DRIVER                           |FRONT LEFT        |NOT INJURED              |24      |WHITE            |MALE        |NO            |UNKNOWN            |DEPLOYED, FRONT  |NOT APPLICABLE   |N          |BREATH               |Positive        |0.219             |NONE                 |NOT APPLICABLE  |NOT APPLICABLE   |null           |0              |0                 |0             |1            |0             |0            |0        |DRIVER LICENSE        |Texas            |CLASS C           |76118   |\n",
            "|14838669|1       |1       |DRIVER                           |FRONT LEFT        |NOT INJURED              |53      |WHITE            |MALE        |NO            |SHOULDER & LAP BELT|NOT DEPLOYED     |NOT APPLICABLE   |N          |NONE                 |NA              |NA                |NONE                 |NOT APPLICABLE  |NOT APPLICABLE   |null           |0              |0                 |0             |1            |0             |0            |0        |DRIVER LICENSE        |Texas            |CLASS C           |76053   |\n",
            "|14838670|1       |1       |DRIVER                           |FRONT LEFT        |NOT INJURED              |23      |WHITE            |MALE        |NO            |NONE               |NOT DEPLOYED     |NOT APPLICABLE   |N          |BLOOD                |Positive        |0.16              |BLOOD                |UNKNOWN         |UNKNOWN          |null           |0              |0                 |0             |1            |0             |0            |0        |DRIVER LICENSE        |Texas            |CLASS C           |75050   |\n",
            "|14838685|1       |1       |DRIVER                           |FRONT LEFT        |NOT INJURED              |27      |BLACK            |FEMALE      |NO            |SHOULDER & LAP BELT|NOT DEPLOYED     |NOT APPLICABLE   |N          |NONE                 |NA              |NA                |NONE                 |NOT APPLICABLE  |NOT APPLICABLE   |null           |0              |0                 |0             |1            |0             |0            |0        |ID CARD               |Texas            |UNLICENSED        |77033   |\n",
            "|14838693|1       |1       |DRIVER                           |FRONT LEFT        |NOT INJURED              |52      |HISPANIC         |MALE        |NO            |SHOULDER & LAP BELT|NOT DEPLOYED     |NOT APPLICABLE   |N          |BREATH               |Positive        |0.193             |NONE                 |NOT APPLICABLE  |NOT APPLICABLE   |null           |0              |0                 |0             |1            |0             |0            |0        |DRIVER LICENSE        |Texas            |CLASS C           |78564   |\n",
            "|14838768|1       |1       |DRIVER                           |FRONT LEFT        |NOT INJURED              |20      |ASIAN            |MALE        |NO            |SHOULDER & LAP BELT|DEPLOYED MULTIPLE|NOT APPLICABLE   |N          |NONE                 |NA              |NA                |NONE                 |NOT APPLICABLE  |NOT APPLICABLE   |null           |0              |0                 |0             |1            |0             |0            |0        |DRIVER LICENSE        |California       |OTHER/OUT OF STATE|77090   |\n",
            "|14838768|2       |1       |DRIVER                           |FRONT LEFT        |NOT INJURED              |55      |HISPANIC         |FEMALE      |NO            |SHOULDER & LAP BELT|NOT DEPLOYED     |NOT APPLICABLE   |N          |BLOOD                |Negative        |0                 |NONE                 |NOT APPLICABLE  |NOT APPLICABLE   |null           |0              |0                 |0             |1            |0             |0            |0        |DRIVER LICENSE        |Texas            |CLASS C           |77080   |\n",
            "|14838834|1       |1       |DRIVER                           |FRONT LEFT        |NOT INJURED              |20      |HISPANIC         |MALE        |NO            |UNKNOWN            |DEPLOYED, FRONT  |NOT APPLICABLE   |N          |NONE                 |NA              |NA                |NONE                 |NOT APPLICABLE  |NOT APPLICABLE   |null           |0              |0                 |0             |1            |0             |0            |0        |UNKNOWN               |Unknown          |UNKNOWN           |79107   |\n",
            "|14838841|1       |1       |DRIVER                           |FRONT LEFT        |NOT INJURED              |25      |HISPANIC         |FEMALE      |UNKNOWN       |UNKNOWN            |NOT DEPLOYED     |NOT APPLICABLE   |N          |NONE                 |NA              |NA                |NONE                 |NOT APPLICABLE  |NOT APPLICABLE   |null           |0              |0                 |0             |1            |0             |0            |0        |DRIVER LICENSE        |Texas            |CLASS C           |79412   |\n",
            "|14838842|2       |1       |DRIVER                           |FRONT LEFT        |NOT INJURED              |34      |HISPANIC         |FEMALE      |NO            |SHOULDER & LAP BELT|NOT DEPLOYED     |NOT APPLICABLE   |N          |NONE                 |NA              |NA                |NONE                 |NOT APPLICABLE  |NOT APPLICABLE   |null           |0              |0                 |0             |1            |0             |0            |0        |DRIVER LICENSE        |Texas            |CLASS C           |79401   |\n",
            "|14838842|1       |1       |DRIVER                           |FRONT LEFT        |NOT INJURED              |41      |HISPANIC         |FEMALE      |NO            |UNKNOWN            |NOT DEPLOYED     |NOT APPLICABLE   |N          |NONE                 |NA              |NA                |NONE                 |NOT APPLICABLE  |NOT APPLICABLE   |null           |0              |0                 |0             |1            |0             |0            |0        |DRIVER LICENSE        |Texas            |CLASS C           |79403   |\n",
            "|14838866|1       |1       |DRIVER                           |FRONT LEFT        |POSSIBLE INJURY          |44      |WHITE            |MALE        |NO            |SHOULDER & LAP BELT|DEPLOYED, FRONT  |NOT APPLICABLE   |N          |NONE                 |NA              |NA                |NONE                 |NOT APPLICABLE  |NOT APPLICABLE   |null           |0              |0                 |1             |0            |0             |1            |0        |DRIVER LICENSE        |Texas            |CLASS C           |76705   |\n",
            "|14838877|1       |1       |DRIVER                           |FRONT LEFT        |NOT INJURED              |39      |WHITE            |MALE        |NO            |NONE               |NOT DEPLOYED     |NOT APPLICABLE   |N          |BLOOD                |Positive        |0.21              |BLOOD                |NOT APPLICABLE  |NOT APPLICABLE   |null           |0              |0                 |0             |1            |0             |0            |0        |DRIVER LICENSE        |Texas            |CLASS C           |76247   |\n",
            "|14838972|1       |1       |DRIVER                           |FRONT LEFT        |NOT INJURED              |59      |WHITE            |MALE        |NO            |SHOULDER & LAP BELT|NOT DEPLOYED     |NOT APPLICABLE   |N          |NONE                 |NA              |NA                |NONE                 |NOT APPLICABLE  |NOT APPLICABLE   |null           |0              |0                 |0             |1            |0             |0            |0        |DRIVER LICENSE        |Texas            |CLASS C           |78578   |\n",
            "|14838972|2       |1       |DRIVER                           |FRONT LEFT        |NOT INJURED              |19      |WHITE            |MALE        |NO            |SHOULDER & LAP BELT|NOT DEPLOYED     |NOT APPLICABLE   |N          |NONE                 |NA              |NA                |NONE                 |NOT APPLICABLE  |NOT APPLICABLE   |null           |0              |0                 |0             |1            |0             |0            |0        |DRIVER LICENSE        |Texas            |CLASS C           |75067   |\n",
            "|14838977|1       |1       |DRIVER                           |FRONT LEFT        |NOT INJURED              |21      |WHITE            |MALE        |NO            |SHOULDER & LAP BELT|DEPLOYED, FRONT  |NOT APPLICABLE   |N          |NONE                 |NA              |NA                |NONE                 |NOT APPLICABLE  |NOT APPLICABLE   |null           |0              |0                 |0             |1            |0             |0            |0        |DRIVER LICENSE        |Texas            |CLASS C           |78751   |\n",
            "|14839046|1       |1       |DRIVER                           |FRONT LEFT        |NOT INJURED              |42      |HISPANIC         |MALE        |NO            |SHOULDER & LAP BELT|NOT DEPLOYED     |NOT APPLICABLE   |N          |NONE                 |NA              |NA                |NONE                 |NOT APPLICABLE  |NOT APPLICABLE   |null           |0              |0                 |0             |1            |0             |0            |0        |DRIVER LICENSE        |Texas            |CLASS C           |78259   |\n",
            "|14839046|2       |1       |DRIVER                           |FRONT LEFT        |NOT INJURED              |NA      |WHITE            |FEMALE      |NO            |SHOULDER & LAP BELT|NOT DEPLOYED     |NOT APPLICABLE   |N          |NONE                 |NA              |NA                |NONE                 |NOT APPLICABLE  |NOT APPLICABLE   |null           |0              |0                 |0             |1            |0             |0            |0        |DRIVER LICENSE        |Texas            |CLASS C           |78230   |\n",
            "|14839047|1       |1       |DRIVER                           |FRONT LEFT        |NOT INJURED              |35      |BLACK            |MALE        |NO            |SHOULDER & LAP BELT|NOT DEPLOYED     |NOT APPLICABLE   |N          |BREATH               |Positive        |0.143             |NONE                 |NOT APPLICABLE  |NOT APPLICABLE   |null           |0              |0                 |0             |1            |0             |0            |0        |DRIVER LICENSE        |Texas            |CLASS C           |76101   |\n",
            "|14839048|1       |1       |DRIVER                           |FRONT LEFT        |NOT INJURED              |30      |BLACK            |MALE        |NO            |SHOULDER & LAP BELT|NOT DEPLOYED     |NOT APPLICABLE   |N          |BREATH               |Positive        |0.14              |NONE                 |NOT APPLICABLE  |NOT APPLICABLE   |null           |0              |0                 |0             |1            |0             |0            |0        |DRIVER LICENSE        |Texas            |CLASS C           |76010   |\n",
            "|14839097|2       |1       |DRIVER                           |FRONT LEFT        |NOT INJURED              |42      |HISPANIC         |MALE        |NO            |SHOULDER & LAP BELT|NOT DEPLOYED     |NOT APPLICABLE   |N          |NONE                 |NA              |NA                |NONE                 |NOT APPLICABLE  |NOT APPLICABLE   |null           |0              |0                 |0             |1            |0             |0            |0        |ID CARD               |Texas            |UNLICENSED        |78254   |\n",
            "|14839097|3       |1       |DRIVER                           |FRONT LEFT        |NOT INJURED              |26      |WHITE            |FEMALE      |NO            |SHOULDER & LAP BELT|NOT DEPLOYED     |NOT APPLICABLE   |N          |NONE                 |NA              |NA                |NONE                 |NOT APPLICABLE  |NOT APPLICABLE   |null           |0              |0                 |0             |1            |0             |0            |0        |DRIVER LICENSE        |Texas            |CLASS A           |78240   |\n",
            "|14839097|1       |1       |DRIVER                           |FRONT LEFT        |NOT INJURED              |22      |HISPANIC         |MALE        |NO            |SHOULDER & LAP BELT|NOT DEPLOYED     |NOT APPLICABLE   |N          |NONE                 |NA              |NA                |NONE                 |NOT APPLICABLE  |NOT APPLICABLE   |null           |0              |0                 |0             |1            |0             |0            |0        |DRIVER LICENSE        |Texas            |CLASS C           |78744   |\n",
            "|14839100|2       |1       |DRIVER                           |FRONT LEFT        |NOT INJURED              |55      |HISPANIC         |MALE        |NO            |SHOULDER & LAP BELT|NOT DEPLOYED     |NOT APPLICABLE   |N          |NONE                 |NA              |NA                |NONE                 |NOT APPLICABLE  |NOT APPLICABLE   |null           |0              |0                 |0             |1            |0             |0            |0        |ID CARD               |Texas            |UNLICENSED        |78227   |\n",
            "|14839100|1       |1       |DRIVER                           |FRONT LEFT        |NOT INJURED              |23      |HISPANIC         |MALE        |NO            |SHOULDER & LAP BELT|NOT DEPLOYED     |NOT APPLICABLE   |N          |NONE                 |NA              |NA                |NONE                 |NOT APPLICABLE  |NOT APPLICABLE   |null           |0              |0                 |0             |1            |0             |0            |0        |DRIVER LICENSE        |Texas            |CLASS C           |78220   |\n",
            "|14839166|1       |1       |DRIVER                           |FRONT LEFT        |NOT INJURED              |24      |HISPANIC         |MALE        |NO            |SHOULDER & LAP BELT|NOT DEPLOYED     |NOT APPLICABLE   |N          |NONE                 |NA              |NA                |NONE                 |NOT APPLICABLE  |NOT APPLICABLE   |null           |0              |0                 |0             |1            |0             |0            |0        |UNLICENSED            |NA               |UNLICENSED        |78247   |\n",
            "|14839211|2       |1       |DRIVER                           |FRONT LEFT        |NOT INJURED              |30      |HISPANIC         |MALE        |NO            |SHOULDER & LAP BELT|NOT DEPLOYED     |NOT APPLICABLE   |N          |NONE                 |NA              |NA                |NONE                 |NOT APPLICABLE  |NOT APPLICABLE   |null           |0              |0                 |0             |1            |0             |0            |0        |DRIVER LICENSE        |Texas            |CLASS C           |78237   |\n",
            "|14839211|1       |1       |DRIVER                           |FRONT LEFT        |POSSIBLE INJURY          |52      |HISPANIC         |MALE        |NO            |SHOULDER & LAP BELT|NOT DEPLOYED     |NOT APPLICABLE   |N          |NONE                 |NA              |NA                |NONE                 |NOT APPLICABLE  |NOT APPLICABLE   |null           |0              |0                 |1             |0            |0             |1            |0        |DRIVER LICENSE        |Texas            |CLASS C           |78207   |\n",
            "|14839233|1       |1       |DRIVER                           |FRONT LEFT        |UNKNOWN                  |19      |WHITE            |MALE        |NO            |UNKNOWN            |NOT DEPLOYED     |NOT APPLICABLE   |N          |NONE                 |NA              |NA                |NONE                 |NOT APPLICABLE  |NOT APPLICABLE   |null           |0              |0                 |0             |0            |1             |0            |0        |DRIVER LICENSE        |Texas            |CLASS C           |78146   |\n",
            "|14839240|2       |1       |DRIVER                           |FRONT LEFT        |NOT INJURED              |22      |BLACK            |MALE        |NO            |SHOULDER & LAP BELT|NOT DEPLOYED     |NOT APPLICABLE   |N          |NONE                 |NA              |NA                |NONE                 |NOT APPLICABLE  |NOT APPLICABLE   |null           |0              |0                 |0             |1            |0             |0            |0        |DRIVER LICENSE        |Texas            |CLASS C           |75668   |\n",
            "|14839240|3       |1       |DRIVER                           |FRONT LEFT        |NOT INJURED              |19      |BLACK            |FEMALE      |NO            |SHOULDER & LAP BELT|NOT DEPLOYED     |NOT APPLICABLE   |N          |NONE                 |NA              |NA                |NONE                 |NOT APPLICABLE  |NOT APPLICABLE   |null           |0              |0                 |0             |1            |0             |0            |0        |DRIVER LICENSE        |Texas            |CLASS C           |77459   |\n",
            "|14839240|1       |1       |DRIVER                           |FRONT LEFT        |NOT INJURED              |24      |BLACK            |FEMALE      |NO            |SHOULDER & LAP BELT|NOT DEPLOYED     |NOT APPLICABLE   |N          |NONE                 |NA              |NA                |NONE                 |NOT APPLICABLE  |NOT APPLICABLE   |null           |0              |0                 |0             |1            |0             |0            |0        |ID CARD               |Texas            |UNLICENSED        |77083   |\n",
            "|14839272|2       |1       |DRIVER                           |FRONT LEFT        |NOT INJURED              |35      |BLACK            |FEMALE      |NO            |SHOULDER & LAP BELT|NOT DEPLOYED     |NOT APPLICABLE   |N          |NONE                 |NA              |NA                |NONE                 |NOT APPLICABLE  |NOT APPLICABLE   |null           |0              |0                 |0             |1            |0             |0            |0        |DRIVER LICENSE        |Texas            |CLASS C           |75709   |\n",
            "|14839272|1       |1       |DRIVER                           |FRONT LEFT        |NOT INJURED              |21      |WHITE            |FEMALE      |NO            |SHOULDER & LAP BELT|NOT DEPLOYED     |NOT APPLICABLE   |N          |NONE                 |NA              |NA                |NONE                 |NOT APPLICABLE  |NOT APPLICABLE   |null           |0              |0                 |0             |1            |0             |0            |0        |DRIVER LICENSE        |Texas            |CLASS C           |75707   |\n",
            "|14839307|2       |1       |DRIVER                           |FRONT LEFT        |NOT INJURED              |23      |WHITE            |FEMALE      |NO            |SHOULDER & LAP BELT|NOT DEPLOYED     |NOT APPLICABLE   |N          |NONE                 |NA              |NA                |NONE                 |NOT APPLICABLE  |NOT APPLICABLE   |null           |0              |0                 |0             |1            |0             |0            |0        |DRIVER LICENSE        |Texas            |CLASS C           |78734   |\n",
            "|14839307|1       |1       |DRIVER                           |FRONT LEFT        |NOT INJURED              |30      |WHITE            |MALE        |NO            |SHOULDER & LAP BELT|NOT DEPLOYED     |NOT APPLICABLE   |N          |BLOOD                |Positive        |0.14              |NONE                 |NOT APPLICABLE  |NOT APPLICABLE   |null           |0              |0                 |0             |1            |0             |0            |0        |DRIVER LICENSE        |Texas            |CLASS C           |78660   |\n",
            "|14839314|1       |1       |DRIVER                           |FRONT LEFT        |NOT INJURED              |29      |WHITE            |MALE        |NO            |SHOULDER & LAP BELT|DEPLOYED, FRONT  |NOT APPLICABLE   |N          |NONE                 |NA              |NA                |NONE                 |NOT APPLICABLE  |NOT APPLICABLE   |null           |0              |0                 |0             |1            |0             |0            |0        |DRIVER LICENSE        |Texas            |CLASS C           |77373   |\n",
            "|14839330|1       |1       |DRIVER                           |FRONT LEFT        |NOT INJURED              |44      |HISPANIC         |MALE        |NO            |SHOULDER & LAP BELT|NOT DEPLOYED     |NOT APPLICABLE   |N          |NONE                 |NA              |NA                |NONE                 |NOT APPLICABLE  |NOT APPLICABLE   |null           |0              |0                 |0             |1            |0             |0            |0        |DRIVER LICENSE        |Texas            |CLASS C           |78230   |\n",
            "|14839342|1       |1       |DRIVER                           |FRONT LEFT        |NOT INJURED              |25      |WHITE            |MALE        |NO            |SHOULDER & LAP BELT|NOT DEPLOYED     |NOT APPLICABLE   |N          |NONE                 |NA              |NA                |NONE                 |NOT APPLICABLE  |NOT APPLICABLE   |null           |0              |0                 |0             |1            |0             |0            |0        |DRIVER LICENSE        |Texas            |CLASS C           |78745   |\n",
            "|14839342|2       |1       |DRIVER                           |FRONT LEFT        |NOT INJURED              |29      |HISPANIC         |MALE        |NO            |SHOULDER & LAP BELT|NOT DEPLOYED     |NOT APPLICABLE   |N          |NONE                 |NA              |NA                |NONE                 |NOT APPLICABLE  |NOT APPLICABLE   |null           |0              |0                 |0             |1            |0             |0            |0        |DRIVER LICENSE        |Texas            |CLASS C           |75043   |\n",
            "|14839343|2       |1       |DRIVER                           |FRONT LEFT        |NOT INJURED              |23      |HISPANIC         |MALE        |NO            |SHOULDER & LAP BELT|NOT DEPLOYED     |NOT APPLICABLE   |N          |NONE                 |NA              |NA                |NONE                 |NOT APPLICABLE  |NOT APPLICABLE   |null           |0              |0                 |0             |1            |0             |0            |0        |OTHER                 |Texas            |UNLICENSED        |78223   |\n",
            "|14839343|1       |1       |DRIVER                           |FRONT LEFT        |NOT INJURED              |NA      |UNKNOWN          |UNKNOWN     |NO            |UNKNOWN            |NOT APPLICABLE   |NOT APPLICABLE   |N          |NONE                 |NA              |NA                |NONE                 |NOT APPLICABLE  |NOT APPLICABLE   |null           |0              |0                 |0             |1            |0             |0            |0        |UNKNOWN               |Unknown          |UNKNOWN           |null    |\n",
            "|14839345|1       |1       |DRIVER                           |FRONT LEFT        |NOT INJURED              |18      |BLACK            |MALE        |NO            |SHOULDER & LAP BELT|NOT DEPLOYED     |NOT APPLICABLE   |N          |NONE                 |NA              |NA                |NONE                 |NOT APPLICABLE  |NOT APPLICABLE   |null           |0              |0                 |0             |1            |0             |0            |0        |DRIVER LICENSE        |Texas            |CLASS C           |77520   |\n",
            "|14839345|2       |1       |DRIVER                           |FRONT LEFT        |NOT INJURED              |19      |HISPANIC         |MALE        |NO            |SHOULDER & LAP BELT|NOT DEPLOYED     |NOT APPLICABLE   |N          |NONE                 |NA              |NA                |NONE                 |NOT APPLICABLE  |NOT APPLICABLE   |null           |0              |0                 |0             |1            |0             |0            |0        |ID CARD               |Texas            |UNLICENSED        |77521   |\n",
            "|14839404|1       |1       |DRIVER                           |FRONT LEFT        |NOT INJURED              |21      |ASIAN            |FEMALE      |NO            |SHOULDER & LAP BELT|DEPLOYED, FRONT  |NOT APPLICABLE   |N          |NONE                 |NA              |NA                |NONE                 |NOT APPLICABLE  |NOT APPLICABLE   |null           |0              |0                 |0             |1            |0             |0            |0        |DRIVER LICENSE        |Texas            |CLASS C           |77099   |\n",
            "|14839404|2       |1       |DRIVER                           |FRONT LEFT        |NON-INCAPACITATING INJURY|34      |WHITE            |FEMALE      |NO            |SHOULDER & LAP BELT|DEPLOYED, SIDE   |NOT APPLICABLE   |N          |NONE                 |NA              |NA                |NONE                 |NOT APPLICABLE  |NOT APPLICABLE   |null           |0              |1                 |0             |0            |0             |1            |0        |DRIVER LICENSE        |Texas            |CLASS C           |77070   |\n",
            "|14839404|3       |1       |DRIVER                           |FRONT LEFT        |NOT INJURED              |60      |WHITE            |MALE        |NO            |SHOULDER & LAP BELT|NOT DEPLOYED     |NOT APPLICABLE   |N          |NONE                 |NA              |NA                |NONE                 |NOT APPLICABLE  |NOT APPLICABLE   |null           |0              |0                 |0             |1            |0             |0            |0        |DRIVER LICENSE        |Texas            |CLASS C           |77040   |\n",
            "|14839435|1       |1       |DRIVER                           |FRONT LEFT        |NOT INJURED              |20      |WHITE            |MALE        |NO            |SHOULDER & LAP BELT|NOT DEPLOYED     |NOT APPLICABLE   |N          |BREATH               |Positive        |0.104             |NONE                 |NOT APPLICABLE  |NOT APPLICABLE   |null           |0              |0                 |0             |1            |0             |0            |0        |DRIVER LICENSE        |Texas            |CLASS C           |78209   |\n",
            "|14839442|1       |1       |DRIVER                           |FRONT LEFT        |NOT INJURED              |30      |HISPANIC         |MALE        |NO            |SHOULDER & LAP BELT|NOT DEPLOYED     |NOT APPLICABLE   |N          |BREATH               |NA              |NA                |NONE                 |NOT APPLICABLE  |NOT APPLICABLE   |null           |0              |0                 |0             |1            |0             |0            |0        |DRIVER LICENSE        |Texas            |CLASS C           |78202   |\n",
            "|14839472|1       |1       |DRIVER                           |FRONT LEFT        |NOT INJURED              |61      |WHITE            |FEMALE      |NO            |SHOULDER & LAP BELT|NOT DEPLOYED     |NOT APPLICABLE   |N          |NONE                 |NA              |NA                |NONE                 |NOT APPLICABLE  |NOT APPLICABLE   |null           |0              |0                 |0             |1            |0             |0            |0        |DRIVER LICENSE        |Texas            |CLASS C           |77521   |\n",
            "|14839510|2       |1       |DRIVER                           |FRONT LEFT        |NOT INJURED              |43      |BLACK            |MALE        |NO            |SHOULDER & LAP BELT|NOT DEPLOYED     |NOT APPLICABLE   |N          |NONE                 |NA              |NA                |NONE                 |NOT APPLICABLE  |NOT APPLICABLE   |null           |0              |0                 |0             |1            |0             |0            |0        |DRIVER LICENSE        |Texas            |CLASS C           |75709   |\n",
            "|14839510|1       |1       |DRIVER                           |FRONT LEFT        |NOT INJURED              |58      |WHITE            |MALE        |NO            |SHOULDER & LAP BELT|DEPLOYED, FRONT  |NOT APPLICABLE   |N          |NONE                 |NA              |NA                |NONE                 |NOT APPLICABLE  |NOT APPLICABLE   |null           |0              |0                 |0             |1            |0             |0            |0        |DRIVER LICENSE        |Texas            |CLASS C           |75143   |\n",
            "|14839517|1       |1       |DRIVER                           |FRONT LEFT        |NOT INJURED              |55      |BLACK            |MALE        |NO            |SHOULDER & LAP BELT|DEPLOYED, FRONT  |NOT APPLICABLE   |N          |BLOOD                |Positive        |0.233             |NONE                 |NOT APPLICABLE  |NOT APPLICABLE   |null           |0              |0                 |0             |1            |0             |0            |0        |ID CARD               |Texas            |UNLICENSED        |75149   |\n",
            "|14839519|1       |1       |DRIVER                           |FRONT LEFT        |NOT INJURED              |26      |HISPANIC         |MALE        |NO            |SHOULDER & LAP BELT|DEPLOYED MULTIPLE|NOT APPLICABLE   |N          |NONE                 |NA              |NA                |NONE                 |NOT APPLICABLE  |NOT APPLICABLE   |null           |0              |0                 |0             |1            |0             |0            |0        |DRIVER LICENSE        |Texas            |CLASS C           |78114   |\n",
            "|14839551|1       |1       |DRIVER                           |FRONT LEFT        |NOT INJURED              |21      |HISPANIC         |MALE        |NO            |SHOULDER & LAP BELT|NOT DEPLOYED     |NOT APPLICABLE   |N          |NONE                 |NA              |NA                |NONE                 |NOT APPLICABLE  |NOT APPLICABLE   |null           |0              |0                 |0             |1            |0             |0            |0        |UNLICENSED            |NA               |UNLICENSED        |78220   |\n",
            "|14839561|1       |1       |DRIVER                           |FRONT LEFT        |NOT INJURED              |27      |HISPANIC         |MALE        |NO            |SHOULDER & LAP BELT|DEPLOYED, FRONT  |NOT APPLICABLE   |N          |NONE                 |NA              |NA                |NONE                 |NOT APPLICABLE  |NOT APPLICABLE   |null           |0              |0                 |0             |1            |0             |0            |0        |UNLICENSED            |NA               |UNLICENSED        |75062   |\n",
            "|14839615|2       |1       |DRIVER                           |FRONT LEFT        |NOT INJURED              |20      |HISPANIC         |MALE        |NO            |SHOULDER & LAP BELT|NOT DEPLOYED     |NOT APPLICABLE   |N          |NONE                 |NA              |NA                |NONE                 |NOT APPLICABLE  |NOT APPLICABLE   |null           |0              |0                 |0             |1            |0             |0            |0        |DRIVER LICENSE        |Texas            |CLASS C           |78245   |\n",
            "|14839615|1       |1       |DRIVER                           |FRONT LEFT        |NOT INJURED              |33      |HISPANIC         |MALE        |NO            |SHOULDER & LAP BELT|NOT DEPLOYED     |NOT APPLICABLE   |N          |NONE                 |NA              |NA                |NONE                 |NOT APPLICABLE  |NOT APPLICABLE   |null           |0              |0                 |0             |1            |0             |0            |0        |ID CARD               |Texas            |UNLICENSED        |78245   |\n",
            "|14839642|2       |1       |DRIVER                           |FRONT LEFT        |POSSIBLE INJURY          |34      |WHITE            |FEMALE      |NO            |SHOULDER & LAP BELT|DEPLOYED, FRONT  |NOT APPLICABLE   |N          |NONE                 |NA              |NA                |NONE                 |NOT APPLICABLE  |NOT APPLICABLE   |null           |0              |0                 |1             |0            |0             |1            |0        |COMMERCIAL DRIVER LIC.|Texas            |CLASS B           |77316   |\n",
            "|14839642|1       |1       |DRIVER                           |FRONT LEFT        |NOT INJURED              |55      |WHITE            |MALE        |NO            |SHOULDER & LAP BELT|NOT DEPLOYED     |NOT APPLICABLE   |N          |NONE                 |NA              |NA                |NONE                 |NOT APPLICABLE  |NOT APPLICABLE   |null           |0              |0                 |0             |1            |0             |0            |0        |DRIVER LICENSE        |Texas            |CLASS C           |77075   |\n",
            "|14839675|1       |1       |DRIVER                           |FRONT LEFT        |NOT INJURED              |18      |WHITE            |MALE        |NO            |SHOULDER & LAP BELT|NOT DEPLOYED     |NOT APPLICABLE   |N          |NONE                 |NA              |NA                |NONE                 |NOT APPLICABLE  |NOT APPLICABLE   |null           |0              |0                 |0             |1            |0             |0            |0        |DRIVER LICENSE        |Texas            |CLASS C           |77372   |\n",
            "|14839713|2       |1       |UNKNOWN                          |UNKNOWN           |NOT INJURED              |NA      |UNKNOWN          |UNKNOWN     |NOT APPLICABLE|NOT APPLICABLE     |NOT APPLICABLE   |NOT APPLICABLE   |N          |NONE                 |NA              |NA                |NONE                 |NOT APPLICABLE  |NOT APPLICABLE   |null           |0              |0                 |0             |1            |0             |0            |0        |NA                    |NA               |NA                |null    |\n",
            "|14839713|1       |1       |DRIVER                           |FRONT LEFT        |NOT INJURED              |19      |HISPANIC         |MALE        |NO            |SHOULDER & LAP BELT|DEPLOYED, FRONT  |NOT APPLICABLE   |N          |NONE                 |NA              |NA                |NONE                 |NOT APPLICABLE  |NOT APPLICABLE   |null           |0              |0                 |0             |1            |0             |0            |0        |DRIVER LICENSE        |Texas            |CLASS C           |77075   |\n",
            "|14839721|1       |1       |DRIVER                           |FRONT LEFT        |NOT INJURED              |55      |HISPANIC         |FEMALE      |NO            |SHOULDER & LAP BELT|NOT DEPLOYED     |NOT APPLICABLE   |N          |NONE                 |NA              |NA                |NONE                 |NOT APPLICABLE  |NOT APPLICABLE   |null           |0              |0                 |0             |1            |0             |0            |0        |DRIVER LICENSE        |Texas            |CLASS C           |75038   |\n",
            "|14839735|1       |1       |DRIVER                           |FRONT LEFT        |POSSIBLE INJURY          |33      |WHITE            |FEMALE      |NO            |UNKNOWN            |NOT DEPLOYED     |NOT APPLICABLE   |N          |NONE                 |NA              |NA                |NONE                 |NOT APPLICABLE  |NOT APPLICABLE   |null           |0              |0                 |1             |0            |0             |1            |0        |DRIVER LICENSE        |Texas            |CLASS C           |77375   |\n",
            "|14839735|2       |1       |DRIVER                           |FRONT LEFT        |POSSIBLE INJURY          |49      |BLACK            |MALE        |NO            |UNKNOWN            |NOT DEPLOYED     |NOT APPLICABLE   |N          |NONE                 |NA              |NA                |NONE                 |NOT APPLICABLE  |NOT APPLICABLE   |null           |0              |0                 |1             |0            |0             |1            |0        |COMMERCIAL DRIVER LIC.|Texas            |CLASS A           |77493   |\n",
            "|14839747|2       |1       |DRIVER                           |FRONT LEFT        |NOT INJURED              |46      |BLACK            |FEMALE      |NO            |SHOULDER & LAP BELT|NOT DEPLOYED     |NOT APPLICABLE   |N          |NONE                 |NA              |NA                |NONE                 |NOT APPLICABLE  |NOT APPLICABLE   |null           |0              |0                 |0             |1            |0             |0            |0        |DRIVER LICENSE        |Texas            |CLASS C           |75287   |\n",
            "|14839747|1       |1       |DRIVER                           |FRONT LEFT        |NOT INJURED              |18      |WHITE            |MALE        |NO            |SHOULDER & LAP BELT|NOT DEPLOYED     |NOT APPLICABLE   |N          |NONE                 |NA              |NA                |NONE                 |NOT APPLICABLE  |NOT APPLICABLE   |null           |0              |0                 |0             |1            |0             |0            |0        |DRIVER LICENSE        |Texas            |CLASS C           |75067   |\n",
            "|14839755|2       |1       |DRIVER                           |FRONT LEFT        |NOT INJURED              |30      |HISPANIC         |MALE        |NO            |SHOULDER & LAP BELT|DEPLOYED, FRONT  |NOT APPLICABLE   |N          |NONE                 |NA              |NA                |NONE                 |NOT APPLICABLE  |NOT APPLICABLE   |null           |0              |0                 |0             |1            |0             |0            |0        |DRIVER LICENSE        |Texas            |CLASS C           |78231   |\n",
            "|14839755|1       |1       |DRIVER                           |FRONT LEFT        |POSSIBLE INJURY          |52      |WHITE            |MALE        |NO            |SHOULDER & LAP BELT|NOT DEPLOYED     |NOT APPLICABLE   |N          |NONE                 |NA              |NA                |NONE                 |NOT APPLICABLE  |NOT APPLICABLE   |null           |0              |0                 |1             |0            |0             |1            |0        |DRIVER LICENSE        |Texas            |CLASS C           |78219   |\n",
            "|14839761|1       |1       |DRIVER                           |FRONT LEFT        |NOT INJURED              |33      |HISPANIC         |MALE        |NO            |UNKNOWN            |NOT DEPLOYED     |NOT APPLICABLE   |N          |NONE                 |NA              |NA                |NONE                 |NOT APPLICABLE  |NOT APPLICABLE   |null           |0              |0                 |0             |1            |0             |0            |0        |DRIVER LICENSE        |Texas            |CLASS C           |78219   |\n",
            "|14839783|1       |1       |DRIVER                           |FRONT LEFT        |NOT INJURED              |60      |BLACK            |MALE        |NO            |SHOULDER & LAP BELT|NOT DEPLOYED     |NOT APPLICABLE   |N          |BLOOD                |NA              |NA                |NONE                 |NOT APPLICABLE  |NOT APPLICABLE   |null           |0              |0                 |0             |1            |0             |0            |0        |DRIVER LICENSE        |Texas            |CLASS C           |75455   |\n",
            "|14839807|2       |1       |DRIVER                           |FRONT LEFT        |NOT INJURED              |39      |BLACK            |FEMALE      |NO            |SHOULDER & LAP BELT|NOT DEPLOYED     |NOT APPLICABLE   |N          |NONE                 |NA              |NA                |NONE                 |NOT APPLICABLE  |NOT APPLICABLE   |null           |0              |0                 |0             |1            |0             |0            |0        |DRIVER LICENSE        |Texas            |CLASS C           |78232   |\n",
            "|14839807|1       |1       |DRIVER                           |FRONT LEFT        |NOT INJURED              |46      |WHITE            |FEMALE      |NO            |SHOULDER & LAP BELT|NOT DEPLOYED     |NOT APPLICABLE   |N          |NONE                 |NA              |NA                |NONE                 |NOT APPLICABLE  |NOT APPLICABLE   |null           |0              |0                 |0             |1            |0             |0            |0        |ID CARD               |Texas            |UNLICENSED        |78217   |\n",
            "|14839836|1       |1       |DRIVER                           |FRONT LEFT        |NOT INJURED              |20      |BLACK            |MALE        |NO            |SHOULDER & LAP BELT|DEPLOYED, FRONT  |NOT APPLICABLE   |N          |NONE                 |NA              |NA                |NONE                 |NOT APPLICABLE  |NOT APPLICABLE   |null           |0              |0                 |0             |1            |0             |0            |0        |DRIVER LICENSE        |Texas            |CLASS C           |78240   |\n",
            "|14839850|1       |1       |DRIVER                           |FRONT LEFT        |POSSIBLE INJURY          |21      |WHITE            |MALE        |NO            |SHOULDER & LAP BELT|DEPLOYED MULTIPLE|NOT APPLICABLE   |N          |NONE                 |NA              |NA                |NONE                 |NOT APPLICABLE  |NOT APPLICABLE   |null           |0              |0                 |1             |0            |0             |1            |0        |DRIVER LICENSE        |Texas            |CLASS C           |77664   |\n",
            "|14839852|1       |1       |DRIVER                           |FRONT LEFT        |NOT INJURED              |47      |WHITE            |MALE        |NO            |SHOULDER & LAP BELT|NOT DEPLOYED     |NOT APPLICABLE   |N          |NONE                 |NA              |NA                |NONE                 |NOT APPLICABLE  |NOT APPLICABLE   |null           |0              |0                 |0             |1            |0             |0            |0        |COMMERCIAL DRIVER LIC.|Texas            |CLASS A AND M     |77659   |\n",
            "|14839875|2       |1       |DRIVER                           |FRONT LEFT        |NOT INJURED              |24      |HISPANIC         |FEMALE      |NO            |SHOULDER & LAP BELT|NOT DEPLOYED     |NOT APPLICABLE   |N          |NONE                 |NA              |NA                |NONE                 |NOT APPLICABLE  |NOT APPLICABLE   |null           |0              |0                 |0             |1            |0             |0            |0        |DRIVER LICENSE        |Texas            |CLASS C           |77080   |\n",
            "|14839875|1       |1       |DRIVER                           |FRONT LEFT        |NOT INJURED              |55      |HISPANIC         |MALE        |NO            |SHOULDER & LAP BELT|NOT DEPLOYED     |NOT APPLICABLE   |N          |NONE                 |NA              |NA                |NONE                 |NOT APPLICABLE  |NOT APPLICABLE   |null           |0              |0                 |0             |1            |0             |0            |0        |DRIVER LICENSE        |Texas            |CLASS C           |77080   |\n",
            "|14839880|1       |1       |DRIVER                           |FRONT LEFT        |NOT INJURED              |56      |BLACK            |FEMALE      |NO            |SHOULDER & LAP BELT|NOT DEPLOYED     |NOT APPLICABLE   |N          |NONE                 |NA              |NA                |NONE                 |NOT APPLICABLE  |NOT APPLICABLE   |null           |0              |0                 |0             |1            |0             |0            |0        |ID CARD               |Texas            |UNLICENSED        |77373   |\n",
            "|14839880|2       |1       |DRIVER                           |FRONT LEFT        |NOT INJURED              |42      |OTHER            |MALE        |NO            |SHOULDER & LAP BELT|NOT DEPLOYED     |NOT APPLICABLE   |N          |NONE                 |NA              |NA                |NONE                 |NOT APPLICABLE  |NOT APPLICABLE   |null           |0              |0                 |0             |1            |0             |0            |0        |DRIVER LICENSE        |Texas            |CLASS C           |77382   |\n",
            "|14839887|2       |1       |DRIVER                           |FRONT LEFT        |NOT INJURED              |44      |BLACK            |FEMALE      |NO            |UNKNOWN            |NOT DEPLOYED     |NOT APPLICABLE   |N          |NONE                 |NA              |NA                |NONE                 |NOT APPLICABLE  |NOT APPLICABLE   |null           |0              |0                 |0             |1            |0             |0            |0        |DRIVER LICENSE        |Texas            |CLASS C           |77489   |\n",
            "|14839887|1       |1       |DRIVER                           |FRONT LEFT        |NOT INJURED              |23      |ASIAN            |MALE        |NO            |UNKNOWN            |NOT DEPLOYED     |NOT APPLICABLE   |N          |NONE                 |NA              |NA                |NONE                 |NOT APPLICABLE  |NOT APPLICABLE   |null           |0              |0                 |0             |1            |0             |0            |0        |DRIVER LICENSE        |Texas            |CLASS C           |77099   |\n",
            "|14839908|2       |1       |DRIVER                           |FRONT LEFT        |NOT INJURED              |25      |BLACK            |FEMALE      |NO            |SHOULDER & LAP BELT|NOT DEPLOYED     |NOT APPLICABLE   |N          |NONE                 |NA              |NA                |NONE                 |NOT APPLICABLE  |NOT APPLICABLE   |null           |0              |0                 |0             |1            |0             |0            |0        |DRIVER LICENSE        |Texas            |CLASS A           |77573   |\n",
            "|14839908|1       |1       |DRIVER                           |FRONT LEFT        |NOT INJURED              |20      |HISPANIC         |FEMALE      |NO            |SHOULDER & LAP BELT|DEPLOYED, FRONT  |NOT APPLICABLE   |N          |NONE                 |NA              |NA                |NONE                 |NOT APPLICABLE  |NOT APPLICABLE   |null           |0              |0                 |0             |1            |0             |0            |0        |ID CARD               |Texas            |UNLICENSED        |null    |\n",
            "|14839921|1       |1       |DRIVER                           |FRONT LEFT        |NOT INJURED              |17      |WHITE            |FEMALE      |NO            |SHOULDER & LAP BELT|DEPLOYED, FRONT  |NOT APPLICABLE   |N          |NONE                 |NA              |NA                |NONE                 |NOT APPLICABLE  |NOT APPLICABLE   |null           |0              |0                 |0             |1            |0             |0            |0        |DRIVER LICENSE        |Texas            |CLASS C           |78109   |\n",
            "|14839921|2       |1       |DRIVER                           |FRONT LEFT        |NOT INJURED              |31      |HISPANIC         |FEMALE      |NO            |SHOULDER & LAP BELT|NOT DEPLOYED     |NOT APPLICABLE   |N          |NONE                 |NA              |NA                |NONE                 |NOT APPLICABLE  |NOT APPLICABLE   |null           |0              |0                 |0             |1            |0             |0            |0        |DRIVER LICENSE        |Texas            |CLASS C           |78263   |\n",
            "|14839939|2       |1       |DRIVER                           |FRONT LEFT        |NOT INJURED              |18      |WHITE            |MALE        |NO            |SHOULDER & LAP BELT|NOT DEPLOYED     |NOT APPLICABLE   |N          |NONE                 |NA              |NA                |NONE                 |NOT APPLICABLE  |NOT APPLICABLE   |null           |0              |0                 |0             |1            |0             |0            |0        |DRIVER LICENSE        |Texas            |CLASS C           |76001   |\n",
            "|14839939|1       |1       |DRIVER                           |FRONT LEFT        |NOT INJURED              |19      |WHITE            |FEMALE      |NO            |SHOULDER & LAP BELT|NOT DEPLOYED     |NOT APPLICABLE   |N          |NONE                 |NA              |NA                |NONE                 |NOT APPLICABLE  |NOT APPLICABLE   |null           |0              |0                 |0             |1            |0             |0            |0        |DRIVER LICENSE        |Texas            |CLASS C           |75070   |\n",
            "+--------+--------+--------+---------------------------------+------------------+-------------------------+--------+-----------------+------------+--------------+-------------------+-----------------+-----------------+-----------+---------------------+----------------+------------------+---------------------+----------------+-----------------+---------------+---------------+------------------+--------------+-------------+--------------+-------------+---------+----------------------+-----------------+------------------+--------+\n",
            "only showing top 100 rows\n",
            "\n"
          ],
          "name": "stdout"
        }
      ]
    }
  ]
}