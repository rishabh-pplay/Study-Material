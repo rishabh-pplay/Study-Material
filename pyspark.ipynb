{
  "nbformat": 4,
  "nbformat_minor": 0,
  "metadata": {
    "colab": {
      "name": "pyspark.ipynb",
      "provenance": [],
      "collapsed_sections": [],
      "authorship_tag": "ABX9TyPPoKfSZhm6W2qcgJfd/XUc",
      "include_colab_link": true
    },
    "kernelspec": {
      "name": "python3",
      "display_name": "Python 3"
    },
    "language_info": {
      "name": "python"
    }
  },
  "cells": [
    {
      "cell_type": "markdown",
      "metadata": {
        "id": "view-in-github",
        "colab_type": "text"
      },
      "source": [
        "<a href=\"https://colab.research.google.com/github/sajal1302/Study-Material/blob/master/pyspark.ipynb\" target=\"_parent\"><img src=\"https://colab.research.google.com/assets/colab-badge.svg\" alt=\"Open In Colab\"/></a>"
      ]
    },
    {
      "cell_type": "code",
      "metadata": {
        "colab": {
          "base_uri": "https://localhost:8080/"
        },
        "id": "Nf-UfmEVW4sN",
        "outputId": "3067373e-b794-4cf2-960b-b29f3e439672"
      },
      "source": [
        "! pip install pyspark"
      ],
      "execution_count": 1,
      "outputs": [
        {
          "output_type": "stream",
          "text": [
            "Collecting pyspark\n",
            "\u001b[?25l  Downloading https://files.pythonhosted.org/packages/45/b0/9d6860891ab14a39d4bddf80ba26ce51c2f9dc4805e5c6978ac0472c120a/pyspark-3.1.1.tar.gz (212.3MB)\n",
            "\u001b[K     |████████████████████████████████| 212.3MB 72kB/s \n",
            "\u001b[?25hCollecting py4j==0.10.9\n",
            "\u001b[?25l  Downloading https://files.pythonhosted.org/packages/9e/b6/6a4fb90cd235dc8e265a6a2067f2a2c99f0d91787f06aca4bcf7c23f3f80/py4j-0.10.9-py2.py3-none-any.whl (198kB)\n",
            "\u001b[K     |████████████████████████████████| 204kB 41.8MB/s \n",
            "\u001b[?25hBuilding wheels for collected packages: pyspark\n",
            "  Building wheel for pyspark (setup.py) ... \u001b[?25l\u001b[?25hdone\n",
            "  Created wheel for pyspark: filename=pyspark-3.1.1-py2.py3-none-any.whl size=212767604 sha256=d65341cf9cfb30967b0a8b7ffda3053501f8c5484ab9eabf589d5f994a593d74\n",
            "  Stored in directory: /root/.cache/pip/wheels/0b/90/c0/01de724414ef122bd05f056541fb6a0ecf47c7ca655f8b3c0f\n",
            "Successfully built pyspark\n",
            "Installing collected packages: py4j, pyspark\n",
            "Successfully installed py4j-0.10.9 pyspark-3.1.1\n"
          ],
          "name": "stdout"
        }
      ]
    },
    {
      "cell_type": "code",
      "metadata": {
        "id": "Dl4SsGmgFtp5"
      },
      "source": [
        "from pyspark.sql import SparkSession\n",
        "from pyspark.sql.functions import *\n",
        "from pyspark.sql.window import Window\n",
        "import logging\n",
        "import json\n",
        "logger = logging.getLogger('BCG-Use-Case')\n",
        "logger.setLevel(logging.INFO)"
      ],
      "execution_count": 5,
      "outputs": []
    },
    {
      "cell_type": "code",
      "metadata": {
        "id": "O79HURu6XOUZ"
      },
      "source": [
        "def get_spark_session():\n",
        "    spark = SparkSession.builder.appName(\"BCG-Project\").enableHiveSupport().getOrCreate()\n",
        "    return spark"
      ],
      "execution_count": 3,
      "outputs": []
    },
    {
      "cell_type": "code",
      "metadata": {
        "id": "UOOPesnsXOYD"
      },
      "source": [
        "config = { 'files' : ['Charges_use.csv' ,\n",
        "                      'Damages_use.csv' ,\n",
        "                      'Endorse_use.csv',\n",
        "                      'Primary_Person_use.csv' ,\n",
        "                      'Restrict_use.csv' ,\n",
        "                      'Units_use.csv'] ,\n",
        "          'files_loc' : '',\n",
        "          \n",
        "          'feeds':{\n",
        "              'Charges_use': {\n",
        "                  'feed_name' : 'Charges_use.csv',\n",
        "                  'feed_location' : '',\n",
        "                  'delimeter' : '',\n",
        "                  'compression' : '',\n",
        "                  \n",
        "              },\n",
        "              'Damages_use': {\n",
        "                  'feed_name' : 'Damages_use.csv',\n",
        "                  'feed_location' : '',\n",
        "                  'delimeter' : '',\n",
        "                  'compression' : '',\n",
        "                  \n",
        "              },\n",
        "              'Endorse_use': {\n",
        "                  'feed_name' : 'Damages_use.csv',\n",
        "                  'feed_location' : '',\n",
        "                  'delimeter' : '',\n",
        "                  'compression' : '',\n",
        "                  \n",
        "              },\n",
        "              'Primary_Person_use': {\n",
        "                  'feed_name' : 'Primary_Person_use.csv',\n",
        "                  'feed_location' : '',\n",
        "                  'delimeter' : '',\n",
        "                  'compression' : '',\n",
        "                  \n",
        "              },\n",
        "              'Restrict_use': {\n",
        "                  'feed_name' : 'Restrict_use.csv',\n",
        "                  'feed_location' : '',\n",
        "                  'delimeter' : '',\n",
        "                  'compression' : '',\n",
        "                  \n",
        "              },\n",
        "              'Units_use': {\n",
        "                  'feed_name' : 'Units_use.csv',\n",
        "                  'feed_location' : '',\n",
        "                  'delimeter' : '',\n",
        "                  'compression' : '',\n",
        "                  \n",
        "              }\n",
        "          }  \n",
        "    \n",
        "}"
      ],
      "execution_count": null,
      "outputs": []
    },
    {
      "cell_type": "code",
      "metadata": {
        "id": "iZzBxexhXOfb"
      },
      "source": [
        "spark = get_spark_session()"
      ],
      "execution_count": 4,
      "outputs": []
    },
    {
      "cell_type": "code",
      "metadata": {
        "colab": {
          "base_uri": "https://localhost:8080/"
        },
        "id": "AgrtiDYys95H",
        "outputId": "3ce8f27b-f723-4765-ffec-8120516d8833"
      },
      "source": [
        "from google.colab import drive\n",
        "drive.mount('/content/drive')"
      ],
      "execution_count": 6,
      "outputs": [
        {
          "output_type": "stream",
          "text": [
            "Mounted at /content/drive\n"
          ],
          "name": "stdout"
        }
      ]
    },
    {
      "cell_type": "code",
      "metadata": {
        "id": "mUudwGX3XOi-",
        "colab": {
          "base_uri": "https://localhost:8080/",
          "height": 216
        },
        "outputId": "8831abe2-e2cf-401f-b2e6-559fc5ea8450"
      },
      "source": [
        "spark"
      ],
      "execution_count": 7,
      "outputs": [
        {
          "output_type": "execute_result",
          "data": {
            "text/html": [
              "\n",
              "            <div>\n",
              "                <p><b>SparkSession - hive</b></p>\n",
              "                \n",
              "        <div>\n",
              "            <p><b>SparkContext</b></p>\n",
              "\n",
              "            <p><a href=\"http://751ca85b60d4:4040\">Spark UI</a></p>\n",
              "\n",
              "            <dl>\n",
              "              <dt>Version</dt>\n",
              "                <dd><code>v3.1.1</code></dd>\n",
              "              <dt>Master</dt>\n",
              "                <dd><code>local[*]</code></dd>\n",
              "              <dt>AppName</dt>\n",
              "                <dd><code>BCG-Project</code></dd>\n",
              "            </dl>\n",
              "        </div>\n",
              "        \n",
              "            </div>\n",
              "        "
            ],
            "text/plain": [
              "<pyspark.sql.session.SparkSession at 0x7f2afdbd7c10>"
            ]
          },
          "metadata": {
            "tags": []
          },
          "execution_count": 7
        }
      ]
    },
    {
      "cell_type": "code",
      "metadata": {
        "colab": {
          "base_uri": "https://localhost:8080/"
        },
        "id": "7R9CoY9_sP6S",
        "outputId": "514acfbf-a1f4-4231-982a-4001287939d0"
      },
      "source": [
        "! ls drive/MyDrive/bcg/staging_files/"
      ],
      "execution_count": 8,
      "outputs": [
        {
          "output_type": "stream",
          "text": [
            "Charges_use.csv  Endorse_use.csv\t Restrict_use.csv\n",
            "Damages_use.csv  Primary_Person_use.csv  Units_use.csv\n"
          ],
          "name": "stdout"
        }
      ]
    },
    {
      "cell_type": "code",
      "metadata": {
        "colab": {
          "base_uri": "https://localhost:8080/"
        },
        "id": "IQloN1ZksQEA",
        "outputId": "529d51a8-e1af-4df8-fd84-ea40b133b73c"
      },
      "source": [
        "! ls bcg/config"
      ],
      "execution_count": null,
      "outputs": [
        {
          "output_type": "stream",
          "text": [
            "config.json\n"
          ],
          "name": "stdout"
        }
      ]
    },
    {
      "cell_type": "code",
      "metadata": {
        "id": "5uDtNXAcws2J"
      },
      "source": [
        ""
      ],
      "execution_count": null,
      "outputs": []
    },
    {
      "cell_type": "code",
      "metadata": {
        "id": "VapaijMQws-_"
      },
      "source": [
        "def load_json(file_path):\n",
        "  with open(file_path) as f:\n",
        "    config = json.load(f)\n",
        "    return config"
      ],
      "execution_count": 9,
      "outputs": []
    },
    {
      "cell_type": "code",
      "metadata": {
        "id": "YYgHC7tszNNT"
      },
      "source": [
        "bcg_conf = load_json('/content/drive/MyDrive/bcg/config/config.json')"
      ],
      "execution_count": 12,
      "outputs": []
    },
    {
      "cell_type": "code",
      "metadata": {
        "id": "kIo02bZu53mM"
      },
      "source": [
        "def load_file(bcg_conf , entity_name):\n",
        "  try :\n",
        "    feed_name = bcg_conf['feeds'][entity_name]['feed_name']\n",
        "    file_loc = bcg_conf['feeds'][entity_name]['feed_location']\n",
        "    file_format = bcg_conf['feeds'][entity_name]['file_format']\n",
        "    delimeter = bcg_conf['feeds'][entity_name]['delimeter']\n",
        "    header = bcg_conf['feeds'][entity_name]['header']\n",
        "    full_path = file_loc + feed_name\n",
        "\n",
        "    print(feed_name , file_loc , file_format, full_path )\n",
        "    df_ = spark.read.load(full_path, \n",
        "                    format= file_format, sep= delimeter, inferSchema=\"true\",\n",
        "                    header=header)\n",
        "    return df_\n",
        "\n",
        "  except:\n",
        "    logger.error(\"Check the Config for the Entity : {} \".format(entity_name))"
      ],
      "execution_count": 13,
      "outputs": []
    },
    {
      "cell_type": "code",
      "metadata": {
        "id": "vSZ0cGEkFUfQ"
      },
      "source": [
        "def trim_columns(df):\n",
        "  df_ = df.select([ trim(col(colm)).alias(colm.strip()) if dtype =='string' else col(colm).alias(colm.strip()) for colm,dtype in df.dtypes ])\n",
        "  return df_"
      ],
      "execution_count": 14,
      "outputs": []
    },
    {
      "cell_type": "code",
      "metadata": {
        "colab": {
          "base_uri": "https://localhost:8080/"
        },
        "id": "4GgQOW0_Pks0",
        "outputId": "7726232d-4a46-416c-c266-095ad76aa02b"
      },
      "source": [
        "charges_use_df = trim_columns(load_file(bcg_conf , 'Charges_use'))\n",
        "damages_use_df = trim_columns(load_file(bcg_conf , 'Damages_use'))\n",
        "endorse_use_df = trim_columns(load_file(bcg_conf , 'Endorse_use'))\n",
        "primary_person_use_df = trim_columns(load_file(bcg_conf , 'Primary_Person_use'))\n",
        "restrict_use_df = trim_columns(load_file(bcg_conf , 'Restrict_use'))\n",
        "units_use_df = trim_columns(load_file(bcg_conf , 'Units_use'))"
      ],
      "execution_count": 18,
      "outputs": [
        {
          "output_type": "stream",
          "text": [
            "Charges_use.csv /content/drive/MyDrive/bcg/staging_files/ csv /content/drive/MyDrive/bcg/staging_files/Charges_use.csv\n",
            "Damages_use.csv /content/drive/MyDrive/bcg/staging_files/ csv /content/drive/MyDrive/bcg/staging_files/Damages_use.csv\n",
            "Damages_use.csv /content/drive/MyDrive/bcg/staging_files/ csv /content/drive/MyDrive/bcg/staging_files/Damages_use.csv\n",
            "Primary_Person_use.csv /content/drive/MyDrive/bcg/staging_files/ csv /content/drive/MyDrive/bcg/staging_files/Primary_Person_use.csv\n",
            "Restrict_use.csv /content/drive/MyDrive/bcg/staging_files/ csv /content/drive/MyDrive/bcg/staging_files/Restrict_use.csv\n",
            "Units_use.csv /content/drive/MyDrive/bcg/staging_files/ csv /content/drive/MyDrive/bcg/staging_files/Units_use.csv\n"
          ],
          "name": "stdout"
        }
      ]
    },
    {
      "cell_type": "code",
      "metadata": {
        "colab": {
          "base_uri": "https://localhost:8080/"
        },
        "id": "ZKy9OR_LWEp8",
        "outputId": "3d534592-30d9-4e78-8333-4f07a4e3da56"
      },
      "source": [
        "primary_person_use_df.show(10, False)"
      ],
      "execution_count": null,
      "outputs": [
        {
          "output_type": "stream",
          "text": [
            "+--------+--------+--------+------------+------------------+-------------------------+--------+-----------------+------------+------------+-------------------+-----------------+--------------+-----------+---------------------+----------------+------------------+---------------------+----------------+-----------------+---------------+---------------+------------------+--------------+-------------+--------------+-------------+---------+----------------------+-----------------+------------------+--------+\n",
            "|CRASH_ID|UNIT_NBR|PRSN_NBR|PRSN_TYPE_ID|PRSN_OCCPNT_POS_ID|PRSN_INJRY_SEV_ID        |PRSN_AGE|PRSN_ETHNICITY_ID|PRSN_GNDR_ID|PRSN_EJCT_ID|PRSN_REST_ID       |PRSN_AIRBAG_ID   |PRSN_HELMET_ID|PRSN_SOL_FL|PRSN_ALC_SPEC_TYPE_ID|PRSN_ALC_RSLT_ID|PRSN_BAC_TEST_RSLT|PRSN_DRG_SPEC_TYPE_ID|PRSN_DRG_RSLT_ID|DRVR_DRG_CAT_1_ID|PRSN_DEATH_TIME|INCAP_INJRY_CNT|NONINCAP_INJRY_CNT|POSS_INJRY_CNT|NON_INJRY_CNT|UNKN_INJRY_CNT|TOT_INJRY_CNT|DEATH_CNT|DRVR_LIC_TYPE_ID      |DRVR_LIC_STATE_ID|DRVR_LIC_CLS_ID   |DRVR_ZIP|\n",
            "+--------+--------+--------+------------+------------------+-------------------------+--------+-----------------+------------+------------+-------------------+-----------------+--------------+-----------+---------------------+----------------+------------------+---------------------+----------------+-----------------+---------------+---------------+------------------+--------------+-------------+--------------+-------------+---------+----------------------+-----------------+------------------+--------+\n",
            "|14768622|1       |1       |DRIVER      |FRONT LEFT        |NOT INJURED              |27      |HISPANIC         |MALE        |NO          |NONE               |DEPLOYED MULTIPLE|NOT APPLICABLE|N          |BLOOD                |Positive        |0.225             |NONE                 |NOT APPLICABLE  |NOT APPLICABLE   |null           |0              |0                 |0             |1            |0             |0            |0        |DRIVER LICENSE        |Texas            |CLASS C           |77357   |\n",
            "|14838637|1       |1       |DRIVER      |FRONT LEFT        |NOT INJURED              |31      |WHITE            |MALE        |NO          |SHOULDER & LAP BELT|NOT DEPLOYED     |NOT APPLICABLE|N          |BREATH               |Positive        |0.21              |NONE                 |NOT APPLICABLE  |NOT APPLICABLE   |null           |0              |0                 |0             |1            |0             |0            |0        |DRIVER LICENSE        |New York         |OTHER/OUT OF STATE|13830   |\n",
            "|14838637|2       |1       |DRIVER      |FRONT LEFT        |NOT INJURED              |41      |BLACK            |MALE        |NO          |SHOULDER & LAP BELT|NOT DEPLOYED     |NOT APPLICABLE|N          |NONE                 |NA              |NA                |NONE                 |NOT APPLICABLE  |NOT APPLICABLE   |null           |0              |0                 |0             |1            |0             |0            |0        |COMMERCIAL DRIVER LIC.|Texas            |CLASS A           |78934   |\n",
            "|14838641|1       |1       |DRIVER      |FRONT LEFT        |POSSIBLE INJURY          |32      |WHITE            |MALE        |NO          |SHOULDER & LAP BELT|DEPLOYED MULTIPLE|NOT APPLICABLE|N          |NONE                 |NA              |NA                |NONE                 |NOT APPLICABLE  |NOT APPLICABLE   |null           |0              |0                 |1             |0            |0             |1            |0        |DRIVER LICENSE        |Texas            |CLASS C           |76520   |\n",
            "|14838641|2       |1       |DRIVER      |FRONT LEFT        |NON-INCAPACITATING INJURY|34      |BLACK            |FEMALE      |NO          |SHOULDER & LAP BELT|DEPLOYED MULTIPLE|NOT APPLICABLE|N          |NONE                 |NA              |NA                |NONE                 |NOT APPLICABLE  |NOT APPLICABLE   |null           |0              |1                 |0             |0            |0             |1            |0        |ID CARD               |Texas            |UNLICENSED        |76707   |\n",
            "|14838668|1       |1       |DRIVER      |FRONT LEFT        |NOT INJURED              |24      |HISPANIC         |MALE        |NO          |SHOULDER & LAP BELT|DEPLOYED, FRONT  |NOT APPLICABLE|N          |BREATH               |Positive        |0.178             |NONE                 |NOT APPLICABLE  |NOT APPLICABLE   |null           |0              |0                 |0             |1            |0             |0            |0        |DRIVER LICENSE        |Texas            |CLASS C           |78076   |\n",
            "|14838669|1       |1       |DRIVER      |FRONT LEFT        |NOT INJURED              |53      |WHITE            |MALE        |NO          |SHOULDER & LAP BELT|NOT DEPLOYED     |NOT APPLICABLE|N          |NONE                 |NA              |NA                |NONE                 |NOT APPLICABLE  |NOT APPLICABLE   |null           |0              |0                 |0             |1            |0             |0            |0        |DRIVER LICENSE        |Texas            |CLASS C           |76053   |\n",
            "|14838669|2       |1       |DRIVER      |FRONT LEFT        |NOT INJURED              |24      |WHITE            |MALE        |NO          |UNKNOWN            |DEPLOYED, FRONT  |NOT APPLICABLE|N          |BREATH               |Positive        |0.219             |NONE                 |NOT APPLICABLE  |NOT APPLICABLE   |null           |0              |0                 |0             |1            |0             |0            |0        |DRIVER LICENSE        |Texas            |CLASS C           |76118   |\n",
            "|14838670|1       |1       |DRIVER      |FRONT LEFT        |NOT INJURED              |23      |WHITE            |MALE        |NO          |NONE               |NOT DEPLOYED     |NOT APPLICABLE|N          |BLOOD                |Positive        |0.16              |BLOOD                |UNKNOWN         |UNKNOWN          |null           |0              |0                 |0             |1            |0             |0            |0        |DRIVER LICENSE        |Texas            |CLASS C           |75050   |\n",
            "|14838685|1       |1       |DRIVER      |FRONT LEFT        |NOT INJURED              |27      |BLACK            |FEMALE      |NO          |SHOULDER & LAP BELT|NOT DEPLOYED     |NOT APPLICABLE|N          |NONE                 |NA              |NA                |NONE                 |NOT APPLICABLE  |NOT APPLICABLE   |null           |0              |0                 |0             |1            |0             |0            |0        |ID CARD               |Texas            |UNLICENSED        |77033   |\n",
            "+--------+--------+--------+------------+------------------+-------------------------+--------+-----------------+------------+------------+-------------------+-----------------+--------------+-----------+---------------------+----------------+------------------+---------------------+----------------+-----------------+---------------+---------------+------------------+--------------+-------------+--------------+-------------+---------+----------------------+-----------------+------------------+--------+\n",
            "only showing top 10 rows\n",
            "\n"
          ],
          "name": "stdout"
        }
      ]
    },
    {
      "cell_type": "code",
      "metadata": {
        "id": "2tJumspebR6f"
      },
      "source": [
        "lcp = [colms.lower() for colms in primary_person_use_df.columns]\n",
        "lcu = [colms.lower() for colms in units_use_df.columns]"
      ],
      "execution_count": 22,
      "outputs": []
    },
    {
      "cell_type": "code",
      "metadata": {
        "colab": {
          "base_uri": "https://localhost:8080/"
        },
        "id": "fEZe4JVUbcSy",
        "outputId": "3081fafa-1a06-4fae-8c7c-7f2c5f6a08be"
      },
      "source": [
        "print(lcp)"
      ],
      "execution_count": null,
      "outputs": [
        {
          "output_type": "stream",
          "text": [
            "['crash_id', 'unit_nbr', 'prsn_nbr', 'prsn_type_id', 'prsn_occpnt_pos_id', 'prsn_injry_sev_id', 'prsn_age', 'prsn_ethnicity_id', 'prsn_gndr_id', 'prsn_ejct_id', 'prsn_rest_id', 'prsn_airbag_id', 'prsn_helmet_id', 'prsn_sol_fl', 'prsn_alc_spec_type_id', 'prsn_alc_rslt_id', 'prsn_bac_test_rslt', 'prsn_drg_spec_type_id', 'prsn_drg_rslt_id', 'drvr_drg_cat_1_id', 'prsn_death_time', 'incap_injry_cnt', 'nonincap_injry_cnt', 'poss_injry_cnt', 'non_injry_cnt', 'unkn_injry_cnt', 'tot_injry_cnt', 'death_cnt', 'drvr_lic_type_id', 'drvr_lic_state_id', 'drvr_lic_cls_id', 'drvr_zip']\n"
          ],
          "name": "stdout"
        }
      ]
    },
    {
      "cell_type": "code",
      "metadata": {
        "colab": {
          "base_uri": "https://localhost:8080/"
        },
        "id": "YYZ_-rTGsNZB",
        "outputId": "fcbcf44b-b985-44dc-cdad-1190ac10eeea"
      },
      "source": [
        "print(lcu)"
      ],
      "execution_count": 23,
      "outputs": [
        {
          "output_type": "stream",
          "text": [
            "['crash_id', 'unit_nbr', 'unit_desc_id', 'veh_parked_fl', 'veh_hnr_fl', 'veh_lic_state_id', 'vin', 'veh_mod_year', 'veh_color_id', 'veh_make_id', 'veh_mod_id', 'veh_body_styl_id', 'emer_respndr_fl', 'ownr_zip', 'fin_resp_proof_id', 'fin_resp_type_id', 'veh_dmag_area_1_id', 'veh_dmag_scl_1_id', 'force_dir_1_id', 'veh_dmag_area_2_id', 'veh_dmag_scl_2_id', 'force_dir_2_id', 'veh_inventoried_fl', 'veh_transp_name', 'veh_transp_dest', 'contrib_factr_1_id', 'contrib_factr_2_id', 'contrib_factr_p1_id', 'veh_trvl_dir_id', 'first_harm_evt_inv_id', 'incap_injry_cnt', 'nonincap_injry_cnt', 'poss_injry_cnt', 'non_injry_cnt', 'unkn_injry_cnt', 'tot_injry_cnt', 'death_cnt']\n"
          ],
          "name": "stdout"
        }
      ]
    },
    {
      "cell_type": "code",
      "metadata": {
        "colab": {
          "base_uri": "https://localhost:8080/"
        },
        "id": "cGgy3JoCWEs-",
        "outputId": "056d6bdf-8655-4cbc-819c-2fdb92a2303c"
      },
      "source": [
        "\n",
        "primary_person_use_df.select(count('*'),count(col('crash_id')),\n",
        "                             countDistinct(col('crash_id')),\n",
        "                             sum(when(lower(col('prsn_injry_sev_id')) == 'killed',1).otherwise(0)),\n",
        "\n",
        "                             sum(col('death_cnt'))\n",
        "                             ).show(10, False)"
      ],
      "execution_count": null,
      "outputs": [
        {
          "output_type": "stream",
          "text": [
            "+--------+---------------+------------------------+--------------------------------------------------------------------+--------------+\n",
            "|count(1)|count(crash_id)|count(DISTINCT crash_id)|sum(CASE WHEN (lower(prsn_injry_sev_id) = killed) THEN 1 ELSE 0 END)|sum(death_cnt)|\n",
            "+--------+---------------+------------------------+--------------------------------------------------------------------+--------------+\n",
            "|156954  |156954         |83805                   |246                                                                 |246           |\n",
            "+--------+---------------+------------------------+--------------------------------------------------------------------+--------------+\n",
            "\n"
          ],
          "name": "stdout"
        }
      ]
    },
    {
      "cell_type": "code",
      "metadata": {
        "colab": {
          "base_uri": "https://localhost:8080/"
        },
        "id": "bLLw8eZRWEwf",
        "outputId": "fef80dba-838b-4f4a-9c25-9d128bfbe579"
      },
      "source": [
        "# Analysis 1\n",
        "primary_person_use_df.where((lower(col('prsn_injry_sev_id')) == 'killed') & (lower(col('prsn_gndr_id')) == 'male'))\\\n",
        ".select(col('crash_id')).distinct().count()"
      ],
      "execution_count": 19,
      "outputs": [
        {
          "output_type": "execute_result",
          "data": {
            "text/plain": [
              "180"
            ]
          },
          "metadata": {
            "tags": []
          },
          "execution_count": 19
        }
      ]
    },
    {
      "cell_type": "code",
      "metadata": {
        "id": "uVS0fjNgdFLT",
        "colab": {
          "base_uri": "https://localhost:8080/"
        },
        "outputId": "2f10b8fd-d8f6-4fc4-bce0-ae1a289790df"
      },
      "source": [
        "#Analysis2\n",
        "two_whlr_booked_df = units_use_df.where(upper(col('veh_body_styl_id')) == 'MOTORCYCLE').select(countDistinct('crash_id').alias('two_whlr_booked'))\n",
        "two_whlr_booked_df.show(10, False)"
      ],
      "execution_count": 100,
      "outputs": [
        {
          "output_type": "stream",
          "text": [
            "+---------------+\n",
            "|two_whlr_booked|\n",
            "+---------------+\n",
            "|754            |\n",
            "+---------------+\n",
            "\n"
          ],
          "name": "stdout"
        }
      ]
    },
    {
      "cell_type": "code",
      "metadata": {
        "id": "GkjjkzAjdFUU"
      },
      "source": [
        ""
      ],
      "execution_count": null,
      "outputs": []
    },
    {
      "cell_type": "code",
      "metadata": {
        "id": "2Z15qFJNj2TW"
      },
      "source": [
        ""
      ],
      "execution_count": null,
      "outputs": []
    },
    {
      "cell_type": "code",
      "metadata": {
        "colab": {
          "base_uri": "https://localhost:8080/"
        },
        "id": "527zZW9AkQ3J",
        "outputId": "4e413982-1614-4175-9cec-32aee4a707e1"
      },
      "source": [
        "# Analysis 3\n",
        "\n",
        "fem_crash_state_df = primary_person_use_df.where((lower(col('prsn_gndr_id')) == 'female') \n",
        "                  & (~ lower(col('drvr_lic_state_id')).isin('na', 'unknown')))\\\n",
        "                    .groupBy(lower(col('drvr_lic_state_id')).alias('drvr_lic_state_id'))\\\n",
        "                      .agg(countDistinct(col('crash_id')).alias(\"num_crashes\")).orderBy(col(\"num_crashes\").desc())\n",
        "\n",
        "window_crash_rank = Window.orderBy(col('num_crashes').desc())\n",
        "\n",
        "max_female_crash_state_df =fem_crash_state_df.withColumn(\"rank\", rank().over(window_crash_rank))\\\n",
        ".where(\"rank = 1\").select(col('drvr_lic_state_id').alias(\"max_female_crash_state\"))\n",
        "\n",
        "max_female_crash_state_df.show(10, False)"
      ],
      "execution_count": 21,
      "outputs": [
        {
          "output_type": "stream",
          "text": [
            "+----------------------+\n",
            "|max_female_crash_state|\n",
            "+----------------------+\n",
            "|texas                 |\n",
            "+----------------------+\n",
            "\n"
          ],
          "name": "stdout"
        }
      ]
    },
    {
      "cell_type": "code",
      "metadata": {
        "id": "CusZl1SBk12U"
      },
      "source": [
        ""
      ],
      "execution_count": null,
      "outputs": []
    },
    {
      "cell_type": "code",
      "metadata": {
        "colab": {
          "base_uri": "https://localhost:8080/"
        },
        "id": "dY4Sn9A9lO3z",
        "outputId": "473a1441-ad47-4981-a803-db526c6c269b"
      },
      "source": [
        "#Analysis4\n",
        "\n",
        "win_spec_veh_inj_cnt = Window.orderBy(col(\"veh_inj_cnt\").desc())\n",
        "top_veh_make_id = units_use_df.where(lower(col('veh_make_id')) != 'na').groupBy(\"veh_make_id\").agg(sum(col('tot_injry_cnt')).alias(\"veh_inj_cnt\"))\\\n",
        "      .withColumn(\"rank\", dense_rank().over(win_spec_veh_inj_cnt)).select(col('veh_make_id'), col('rank')).where(\"rank >=5 and rank <= 15\")\n",
        "\n",
        "top_veh_make_id.show(100, False)"
      ],
      "execution_count": 40,
      "outputs": [
        {
          "output_type": "stream",
          "text": [
            "+-----------+----+\n",
            "|veh_make_id|rank|\n",
            "+-----------+----+\n",
            "|NISSAN     |5   |\n",
            "|HONDA      |6   |\n",
            "|GMC        |7   |\n",
            "|HYUNDAI    |8   |\n",
            "|KIA        |9   |\n",
            "|JEEP       |10  |\n",
            "|CHRYSLER   |11  |\n",
            "|MAZDA      |12  |\n",
            "|VOLKSWAGEN |13  |\n",
            "|PONTIAC    |14  |\n",
            "|LEXUS      |15  |\n",
            "+-----------+----+\n",
            "\n"
          ],
          "name": "stdout"
        }
      ]
    },
    {
      "cell_type": "code",
      "metadata": {
        "colab": {
          "base_uri": "https://localhost:8080/"
        },
        "id": "pwjid2pjFNk1",
        "outputId": "5b6ccd7f-6a34-43a8-e6e9-64f9dfdb978a"
      },
      "source": [
        "#Analysis5\n",
        "#prsn_ethnicity_id shouldnot be na, unknown etc\n",
        "primary_person_use_fil_df = primary_person_use_df.where(~upper(col('prsn_ethnicity_id')).isin('NA','UNKNOWN'))\n",
        "#win_spec_veh_sty_eth = Window.partitionBy(col('veh_body_styl_id')).orderBy()\n",
        "comp_df = units_use_df.where(~lower(col('veh_body_styl_id')).isin('na', 'not reported' ,'unknown'))\\\n",
        "      .join(primary_person_use_fil_df, \"crash_id\", \"inner\")\\\n",
        "      .select(col('crash_id'),\n",
        "              upper(col('veh_body_styl_id')).alias('veh_body_styl_id'),\n",
        "              upper(col('prsn_ethnicity_id')).alias('prsn_ethnicity_id'))\n",
        "#comp_df.show(10, False)\n",
        "\n",
        "agg_comp_df = comp_df.groupBy(col('veh_body_styl_id'), col('prsn_ethnicity_id')).agg(countDistinct(col('crash_id')).alias('cnt_dis_crash_id')).orderBy(col('veh_body_styl_id'))\n",
        "\n",
        "#agg_comp_df.show(100, False)\n",
        "\n",
        "win_spec_veh_sty_eth = Window.partitionBy(col('veh_body_styl_id')).orderBy(col('cnt_dis_crash_id').desc())\n",
        "\n",
        "top_prsn_ethnicity_id_df = agg_comp_df.withColumn(\"rank\", dense_rank().over(win_spec_veh_sty_eth))\\\n",
        "      .where(col('rank') == 1)\\\n",
        "      .select(col('veh_body_styl_id'), col('prsn_ethnicity_id').alias('top_prsn_ethnicity_id'))\n",
        "\n",
        "top_prsn_ethnicity_id_df.show(100, False)"
      ],
      "execution_count": 56,
      "outputs": [
        {
          "output_type": "stream",
          "text": [
            "+---------------------------------+---------------------+\n",
            "|veh_body_styl_id                 |top_prsn_ethnicity_id|\n",
            "+---------------------------------+---------------------+\n",
            "|AMBULANCE                        |WHITE                |\n",
            "|BUS                              |HISPANIC             |\n",
            "|FARM EQUIPMENT                   |WHITE                |\n",
            "|FIRE TRUCK                       |WHITE                |\n",
            "|MOTORCYCLE                       |WHITE                |\n",
            "|NEV-NEIGHBORHOOD ELECTRIC VEHICLE|WHITE                |\n",
            "|OTHER  (EXPLAIN IN NARRATIVE)    |WHITE                |\n",
            "|PASSENGER CAR, 2-DOOR            |WHITE                |\n",
            "|PASSENGER CAR, 4-DOOR            |WHITE                |\n",
            "|PICKUP                           |WHITE                |\n",
            "|POLICE CAR/TRUCK                 |WHITE                |\n",
            "|POLICE MOTORCYCLE                |HISPANIC             |\n",
            "|SPORT UTILITY VEHICLE            |WHITE                |\n",
            "|TRUCK                            |WHITE                |\n",
            "|TRUCK TRACTOR                    |WHITE                |\n",
            "|VAN                              |WHITE                |\n",
            "|YELLOW SCHOOL BUS                |WHITE                |\n",
            "+---------------------------------+---------------------+\n",
            "\n"
          ],
          "name": "stdout"
        }
      ]
    },
    {
      "cell_type": "code",
      "metadata": {
        "colab": {
          "base_uri": "https://localhost:8080/"
        },
        "id": "72corhLQ5otF",
        "outputId": "fcf76a8b-db9c-4538-9201-ef627aa67a74"
      },
      "source": [
        "#Analysis 6\n",
        "cntns_car = instr(upper(col('veh_body_styl_id')) , 'CAR') >=1\n",
        "units_cntns_car_df = units_use_df.withColumn('cntns_car_flag', cntns_car)\\\n",
        "                    .where(col('cntns_car_flag')).select(col('crash_id')).distinct()\n",
        "\n",
        "win_spec_al_zip = Window.orderBy(col('num_tot_crashes').desc())\n",
        "alc_prsn_df = primary_person_use_df.join(units_cntns_car_df, \"crash_id\", \"inner\").where((upper(col('prsn_alc_rslt_id')) == 'POSITIVE') & (col('drvr_zip').isNotNull()))\\\n",
        "              .groupBy(col('drvr_zip')).agg(countDistinct('crash_id').alias('num_tot_crashes'))\\\n",
        "              .withColumn(\"rank\", rank().over(win_spec_al_zip))\n",
        "\n",
        "top_zip_al_unit_df = alc_prsn_df.where(col('rank')<=5)\\\n",
        "                      .select(col('drvr_zip'), col('rank'))\n",
        "\n",
        "top_zip_al_unit_df.show(10, False)\n"
      ],
      "execution_count": 110,
      "outputs": [
        {
          "output_type": "stream",
          "text": [
            "+--------+---------------+----+\n",
            "|drvr_zip|num_tot_crashes|rank|\n",
            "+--------+---------------+----+\n",
            "|78521   |41             |1   |\n",
            "|76010   |33             |2   |\n",
            "|79936   |31             |3   |\n",
            "|79938   |29             |4   |\n",
            "|78550   |26             |5   |\n",
            "|78240   |26             |5   |\n",
            "|79912   |25             |7   |\n",
            "|78223   |23             |8   |\n",
            "|78741   |23             |8   |\n",
            "|78201   |22             |10  |\n",
            "|79928   |22             |10  |\n",
            "|78233   |21             |12  |\n",
            "|78230   |21             |12  |\n",
            "|78753   |21             |12  |\n",
            "|78228   |20             |15  |\n",
            "|79924   |20             |15  |\n",
            "|79907   |20             |15  |\n",
            "|75052   |20             |15  |\n",
            "|76017   |19             |19  |\n",
            "|78660   |18             |20  |\n",
            "|77449   |18             |20  |\n",
            "|78207   |17             |22  |\n",
            "|75067   |17             |22  |\n",
            "|76014   |17             |22  |\n",
            "|78237   |17             |22  |\n",
            "|78210   |17             |22  |\n",
            "|76018   |17             |22  |\n",
            "|78251   |16             |28  |\n",
            "|75050   |16             |28  |\n",
            "|78520   |16             |28  |\n",
            "|78247   |16             |28  |\n",
            "|78586   |16             |28  |\n",
            "|78250   |16             |28  |\n",
            "|78227   |15             |34  |\n",
            "|78249   |15             |34  |\n",
            "|79915   |15             |34  |\n",
            "|76522   |15             |34  |\n",
            "|78572   |15             |34  |\n",
            "|75061   |15             |34  |\n",
            "|78613   |15             |34  |\n",
            "|78213   |15             |34  |\n",
            "|75070   |14             |42  |\n",
            "|78212   |14             |42  |\n",
            "|78221   |14             |42  |\n",
            "|78501   |14             |42  |\n",
            "|78574   |14             |42  |\n",
            "|78046   |14             |42  |\n",
            "|76011   |14             |42  |\n",
            "|78245   |14             |42  |\n",
            "|75074   |14             |42  |\n",
            "|78217   |13             |51  |\n",
            "|76708   |13             |51  |\n",
            "|78253   |13             |51  |\n",
            "|77084   |13             |51  |\n",
            "|79927   |13             |51  |\n",
            "|78542   |12             |56  |\n",
            "|78258   |12             |56  |\n",
            "|75023   |12             |56  |\n",
            "|76016   |12             |56  |\n",
            "|78041   |12             |56  |\n",
            "|77083   |12             |56  |\n",
            "|77379   |12             |56  |\n",
            "|78577   |12             |56  |\n",
            "|78216   |12             |56  |\n",
            "|77502   |12             |56  |\n",
            "|78130   |11             |66  |\n",
            "|75025   |11             |66  |\n",
            "|77088   |11             |66  |\n",
            "|78209   |11             |66  |\n",
            "|77015   |11             |66  |\n",
            "|78415   |11             |66  |\n",
            "|75211   |11             |66  |\n",
            "|78727   |11             |66  |\n",
            "|78242   |11             |66  |\n",
            "|75080   |11             |66  |\n",
            "|78211   |10             |76  |\n",
            "|77433   |10             |76  |\n",
            "|75075   |10             |76  |\n",
            "|75024   |10             |76  |\n",
            "|78416   |10             |76  |\n",
            "|76012   |10             |76  |\n",
            "|78148   |10             |76  |\n",
            "|78758   |10             |76  |\n",
            "|75702   |10             |76  |\n",
            "|77073   |10             |76  |\n",
            "|78537   |10             |76  |\n",
            "|77301   |10             |76  |\n",
            "|76201   |10             |76  |\n",
            "|77845   |10             |76  |\n",
            "|76063   |10             |76  |\n",
            "|77060   |10             |76  |\n",
            "|75002   |10             |76  |\n",
            "|78748   |10             |76  |\n",
            "|75056   |10             |76  |\n",
            "|75703   |10             |76  |\n",
            "|78222   |10             |76  |\n",
            "|75602   |9              |97  |\n",
            "|78666   |9              |97  |\n",
            "|76706   |9              |97  |\n",
            "|76549   |9              |97  |\n",
            "+--------+---------------+----+\n",
            "only showing top 100 rows\n",
            "\n"
          ],
          "name": "stdout"
        }
      ]
    },
    {
      "cell_type": "code",
      "metadata": {
        "id": "d1yYIv_n5ovH"
      },
      "source": [
        ""
      ],
      "execution_count": null,
      "outputs": []
    },
    {
      "cell_type": "code",
      "metadata": {
        "colab": {
          "base_uri": "https://localhost:8080/"
        },
        "id": "WJHADsvUT0dm",
        "outputId": "22fc85d8-339e-4971-c505-1c7a8a5d659f"
      },
      "source": [
        "#Analysis 7\n",
        "cntns_ins = instr(col('fin_resp_type_id') , 'INSURANCE') >=1\n",
        "\n",
        "units_use_ins = units_use_df\\\n",
        "        .withColumn('veh_dmg_lvl_1',regexp_extract(col('veh_dmag_scl_1_id'), r'(\\d+)', 1).cast('bigint'))\\\n",
        "        .withColumn('veh_dmg_lvl_2',regexp_extract(col('veh_dmag_scl_2_id'), r'(\\d+)', 1).cast('bigint'))\\\n",
        "        .withColumn('type_id_ins_flg', cntns_ins)\\\n",
        "        .select(col('crash_id'),col('veh_dmg_lvl_1'), col('veh_dmg_lvl_2'), col('type_id_ins_flg'))\\\n",
        "        .where((~col('fin_resp_proof_id').isin('NA','NR')) & ((col('veh_dmg_lvl_1') >4) | (col('veh_dmg_lvl_2') >4) ) & (col('type_id_ins_flg')))\\\n",
        "        \n",
        "no_dmg_df = units_use_ins.join(damages_use_df, \"crash_id\", \"leftanti\")\n",
        "\n",
        "cnt_no_dmg = no_dmg_df.select(countDistinct(col('crash_id')).alias('cnt_no_dmg'))\n",
        "\n",
        "cnt_no_dmg.show(10, False)"
      ],
      "execution_count": 80,
      "outputs": [
        {
          "output_type": "stream",
          "text": [
            "+----------+\n",
            "|cnt_no_dmg|\n",
            "+----------+\n",
            "|8849      |\n",
            "+----------+\n",
            "\n"
          ],
          "name": "stdout"
        }
      ]
    },
    {
      "cell_type": "code",
      "metadata": {
        "colab": {
          "base_uri": "https://localhost:8080/"
        },
        "id": "z9NwEQFskcuG",
        "outputId": "11df2a6f-6a6d-4402-d538-6ce88a46b0d7"
      },
      "source": [
        "#Analysis 8\n",
        "\n",
        "top_vhl_clr = units_use_df.where(upper(col('veh_color_id')) != 'NA').groupBy(col('veh_color_id')).agg(countDistinct(col('crash_id')).alias('count_clr')).orderBy(col(\"count_clr\").desc()).limit(10)"
      ],
      "execution_count": 91,
      "outputs": [
        {
          "output_type": "stream",
          "text": [
            "+------------+---------+\n",
            "|veh_color_id|count_clr|\n",
            "+------------+---------+\n",
            "|WHI         |31095    |\n",
            "|BLK         |24597    |\n",
            "|SIL         |18934    |\n",
            "|GRY         |16614    |\n",
            "|BLU         |14071    |\n",
            "|RED         |12840    |\n",
            "|GRN         |6474     |\n",
            "|MAR         |5745     |\n",
            "|TAN         |4672     |\n",
            "|GLD         |3932     |\n",
            "+------------+---------+\n",
            "\n"
          ],
          "name": "stdout"
        }
      ]
    },
    {
      "cell_type": "code",
      "metadata": {
        "colab": {
          "base_uri": "https://localhost:8080/"
        },
        "id": "LGCyXm5Xv9hK",
        "outputId": "653c0cc1-5b12-4add-bdaa-c791ac0f70b7"
      },
      "source": [
        "top_state_ofnces = primary_person_use_df.where(~upper(col('drvr_lic_state_id')).isin('NA', 'UNKNOWN','OTHER'))\\\n",
        "          .groupBy(col('drvr_lic_state_id')).agg(countDistinct('crash_id').alias('count_crsh')).orderBy(col(\"count_crsh\").desc())\\\n",
        "          .select(col('drvr_lic_state_id')).limit(25)\n",
        "top_state_ofnces.show(100, False)"
      ],
      "execution_count": 94,
      "outputs": [
        {
          "output_type": "stream",
          "text": [
            "+-----------------+\n",
            "|drvr_lic_state_id|\n",
            "+-----------------+\n",
            "|Texas            |\n",
            "|Mexico           |\n",
            "|Louisiana        |\n",
            "|New Mexico       |\n",
            "|California       |\n",
            "|Florida          |\n",
            "|Oklahoma         |\n",
            "|Arkansas         |\n",
            "|Arizona          |\n",
            "|Georgia          |\n",
            "|Colorado         |\n",
            "|Illinois         |\n",
            "|Missouri         |\n",
            "|Tennessee        |\n",
            "|Mississippi      |\n",
            "|North Carolina   |\n",
            "|Kansas           |\n",
            "|Alabama          |\n",
            "|Michigan         |\n",
            "|Washington       |\n",
            "|Ohio             |\n",
            "|New York         |\n",
            "|Virginia         |\n",
            "|South Carolina   |\n",
            "|Pennsylvania     |\n",
            "+-----------------+\n",
            "\n"
          ],
          "name": "stdout"
        }
      ]
    },
    {
      "cell_type": "code",
      "metadata": {
        "colab": {
          "base_uri": "https://localhost:8080/"
        },
        "id": "w77wN30x1P7o",
        "outputId": "5b9fa105-c619-404a-b9fd-8546b9819ec7"
      },
      "source": [
        "df_oz = units_use_df.select(col('ownr_zip'), col('veh_lic_state_id')).distinct().select(count('*'), countDistinct('ownr_zip'), countDistinct('veh_lic_state_id')).show(100, False)"
      ],
      "execution_count": 97,
      "outputs": [
        {
          "output_type": "stream",
          "text": [
            "+--------+------------------------+--------------------------------+\n",
            "|count(1)|count(DISTINCT ownr_zip)|count(DISTINCT veh_lic_state_id)|\n",
            "+--------+------------------------+--------------------------------+\n",
            "|10792   |6367                    |59                              |\n",
            "+--------+------------------------+--------------------------------+\n",
            "\n"
          ],
          "name": "stdout"
        }
      ]
    },
    {
      "cell_type": "code",
      "metadata": {
        "colab": {
          "base_uri": "https://localhost:8080/"
        },
        "id": "eggd2_kN1QGr",
        "outputId": "a7397249-d2fe-431f-9174-9c7d18b51514"
      },
      "source": [
        "units_use_df.select(col('ownr_zip'), col('veh_lic_state_id')).distinct().groupBy('ownr_zip').agg(countDistinct('veh_lic_state_id').alias('c')).where(\"c>1\").show(100, False)"
      ],
      "execution_count": 98,
      "outputs": [
        {
          "output_type": "stream",
          "text": [
            "+----------+---+\n",
            "|ownr_zip  |c  |\n",
            "+----------+---+\n",
            "|77303     |3  |\n",
            "|89106     |2  |\n",
            "|77371     |2  |\n",
            "|77339     |6  |\n",
            "|91910     |2  |\n",
            "|73463     |2  |\n",
            "|78382     |3  |\n",
            "|75602     |3  |\n",
            "|79849     |5  |\n",
            "|75007     |3  |\n",
            "|78073     |2  |\n",
            "|32812     |2  |\n",
            "|79360     |4  |\n",
            "|79013     |2  |\n",
            "|91767     |2  |\n",
            "|79345     |2  |\n",
            "|76673     |3  |\n",
            "|78211     |2  |\n",
            "|95212     |2  |\n",
            "|78022     |2  |\n",
            "|37160     |3  |\n",
            "|33615     |2  |\n",
            "|79504     |2  |\n",
            "|48088     |2  |\n",
            "|77872     |2  |\n",
            "|23462     |6  |\n",
            "|73036     |2  |\n",
            "|29401     |2  |\n",
            "|75766     |2  |\n",
            "|95834     |2  |\n",
            "|52406     |2  |\n",
            "|88295     |2  |\n",
            "|62353     |2  |\n",
            "|77375     |3  |\n",
            "|66062     |3  |\n",
            "|55432     |2  |\n",
            "|79313     |2  |\n",
            "|72110     |2  |\n",
            "|75763     |2  |\n",
            "|39218     |3  |\n",
            "|7054      |4  |\n",
            "|77302     |4  |\n",
            "|77871     |2  |\n",
            "|39301     |2  |\n",
            "|77062     |4  |\n",
            "|84332     |2  |\n",
            "|67202     |2  |\n",
            "|77471     |4  |\n",
            "|79705     |9  |\n",
            "|22701-7989|2  |\n",
            "|63021     |2  |\n",
            "|77364     |4  |\n",
            "|55014     |2  |\n",
            "|75219     |4  |\n",
            "|71202     |2  |\n",
            "|75169     |2  |\n",
            "|79911     |2  |\n",
            "|76821     |2  |\n",
            "|77050     |2  |\n",
            "|76060     |3  |\n",
            "|76430     |2  |\n",
            "|95382     |2  |\n",
            "|76148     |2  |\n",
            "|76643     |2  |\n",
            "|42071     |2  |\n",
            "|78228     |4  |\n",
            "|91766     |2  |\n",
            "|60143     |2  |\n",
            "|78552     |3  |\n",
            "|77098     |5  |\n",
            "|94107     |2  |\n",
            "|46808     |2  |\n",
            "|75287     |7  |\n",
            "|76039     |4  |\n",
            "|45833     |2  |\n",
            "|76120     |2  |\n",
            "|78254     |3  |\n",
            "|27330     |2  |\n",
            "|92879     |2  |\n",
            "|75638     |2  |\n",
            "|33880     |2  |\n",
            "|76021     |5  |\n",
            "|71105     |2  |\n",
            "|75154     |5  |\n",
            "|70119     |2  |\n",
            "|76137     |7  |\n",
            "|30513     |2  |\n",
            "|79602     |3  |\n",
            "|73114     |2  |\n",
            "|77407     |6  |\n",
            "|77377     |6  |\n",
            "|78134     |2  |\n",
            "|76689     |2  |\n",
            "|76092     |2  |\n",
            "|74079     |2  |\n",
            "|60173     |2  |\n",
            "|75087     |2  |\n",
            "|30017     |2  |\n",
            "|78223     |4  |\n",
            "|78641     |6  |\n",
            "+----------+---+\n",
            "only showing top 100 rows\n",
            "\n"
          ],
          "name": "stdout"
        }
      ]
    },
    {
      "cell_type": "code",
      "metadata": {
        "colab": {
          "base_uri": "https://localhost:8080/"
        },
        "id": "LoG-q0Rmv9pr",
        "outputId": "c3e8284a-023c-4fb7-b0f5-9760ad33a2d0"
      },
      "source": [
        "primary_person_use_df.select(col('drvr_lic_state_id')).distinct().show(100, False)"
      ],
      "execution_count": 92,
      "outputs": [
        {
          "output_type": "stream",
          "text": [
            "+------------------------+\n",
            "|drvr_lic_state_id       |\n",
            "+------------------------+\n",
            "|Utah                    |\n",
            "|Hawaii                  |\n",
            "|U.S. Virgin Islands     |\n",
            "|Minnesota               |\n",
            "|Ohio                    |\n",
            "|Northern Mariana Islands|\n",
            "|Arkansas                |\n",
            "|Oregon                  |\n",
            "|NA                      |\n",
            "|Texas                   |\n",
            "|North Dakota            |\n",
            "|Pennsylvania            |\n",
            "|Connecticut             |\n",
            "|Nebraska                |\n",
            "|Vermont                 |\n",
            "|Nevada                  |\n",
            "|Puerto Rico             |\n",
            "|Washington              |\n",
            "|Illinois                |\n",
            "|Oklahoma                |\n",
            "|Unknown                 |\n",
            "|District of Columbia    |\n",
            "|Other                   |\n",
            "|Delaware                |\n",
            "|American Samoa (Islands)|\n",
            "|Alaska                  |\n",
            "|New Mexico              |\n",
            "|West Virginia           |\n",
            "|Missouri                |\n",
            "|Rhode Island            |\n",
            "|Mexico                  |\n",
            "|Georgia                 |\n",
            "|Montana                 |\n",
            "|Michigan                |\n",
            "|Virginia                |\n",
            "|Guam                    |\n",
            "|North Carolina          |\n",
            "|Wyoming                 |\n",
            "|Kansas                  |\n",
            "|New Jersey              |\n",
            "|Maryland                |\n",
            "|Alabama                 |\n",
            "|Arizona                 |\n",
            "|Iowa                    |\n",
            "|Canada                  |\n",
            "|Massachusetts           |\n",
            "|Kentucky                |\n",
            "|Louisiana               |\n",
            "|Mississippi             |\n",
            "|Tennessee               |\n",
            "|New Hampshire           |\n",
            "|Florida                 |\n",
            "|Indiana                 |\n",
            "|Wake Island             |\n",
            "|Idaho                   |\n",
            "|South Carolina          |\n",
            "|South Dakota            |\n",
            "|California              |\n",
            "|New York                |\n",
            "|Wisconsin               |\n",
            "|Colorado                |\n",
            "|Maine                   |\n",
            "+------------------------+\n",
            "\n"
          ],
          "name": "stdout"
        }
      ]
    },
    {
      "cell_type": "code",
      "metadata": {
        "id": "68XtGFlMv9tQ"
      },
      "source": [
        ""
      ],
      "execution_count": null,
      "outputs": []
    },
    {
      "cell_type": "code",
      "metadata": {
        "colab": {
          "base_uri": "https://localhost:8080/"
        },
        "id": "3XtmQgJWT04x",
        "outputId": "0e275602-631e-476d-a51c-b187926e4522"
      },
      "source": [
        "units_use_df.select(col('fin_resp_proof_id'), col('fin_resp_type_id')).distinct().show(100, False)"
      ],
      "execution_count": 63,
      "outputs": [
        {
          "output_type": "stream",
          "text": [
            "+-----------------+----------------------------------------+\n",
            "|fin_resp_proof_id|fin_resp_type_id                        |\n",
            "+-----------------+----------------------------------------+\n",
            "|2                |SURETY BOND                             |\n",
            "|2                |PROOF OF LIABILITY INSURANCE            |\n",
            "|1                |PROOF OF LIABILITY INSURANCE            |\n",
            "|NR               |NA                                      |\n",
            "|3                |CERTIFICATE OF SELF-INSURANCE           |\n",
            "|1                |LIABILITY INSURANCE POLICY              |\n",
            "|2                |NA                                      |\n",
            "|3                |NA                                      |\n",
            "|2                |CERTIFICATE OF SELF-INSURANCE           |\n",
            "|4                |INSURANCE BINDER                        |\n",
            "|3                |PROOF OF LIABILITY INSURANCE            |\n",
            "|3                |INSURANCE BINDER                        |\n",
            "|4                |CERTIFICATE OF DEPOSIT WITH COUNTY JUDGE|\n",
            "|2                |CERTIFICATE OF DEPOSIT WITH COMPTROLLER |\n",
            "|4                |PROOF OF LIABILITY INSURANCE            |\n",
            "|NA               |PROOF OF LIABILITY INSURANCE            |\n",
            "|1                |SURETY BOND                             |\n",
            "|2                |INSURANCE BINDER                        |\n",
            "|NA               |LIABILITY INSURANCE POLICY              |\n",
            "|1                |CERTIFICATE OF SELF-INSURANCE           |\n",
            "|NA               |NA                                      |\n",
            "|4                |LIABILITY INSURANCE POLICY              |\n",
            "|3                |LIABILITY INSURANCE POLICY              |\n",
            "|4                |NA                                      |\n",
            "|1                |INSURANCE BINDER                        |\n",
            "|1                |CERTIFICATE OF DEPOSIT WITH COMPTROLLER |\n",
            "|1                |NA                                      |\n",
            "|4                |CERTIFICATE OF SELF-INSURANCE           |\n",
            "|2                |LIABILITY INSURANCE POLICY              |\n",
            "|1                |CERTIFICATE OF DEPOSIT WITH COUNTY JUDGE|\n",
            "+-----------------+----------------------------------------+\n",
            "\n"
          ],
          "name": "stdout"
        }
      ]
    },
    {
      "cell_type": "code",
      "metadata": {
        "colab": {
          "base_uri": "https://localhost:8080/"
        },
        "id": "xOE9EVNvMDu_",
        "outputId": "4e5880ba-efff-40d1-f2f3-cb4d44005c66"
      },
      "source": [
        "primary_person_use_df.select(col('prsn_ethnicity_id')).distinct().show(100, False)"
      ],
      "execution_count": 53,
      "outputs": [
        {
          "output_type": "stream",
          "text": [
            "+---------------------------+\n",
            "|prsn_ethnicity_id          |\n",
            "+---------------------------+\n",
            "|WHITE                      |\n",
            "|BLACK                      |\n",
            "|HISPANIC                   |\n",
            "|NA                         |\n",
            "|AMER. INDIAN/ALASKAN NATIVE|\n",
            "|UNKNOWN                    |\n",
            "|OTHER                      |\n",
            "|ASIAN                      |\n",
            "+---------------------------+\n",
            "\n"
          ],
          "name": "stdout"
        }
      ]
    },
    {
      "cell_type": "code",
      "metadata": {
        "colab": {
          "base_uri": "https://localhost:8080/"
        },
        "id": "_l7bWQIdFNz5",
        "outputId": "56636783-dbc6-4847-91d0-239c79e1d0d2"
      },
      "source": [
        "\n",
        "\n",
        "units_use_df.where(~lower(col('veh_body_styl_id')).isin('na', 'not reported' ,'unknown'))\\\n",
        "      .select(col('veh_body_styl_id')).distinct().show(100, False)"
      ],
      "execution_count": 41,
      "outputs": [
        {
          "output_type": "stream",
          "text": [
            "+---------------------------------+\n",
            "|veh_body_styl_id                 |\n",
            "+---------------------------------+\n",
            "|BUS                              |\n",
            "|NA                               |\n",
            "|VAN                              |\n",
            "|PICKUP                           |\n",
            "|SPORT UTILITY VEHICLE            |\n",
            "|PASSENGER CAR, 4-DOOR            |\n",
            "|FIRE TRUCK                       |\n",
            "|TRUCK                            |\n",
            "|UNKNOWN                          |\n",
            "|AMBULANCE                        |\n",
            "|POLICE CAR/TRUCK                 |\n",
            "|MOTORCYCLE                       |\n",
            "|YELLOW SCHOOL BUS                |\n",
            "|POLICE MOTORCYCLE                |\n",
            "|PASSENGER CAR, 2-DOOR            |\n",
            "|TRUCK TRACTOR                    |\n",
            "|FARM EQUIPMENT                   |\n",
            "|NEV-NEIGHBORHOOD ELECTRIC VEHICLE|\n",
            "|OTHER  (EXPLAIN IN NARRATIVE)    |\n",
            "|NOT REPORTED                     |\n",
            "+---------------------------------+\n",
            "\n"
          ],
          "name": "stdout"
        }
      ]
    },
    {
      "cell_type": "code",
      "metadata": {
        "colab": {
          "base_uri": "https://localhost:8080/"
        },
        "id": "bm_tPHmcs3Ia",
        "outputId": "fb806481-b988-44b5-e5bb-5f9ae5a1a1ca"
      },
      "source": [
        "primary_person_use_df.select(count(\"*\"), countDistinct(col('crash_id')), sum(col('tot_injry_cnt'))).show(10, False)"
      ],
      "execution_count": 24,
      "outputs": [
        {
          "output_type": "stream",
          "text": [
            "+--------+------------------------+------------------+\n",
            "|count(1)|count(DISTINCT crash_id)|sum(tot_injry_cnt)|\n",
            "+--------+------------------------+------------------+\n",
            "|156954  |83805                   |33276             |\n",
            "+--------+------------------------+------------------+\n",
            "\n"
          ],
          "name": "stdout"
        }
      ]
    },
    {
      "cell_type": "code",
      "metadata": {
        "colab": {
          "base_uri": "https://localhost:8080/"
        },
        "id": "-Ih5fyALtK6r",
        "outputId": "ad77047a-e2ff-4571-c12a-da3b5ec8c937"
      },
      "source": [
        "primary_person_use_df.dropDuplicates().select(count(\"*\"), countDistinct(col('crash_id')), sum(col('tot_injry_cnt'))).show(10, False)"
      ],
      "execution_count": 25,
      "outputs": [
        {
          "output_type": "stream",
          "text": [
            "+--------+------------------------+------------------+\n",
            "|count(1)|count(DISTINCT crash_id)|sum(tot_injry_cnt)|\n",
            "+--------+------------------------+------------------+\n",
            "|156954  |83805                   |33276             |\n",
            "+--------+------------------------+------------------+\n",
            "\n"
          ],
          "name": "stdout"
        }
      ]
    },
    {
      "cell_type": "code",
      "metadata": {
        "colab": {
          "base_uri": "https://localhost:8080/"
        },
        "id": "-6dCD7MOtd6o",
        "outputId": "773f8751-dd8f-4dfa-b843-d8cc28c4cda0"
      },
      "source": [
        "primary_person_use_df.orderBy(\"crash_id\").show(100, False)"
      ],
      "execution_count": 26,
      "outputs": [
        {
          "output_type": "stream",
          "text": [
            "+--------+--------+--------+---------------------------------+------------------+-------------------------+--------+-----------------+------------+--------------+-------------------+-----------------+-----------------+-----------+---------------------+----------------+------------------+---------------------+----------------+-----------------+---------------+---------------+------------------+--------------+-------------+--------------+-------------+---------+----------------------+-----------------+------------------+--------+\n",
            "|CRASH_ID|UNIT_NBR|PRSN_NBR|PRSN_TYPE_ID                     |PRSN_OCCPNT_POS_ID|PRSN_INJRY_SEV_ID        |PRSN_AGE|PRSN_ETHNICITY_ID|PRSN_GNDR_ID|PRSN_EJCT_ID  |PRSN_REST_ID       |PRSN_AIRBAG_ID   |PRSN_HELMET_ID   |PRSN_SOL_FL|PRSN_ALC_SPEC_TYPE_ID|PRSN_ALC_RSLT_ID|PRSN_BAC_TEST_RSLT|PRSN_DRG_SPEC_TYPE_ID|PRSN_DRG_RSLT_ID|DRVR_DRG_CAT_1_ID|PRSN_DEATH_TIME|INCAP_INJRY_CNT|NONINCAP_INJRY_CNT|POSS_INJRY_CNT|NON_INJRY_CNT|UNKN_INJRY_CNT|TOT_INJRY_CNT|DEATH_CNT|DRVR_LIC_TYPE_ID      |DRVR_LIC_STATE_ID|DRVR_LIC_CLS_ID   |DRVR_ZIP|\n",
            "+--------+--------+--------+---------------------------------+------------------+-------------------------+--------+-----------------+------------+--------------+-------------------+-----------------+-----------------+-----------+---------------------+----------------+------------------+---------------------+----------------+-----------------+---------------+---------------+------------------+--------------+-------------+--------------+-------------+---------+----------------------+-----------------+------------------+--------+\n",
            "|13403990|1       |1       |DRIVER                           |FRONT LEFT        |POSSIBLE INJURY          |74      |BLACK            |FEMALE      |NO            |SHOULDER & LAP BELT|NOT DEPLOYED     |NOT APPLICABLE   |N          |NONE                 |NA              |NA                |NONE                 |NOT APPLICABLE  |NOT APPLICABLE   |null           |0              |0                 |1             |0            |0             |1            |0        |DRIVER LICENSE        |Texas            |CLASS C           |75951   |\n",
            "|14504626|1       |1       |DRIVER                           |FRONT LEFT        |NOT INJURED              |20      |HISPANIC         |MALE        |NO            |SHOULDER & LAP BELT|DEPLOYED, FRONT  |NOT APPLICABLE   |N          |NONE                 |NA              |NA                |NONE                 |NOT APPLICABLE  |NOT APPLICABLE   |null           |0              |0                 |0             |1            |0             |0            |0        |ID CARD               |Texas            |UNLICENSED        |79938   |\n",
            "|14504626|2       |1       |DRIVER OF MOTORCYCLE TYPE VEHICLE|FRONT LEFT        |POSSIBLE INJURY          |37      |BLACK            |MALE        |NOT APPLICABLE|NOT APPLICABLE     |NOT APPLICABLE   |WORN, NOT DAMAGED|N          |NONE                 |NA              |NA                |NONE                 |NOT APPLICABLE  |NOT APPLICABLE   |null           |0              |0                 |1             |0            |0             |1            |0        |DRIVER LICENSE        |Texas            |CLASS C           |79938   |\n",
            "|14673345|2       |1       |DRIVER OF MOTORCYCLE TYPE VEHICLE|FRONT LEFT        |POSSIBLE INJURY          |60      |HISPANIC         |MALE        |NOT APPLICABLE|NOT APPLICABLE     |NOT APPLICABLE   |WORN, DAMAGED    |N          |NONE                 |NA              |NA                |NONE                 |NOT APPLICABLE  |NOT APPLICABLE   |null           |0              |0                 |1             |0            |0             |1            |0        |DRIVER LICENSE        |Texas            |CLASS A AND M     |78384   |\n",
            "|14673345|1       |1       |DRIVER                           |FRONT LEFT        |NOT INJURED              |81      |HISPANIC         |MALE        |NO            |SHOULDER & LAP BELT|NOT DEPLOYED     |NOT APPLICABLE   |N          |NONE                 |NA              |NA                |NONE                 |NOT APPLICABLE  |NOT APPLICABLE   |null           |0              |0                 |0             |1            |0             |0            |0        |DRIVER LICENSE        |Texas            |CLASS C           |78332   |\n",
            "|14768622|1       |1       |DRIVER                           |FRONT LEFT        |NOT INJURED              |27      |HISPANIC         |MALE        |NO            |NONE               |DEPLOYED MULTIPLE|NOT APPLICABLE   |N          |BLOOD                |Positive        |0.225             |NONE                 |NOT APPLICABLE  |NOT APPLICABLE   |null           |0              |0                 |0             |1            |0             |0            |0        |DRIVER LICENSE        |Texas            |CLASS C           |77357   |\n",
            "|14838637|2       |1       |DRIVER                           |FRONT LEFT        |NOT INJURED              |41      |BLACK            |MALE        |NO            |SHOULDER & LAP BELT|NOT DEPLOYED     |NOT APPLICABLE   |N          |NONE                 |NA              |NA                |NONE                 |NOT APPLICABLE  |NOT APPLICABLE   |null           |0              |0                 |0             |1            |0             |0            |0        |COMMERCIAL DRIVER LIC.|Texas            |CLASS A           |78934   |\n",
            "|14838637|1       |1       |DRIVER                           |FRONT LEFT        |NOT INJURED              |31      |WHITE            |MALE        |NO            |SHOULDER & LAP BELT|NOT DEPLOYED     |NOT APPLICABLE   |N          |BREATH               |Positive        |0.21              |NONE                 |NOT APPLICABLE  |NOT APPLICABLE   |null           |0              |0                 |0             |1            |0             |0            |0        |DRIVER LICENSE        |New York         |OTHER/OUT OF STATE|13830   |\n",
            "|14838641|1       |1       |DRIVER                           |FRONT LEFT        |POSSIBLE INJURY          |32      |WHITE            |MALE        |NO            |SHOULDER & LAP BELT|DEPLOYED MULTIPLE|NOT APPLICABLE   |N          |NONE                 |NA              |NA                |NONE                 |NOT APPLICABLE  |NOT APPLICABLE   |null           |0              |0                 |1             |0            |0             |1            |0        |DRIVER LICENSE        |Texas            |CLASS C           |76520   |\n",
            "|14838641|2       |1       |DRIVER                           |FRONT LEFT        |NON-INCAPACITATING INJURY|34      |BLACK            |FEMALE      |NO            |SHOULDER & LAP BELT|DEPLOYED MULTIPLE|NOT APPLICABLE   |N          |NONE                 |NA              |NA                |NONE                 |NOT APPLICABLE  |NOT APPLICABLE   |null           |0              |1                 |0             |0            |0             |1            |0        |ID CARD               |Texas            |UNLICENSED        |76707   |\n",
            "|14838668|1       |1       |DRIVER                           |FRONT LEFT        |NOT INJURED              |24      |HISPANIC         |MALE        |NO            |SHOULDER & LAP BELT|DEPLOYED, FRONT  |NOT APPLICABLE   |N          |BREATH               |Positive        |0.178             |NONE                 |NOT APPLICABLE  |NOT APPLICABLE   |null           |0              |0                 |0             |1            |0             |0            |0        |DRIVER LICENSE        |Texas            |CLASS C           |78076   |\n",
            "|14838669|2       |1       |DRIVER                           |FRONT LEFT        |NOT INJURED              |24      |WHITE            |MALE        |NO            |UNKNOWN            |DEPLOYED, FRONT  |NOT APPLICABLE   |N          |BREATH               |Positive        |0.219             |NONE                 |NOT APPLICABLE  |NOT APPLICABLE   |null           |0              |0                 |0             |1            |0             |0            |0        |DRIVER LICENSE        |Texas            |CLASS C           |76118   |\n",
            "|14838669|1       |1       |DRIVER                           |FRONT LEFT        |NOT INJURED              |53      |WHITE            |MALE        |NO            |SHOULDER & LAP BELT|NOT DEPLOYED     |NOT APPLICABLE   |N          |NONE                 |NA              |NA                |NONE                 |NOT APPLICABLE  |NOT APPLICABLE   |null           |0              |0                 |0             |1            |0             |0            |0        |DRIVER LICENSE        |Texas            |CLASS C           |76053   |\n",
            "|14838670|1       |1       |DRIVER                           |FRONT LEFT        |NOT INJURED              |23      |WHITE            |MALE        |NO            |NONE               |NOT DEPLOYED     |NOT APPLICABLE   |N          |BLOOD                |Positive        |0.16              |BLOOD                |UNKNOWN         |UNKNOWN          |null           |0              |0                 |0             |1            |0             |0            |0        |DRIVER LICENSE        |Texas            |CLASS C           |75050   |\n",
            "|14838685|1       |1       |DRIVER                           |FRONT LEFT        |NOT INJURED              |27      |BLACK            |FEMALE      |NO            |SHOULDER & LAP BELT|NOT DEPLOYED     |NOT APPLICABLE   |N          |NONE                 |NA              |NA                |NONE                 |NOT APPLICABLE  |NOT APPLICABLE   |null           |0              |0                 |0             |1            |0             |0            |0        |ID CARD               |Texas            |UNLICENSED        |77033   |\n",
            "|14838693|1       |1       |DRIVER                           |FRONT LEFT        |NOT INJURED              |52      |HISPANIC         |MALE        |NO            |SHOULDER & LAP BELT|NOT DEPLOYED     |NOT APPLICABLE   |N          |BREATH               |Positive        |0.193             |NONE                 |NOT APPLICABLE  |NOT APPLICABLE   |null           |0              |0                 |0             |1            |0             |0            |0        |DRIVER LICENSE        |Texas            |CLASS C           |78564   |\n",
            "|14838768|1       |1       |DRIVER                           |FRONT LEFT        |NOT INJURED              |20      |ASIAN            |MALE        |NO            |SHOULDER & LAP BELT|DEPLOYED MULTIPLE|NOT APPLICABLE   |N          |NONE                 |NA              |NA                |NONE                 |NOT APPLICABLE  |NOT APPLICABLE   |null           |0              |0                 |0             |1            |0             |0            |0        |DRIVER LICENSE        |California       |OTHER/OUT OF STATE|77090   |\n",
            "|14838768|2       |1       |DRIVER                           |FRONT LEFT        |NOT INJURED              |55      |HISPANIC         |FEMALE      |NO            |SHOULDER & LAP BELT|NOT DEPLOYED     |NOT APPLICABLE   |N          |BLOOD                |Negative        |0                 |NONE                 |NOT APPLICABLE  |NOT APPLICABLE   |null           |0              |0                 |0             |1            |0             |0            |0        |DRIVER LICENSE        |Texas            |CLASS C           |77080   |\n",
            "|14838834|1       |1       |DRIVER                           |FRONT LEFT        |NOT INJURED              |20      |HISPANIC         |MALE        |NO            |UNKNOWN            |DEPLOYED, FRONT  |NOT APPLICABLE   |N          |NONE                 |NA              |NA                |NONE                 |NOT APPLICABLE  |NOT APPLICABLE   |null           |0              |0                 |0             |1            |0             |0            |0        |UNKNOWN               |Unknown          |UNKNOWN           |79107   |\n",
            "|14838841|1       |1       |DRIVER                           |FRONT LEFT        |NOT INJURED              |25      |HISPANIC         |FEMALE      |UNKNOWN       |UNKNOWN            |NOT DEPLOYED     |NOT APPLICABLE   |N          |NONE                 |NA              |NA                |NONE                 |NOT APPLICABLE  |NOT APPLICABLE   |null           |0              |0                 |0             |1            |0             |0            |0        |DRIVER LICENSE        |Texas            |CLASS C           |79412   |\n",
            "|14838842|2       |1       |DRIVER                           |FRONT LEFT        |NOT INJURED              |34      |HISPANIC         |FEMALE      |NO            |SHOULDER & LAP BELT|NOT DEPLOYED     |NOT APPLICABLE   |N          |NONE                 |NA              |NA                |NONE                 |NOT APPLICABLE  |NOT APPLICABLE   |null           |0              |0                 |0             |1            |0             |0            |0        |DRIVER LICENSE        |Texas            |CLASS C           |79401   |\n",
            "|14838842|1       |1       |DRIVER                           |FRONT LEFT        |NOT INJURED              |41      |HISPANIC         |FEMALE      |NO            |UNKNOWN            |NOT DEPLOYED     |NOT APPLICABLE   |N          |NONE                 |NA              |NA                |NONE                 |NOT APPLICABLE  |NOT APPLICABLE   |null           |0              |0                 |0             |1            |0             |0            |0        |DRIVER LICENSE        |Texas            |CLASS C           |79403   |\n",
            "|14838866|1       |1       |DRIVER                           |FRONT LEFT        |POSSIBLE INJURY          |44      |WHITE            |MALE        |NO            |SHOULDER & LAP BELT|DEPLOYED, FRONT  |NOT APPLICABLE   |N          |NONE                 |NA              |NA                |NONE                 |NOT APPLICABLE  |NOT APPLICABLE   |null           |0              |0                 |1             |0            |0             |1            |0        |DRIVER LICENSE        |Texas            |CLASS C           |76705   |\n",
            "|14838877|1       |1       |DRIVER                           |FRONT LEFT        |NOT INJURED              |39      |WHITE            |MALE        |NO            |NONE               |NOT DEPLOYED     |NOT APPLICABLE   |N          |BLOOD                |Positive        |0.21              |BLOOD                |NOT APPLICABLE  |NOT APPLICABLE   |null           |0              |0                 |0             |1            |0             |0            |0        |DRIVER LICENSE        |Texas            |CLASS C           |76247   |\n",
            "|14838972|1       |1       |DRIVER                           |FRONT LEFT        |NOT INJURED              |59      |WHITE            |MALE        |NO            |SHOULDER & LAP BELT|NOT DEPLOYED     |NOT APPLICABLE   |N          |NONE                 |NA              |NA                |NONE                 |NOT APPLICABLE  |NOT APPLICABLE   |null           |0              |0                 |0             |1            |0             |0            |0        |DRIVER LICENSE        |Texas            |CLASS C           |78578   |\n",
            "|14838972|2       |1       |DRIVER                           |FRONT LEFT        |NOT INJURED              |19      |WHITE            |MALE        |NO            |SHOULDER & LAP BELT|NOT DEPLOYED     |NOT APPLICABLE   |N          |NONE                 |NA              |NA                |NONE                 |NOT APPLICABLE  |NOT APPLICABLE   |null           |0              |0                 |0             |1            |0             |0            |0        |DRIVER LICENSE        |Texas            |CLASS C           |75067   |\n",
            "|14838977|1       |1       |DRIVER                           |FRONT LEFT        |NOT INJURED              |21      |WHITE            |MALE        |NO            |SHOULDER & LAP BELT|DEPLOYED, FRONT  |NOT APPLICABLE   |N          |NONE                 |NA              |NA                |NONE                 |NOT APPLICABLE  |NOT APPLICABLE   |null           |0              |0                 |0             |1            |0             |0            |0        |DRIVER LICENSE        |Texas            |CLASS C           |78751   |\n",
            "|14839046|1       |1       |DRIVER                           |FRONT LEFT        |NOT INJURED              |42      |HISPANIC         |MALE        |NO            |SHOULDER & LAP BELT|NOT DEPLOYED     |NOT APPLICABLE   |N          |NONE                 |NA              |NA                |NONE                 |NOT APPLICABLE  |NOT APPLICABLE   |null           |0              |0                 |0             |1            |0             |0            |0        |DRIVER LICENSE        |Texas            |CLASS C           |78259   |\n",
            "|14839046|2       |1       |DRIVER                           |FRONT LEFT        |NOT INJURED              |NA      |WHITE            |FEMALE      |NO            |SHOULDER & LAP BELT|NOT DEPLOYED     |NOT APPLICABLE   |N          |NONE                 |NA              |NA                |NONE                 |NOT APPLICABLE  |NOT APPLICABLE   |null           |0              |0                 |0             |1            |0             |0            |0        |DRIVER LICENSE        |Texas            |CLASS C           |78230   |\n",
            "|14839047|1       |1       |DRIVER                           |FRONT LEFT        |NOT INJURED              |35      |BLACK            |MALE        |NO            |SHOULDER & LAP BELT|NOT DEPLOYED     |NOT APPLICABLE   |N          |BREATH               |Positive        |0.143             |NONE                 |NOT APPLICABLE  |NOT APPLICABLE   |null           |0              |0                 |0             |1            |0             |0            |0        |DRIVER LICENSE        |Texas            |CLASS C           |76101   |\n",
            "|14839048|1       |1       |DRIVER                           |FRONT LEFT        |NOT INJURED              |30      |BLACK            |MALE        |NO            |SHOULDER & LAP BELT|NOT DEPLOYED     |NOT APPLICABLE   |N          |BREATH               |Positive        |0.14              |NONE                 |NOT APPLICABLE  |NOT APPLICABLE   |null           |0              |0                 |0             |1            |0             |0            |0        |DRIVER LICENSE        |Texas            |CLASS C           |76010   |\n",
            "|14839097|2       |1       |DRIVER                           |FRONT LEFT        |NOT INJURED              |42      |HISPANIC         |MALE        |NO            |SHOULDER & LAP BELT|NOT DEPLOYED     |NOT APPLICABLE   |N          |NONE                 |NA              |NA                |NONE                 |NOT APPLICABLE  |NOT APPLICABLE   |null           |0              |0                 |0             |1            |0             |0            |0        |ID CARD               |Texas            |UNLICENSED        |78254   |\n",
            "|14839097|3       |1       |DRIVER                           |FRONT LEFT        |NOT INJURED              |26      |WHITE            |FEMALE      |NO            |SHOULDER & LAP BELT|NOT DEPLOYED     |NOT APPLICABLE   |N          |NONE                 |NA              |NA                |NONE                 |NOT APPLICABLE  |NOT APPLICABLE   |null           |0              |0                 |0             |1            |0             |0            |0        |DRIVER LICENSE        |Texas            |CLASS A           |78240   |\n",
            "|14839097|1       |1       |DRIVER                           |FRONT LEFT        |NOT INJURED              |22      |HISPANIC         |MALE        |NO            |SHOULDER & LAP BELT|NOT DEPLOYED     |NOT APPLICABLE   |N          |NONE                 |NA              |NA                |NONE                 |NOT APPLICABLE  |NOT APPLICABLE   |null           |0              |0                 |0             |1            |0             |0            |0        |DRIVER LICENSE        |Texas            |CLASS C           |78744   |\n",
            "|14839100|2       |1       |DRIVER                           |FRONT LEFT        |NOT INJURED              |55      |HISPANIC         |MALE        |NO            |SHOULDER & LAP BELT|NOT DEPLOYED     |NOT APPLICABLE   |N          |NONE                 |NA              |NA                |NONE                 |NOT APPLICABLE  |NOT APPLICABLE   |null           |0              |0                 |0             |1            |0             |0            |0        |ID CARD               |Texas            |UNLICENSED        |78227   |\n",
            "|14839100|1       |1       |DRIVER                           |FRONT LEFT        |NOT INJURED              |23      |HISPANIC         |MALE        |NO            |SHOULDER & LAP BELT|NOT DEPLOYED     |NOT APPLICABLE   |N          |NONE                 |NA              |NA                |NONE                 |NOT APPLICABLE  |NOT APPLICABLE   |null           |0              |0                 |0             |1            |0             |0            |0        |DRIVER LICENSE        |Texas            |CLASS C           |78220   |\n",
            "|14839166|1       |1       |DRIVER                           |FRONT LEFT        |NOT INJURED              |24      |HISPANIC         |MALE        |NO            |SHOULDER & LAP BELT|NOT DEPLOYED     |NOT APPLICABLE   |N          |NONE                 |NA              |NA                |NONE                 |NOT APPLICABLE  |NOT APPLICABLE   |null           |0              |0                 |0             |1            |0             |0            |0        |UNLICENSED            |NA               |UNLICENSED        |78247   |\n",
            "|14839211|2       |1       |DRIVER                           |FRONT LEFT        |NOT INJURED              |30      |HISPANIC         |MALE        |NO            |SHOULDER & LAP BELT|NOT DEPLOYED     |NOT APPLICABLE   |N          |NONE                 |NA              |NA                |NONE                 |NOT APPLICABLE  |NOT APPLICABLE   |null           |0              |0                 |0             |1            |0             |0            |0        |DRIVER LICENSE        |Texas            |CLASS C           |78237   |\n",
            "|14839211|1       |1       |DRIVER                           |FRONT LEFT        |POSSIBLE INJURY          |52      |HISPANIC         |MALE        |NO            |SHOULDER & LAP BELT|NOT DEPLOYED     |NOT APPLICABLE   |N          |NONE                 |NA              |NA                |NONE                 |NOT APPLICABLE  |NOT APPLICABLE   |null           |0              |0                 |1             |0            |0             |1            |0        |DRIVER LICENSE        |Texas            |CLASS C           |78207   |\n",
            "|14839233|1       |1       |DRIVER                           |FRONT LEFT        |UNKNOWN                  |19      |WHITE            |MALE        |NO            |UNKNOWN            |NOT DEPLOYED     |NOT APPLICABLE   |N          |NONE                 |NA              |NA                |NONE                 |NOT APPLICABLE  |NOT APPLICABLE   |null           |0              |0                 |0             |0            |1             |0            |0        |DRIVER LICENSE        |Texas            |CLASS C           |78146   |\n",
            "|14839240|2       |1       |DRIVER                           |FRONT LEFT        |NOT INJURED              |22      |BLACK            |MALE        |NO            |SHOULDER & LAP BELT|NOT DEPLOYED     |NOT APPLICABLE   |N          |NONE                 |NA              |NA                |NONE                 |NOT APPLICABLE  |NOT APPLICABLE   |null           |0              |0                 |0             |1            |0             |0            |0        |DRIVER LICENSE        |Texas            |CLASS C           |75668   |\n",
            "|14839240|3       |1       |DRIVER                           |FRONT LEFT        |NOT INJURED              |19      |BLACK            |FEMALE      |NO            |SHOULDER & LAP BELT|NOT DEPLOYED     |NOT APPLICABLE   |N          |NONE                 |NA              |NA                |NONE                 |NOT APPLICABLE  |NOT APPLICABLE   |null           |0              |0                 |0             |1            |0             |0            |0        |DRIVER LICENSE        |Texas            |CLASS C           |77459   |\n",
            "|14839240|1       |1       |DRIVER                           |FRONT LEFT        |NOT INJURED              |24      |BLACK            |FEMALE      |NO            |SHOULDER & LAP BELT|NOT DEPLOYED     |NOT APPLICABLE   |N          |NONE                 |NA              |NA                |NONE                 |NOT APPLICABLE  |NOT APPLICABLE   |null           |0              |0                 |0             |1            |0             |0            |0        |ID CARD               |Texas            |UNLICENSED        |77083   |\n",
            "|14839272|2       |1       |DRIVER                           |FRONT LEFT        |NOT INJURED              |35      |BLACK            |FEMALE      |NO            |SHOULDER & LAP BELT|NOT DEPLOYED     |NOT APPLICABLE   |N          |NONE                 |NA              |NA                |NONE                 |NOT APPLICABLE  |NOT APPLICABLE   |null           |0              |0                 |0             |1            |0             |0            |0        |DRIVER LICENSE        |Texas            |CLASS C           |75709   |\n",
            "|14839272|1       |1       |DRIVER                           |FRONT LEFT        |NOT INJURED              |21      |WHITE            |FEMALE      |NO            |SHOULDER & LAP BELT|NOT DEPLOYED     |NOT APPLICABLE   |N          |NONE                 |NA              |NA                |NONE                 |NOT APPLICABLE  |NOT APPLICABLE   |null           |0              |0                 |0             |1            |0             |0            |0        |DRIVER LICENSE        |Texas            |CLASS C           |75707   |\n",
            "|14839307|2       |1       |DRIVER                           |FRONT LEFT        |NOT INJURED              |23      |WHITE            |FEMALE      |NO            |SHOULDER & LAP BELT|NOT DEPLOYED     |NOT APPLICABLE   |N          |NONE                 |NA              |NA                |NONE                 |NOT APPLICABLE  |NOT APPLICABLE   |null           |0              |0                 |0             |1            |0             |0            |0        |DRIVER LICENSE        |Texas            |CLASS C           |78734   |\n",
            "|14839307|1       |1       |DRIVER                           |FRONT LEFT        |NOT INJURED              |30      |WHITE            |MALE        |NO            |SHOULDER & LAP BELT|NOT DEPLOYED     |NOT APPLICABLE   |N          |BLOOD                |Positive        |0.14              |NONE                 |NOT APPLICABLE  |NOT APPLICABLE   |null           |0              |0                 |0             |1            |0             |0            |0        |DRIVER LICENSE        |Texas            |CLASS C           |78660   |\n",
            "|14839314|1       |1       |DRIVER                           |FRONT LEFT        |NOT INJURED              |29      |WHITE            |MALE        |NO            |SHOULDER & LAP BELT|DEPLOYED, FRONT  |NOT APPLICABLE   |N          |NONE                 |NA              |NA                |NONE                 |NOT APPLICABLE  |NOT APPLICABLE   |null           |0              |0                 |0             |1            |0             |0            |0        |DRIVER LICENSE        |Texas            |CLASS C           |77373   |\n",
            "|14839330|1       |1       |DRIVER                           |FRONT LEFT        |NOT INJURED              |44      |HISPANIC         |MALE        |NO            |SHOULDER & LAP BELT|NOT DEPLOYED     |NOT APPLICABLE   |N          |NONE                 |NA              |NA                |NONE                 |NOT APPLICABLE  |NOT APPLICABLE   |null           |0              |0                 |0             |1            |0             |0            |0        |DRIVER LICENSE        |Texas            |CLASS C           |78230   |\n",
            "|14839342|1       |1       |DRIVER                           |FRONT LEFT        |NOT INJURED              |25      |WHITE            |MALE        |NO            |SHOULDER & LAP BELT|NOT DEPLOYED     |NOT APPLICABLE   |N          |NONE                 |NA              |NA                |NONE                 |NOT APPLICABLE  |NOT APPLICABLE   |null           |0              |0                 |0             |1            |0             |0            |0        |DRIVER LICENSE        |Texas            |CLASS C           |78745   |\n",
            "|14839342|2       |1       |DRIVER                           |FRONT LEFT        |NOT INJURED              |29      |HISPANIC         |MALE        |NO            |SHOULDER & LAP BELT|NOT DEPLOYED     |NOT APPLICABLE   |N          |NONE                 |NA              |NA                |NONE                 |NOT APPLICABLE  |NOT APPLICABLE   |null           |0              |0                 |0             |1            |0             |0            |0        |DRIVER LICENSE        |Texas            |CLASS C           |75043   |\n",
            "|14839343|2       |1       |DRIVER                           |FRONT LEFT        |NOT INJURED              |23      |HISPANIC         |MALE        |NO            |SHOULDER & LAP BELT|NOT DEPLOYED     |NOT APPLICABLE   |N          |NONE                 |NA              |NA                |NONE                 |NOT APPLICABLE  |NOT APPLICABLE   |null           |0              |0                 |0             |1            |0             |0            |0        |OTHER                 |Texas            |UNLICENSED        |78223   |\n",
            "|14839343|1       |1       |DRIVER                           |FRONT LEFT        |NOT INJURED              |NA      |UNKNOWN          |UNKNOWN     |NO            |UNKNOWN            |NOT APPLICABLE   |NOT APPLICABLE   |N          |NONE                 |NA              |NA                |NONE                 |NOT APPLICABLE  |NOT APPLICABLE   |null           |0              |0                 |0             |1            |0             |0            |0        |UNKNOWN               |Unknown          |UNKNOWN           |null    |\n",
            "|14839345|1       |1       |DRIVER                           |FRONT LEFT        |NOT INJURED              |18      |BLACK            |MALE        |NO            |SHOULDER & LAP BELT|NOT DEPLOYED     |NOT APPLICABLE   |N          |NONE                 |NA              |NA                |NONE                 |NOT APPLICABLE  |NOT APPLICABLE   |null           |0              |0                 |0             |1            |0             |0            |0        |DRIVER LICENSE        |Texas            |CLASS C           |77520   |\n",
            "|14839345|2       |1       |DRIVER                           |FRONT LEFT        |NOT INJURED              |19      |HISPANIC         |MALE        |NO            |SHOULDER & LAP BELT|NOT DEPLOYED     |NOT APPLICABLE   |N          |NONE                 |NA              |NA                |NONE                 |NOT APPLICABLE  |NOT APPLICABLE   |null           |0              |0                 |0             |1            |0             |0            |0        |ID CARD               |Texas            |UNLICENSED        |77521   |\n",
            "|14839404|1       |1       |DRIVER                           |FRONT LEFT        |NOT INJURED              |21      |ASIAN            |FEMALE      |NO            |SHOULDER & LAP BELT|DEPLOYED, FRONT  |NOT APPLICABLE   |N          |NONE                 |NA              |NA                |NONE                 |NOT APPLICABLE  |NOT APPLICABLE   |null           |0              |0                 |0             |1            |0             |0            |0        |DRIVER LICENSE        |Texas            |CLASS C           |77099   |\n",
            "|14839404|2       |1       |DRIVER                           |FRONT LEFT        |NON-INCAPACITATING INJURY|34      |WHITE            |FEMALE      |NO            |SHOULDER & LAP BELT|DEPLOYED, SIDE   |NOT APPLICABLE   |N          |NONE                 |NA              |NA                |NONE                 |NOT APPLICABLE  |NOT APPLICABLE   |null           |0              |1                 |0             |0            |0             |1            |0        |DRIVER LICENSE        |Texas            |CLASS C           |77070   |\n",
            "|14839404|3       |1       |DRIVER                           |FRONT LEFT        |NOT INJURED              |60      |WHITE            |MALE        |NO            |SHOULDER & LAP BELT|NOT DEPLOYED     |NOT APPLICABLE   |N          |NONE                 |NA              |NA                |NONE                 |NOT APPLICABLE  |NOT APPLICABLE   |null           |0              |0                 |0             |1            |0             |0            |0        |DRIVER LICENSE        |Texas            |CLASS C           |77040   |\n",
            "|14839435|1       |1       |DRIVER                           |FRONT LEFT        |NOT INJURED              |20      |WHITE            |MALE        |NO            |SHOULDER & LAP BELT|NOT DEPLOYED     |NOT APPLICABLE   |N          |BREATH               |Positive        |0.104             |NONE                 |NOT APPLICABLE  |NOT APPLICABLE   |null           |0              |0                 |0             |1            |0             |0            |0        |DRIVER LICENSE        |Texas            |CLASS C           |78209   |\n",
            "|14839442|1       |1       |DRIVER                           |FRONT LEFT        |NOT INJURED              |30      |HISPANIC         |MALE        |NO            |SHOULDER & LAP BELT|NOT DEPLOYED     |NOT APPLICABLE   |N          |BREATH               |NA              |NA                |NONE                 |NOT APPLICABLE  |NOT APPLICABLE   |null           |0              |0                 |0             |1            |0             |0            |0        |DRIVER LICENSE        |Texas            |CLASS C           |78202   |\n",
            "|14839472|1       |1       |DRIVER                           |FRONT LEFT        |NOT INJURED              |61      |WHITE            |FEMALE      |NO            |SHOULDER & LAP BELT|NOT DEPLOYED     |NOT APPLICABLE   |N          |NONE                 |NA              |NA                |NONE                 |NOT APPLICABLE  |NOT APPLICABLE   |null           |0              |0                 |0             |1            |0             |0            |0        |DRIVER LICENSE        |Texas            |CLASS C           |77521   |\n",
            "|14839510|2       |1       |DRIVER                           |FRONT LEFT        |NOT INJURED              |43      |BLACK            |MALE        |NO            |SHOULDER & LAP BELT|NOT DEPLOYED     |NOT APPLICABLE   |N          |NONE                 |NA              |NA                |NONE                 |NOT APPLICABLE  |NOT APPLICABLE   |null           |0              |0                 |0             |1            |0             |0            |0        |DRIVER LICENSE        |Texas            |CLASS C           |75709   |\n",
            "|14839510|1       |1       |DRIVER                           |FRONT LEFT        |NOT INJURED              |58      |WHITE            |MALE        |NO            |SHOULDER & LAP BELT|DEPLOYED, FRONT  |NOT APPLICABLE   |N          |NONE                 |NA              |NA                |NONE                 |NOT APPLICABLE  |NOT APPLICABLE   |null           |0              |0                 |0             |1            |0             |0            |0        |DRIVER LICENSE        |Texas            |CLASS C           |75143   |\n",
            "|14839517|1       |1       |DRIVER                           |FRONT LEFT        |NOT INJURED              |55      |BLACK            |MALE        |NO            |SHOULDER & LAP BELT|DEPLOYED, FRONT  |NOT APPLICABLE   |N          |BLOOD                |Positive        |0.233             |NONE                 |NOT APPLICABLE  |NOT APPLICABLE   |null           |0              |0                 |0             |1            |0             |0            |0        |ID CARD               |Texas            |UNLICENSED        |75149   |\n",
            "|14839519|1       |1       |DRIVER                           |FRONT LEFT        |NOT INJURED              |26      |HISPANIC         |MALE        |NO            |SHOULDER & LAP BELT|DEPLOYED MULTIPLE|NOT APPLICABLE   |N          |NONE                 |NA              |NA                |NONE                 |NOT APPLICABLE  |NOT APPLICABLE   |null           |0              |0                 |0             |1            |0             |0            |0        |DRIVER LICENSE        |Texas            |CLASS C           |78114   |\n",
            "|14839551|1       |1       |DRIVER                           |FRONT LEFT        |NOT INJURED              |21      |HISPANIC         |MALE        |NO            |SHOULDER & LAP BELT|NOT DEPLOYED     |NOT APPLICABLE   |N          |NONE                 |NA              |NA                |NONE                 |NOT APPLICABLE  |NOT APPLICABLE   |null           |0              |0                 |0             |1            |0             |0            |0        |UNLICENSED            |NA               |UNLICENSED        |78220   |\n",
            "|14839561|1       |1       |DRIVER                           |FRONT LEFT        |NOT INJURED              |27      |HISPANIC         |MALE        |NO            |SHOULDER & LAP BELT|DEPLOYED, FRONT  |NOT APPLICABLE   |N          |NONE                 |NA              |NA                |NONE                 |NOT APPLICABLE  |NOT APPLICABLE   |null           |0              |0                 |0             |1            |0             |0            |0        |UNLICENSED            |NA               |UNLICENSED        |75062   |\n",
            "|14839615|2       |1       |DRIVER                           |FRONT LEFT        |NOT INJURED              |20      |HISPANIC         |MALE        |NO            |SHOULDER & LAP BELT|NOT DEPLOYED     |NOT APPLICABLE   |N          |NONE                 |NA              |NA                |NONE                 |NOT APPLICABLE  |NOT APPLICABLE   |null           |0              |0                 |0             |1            |0             |0            |0        |DRIVER LICENSE        |Texas            |CLASS C           |78245   |\n",
            "|14839615|1       |1       |DRIVER                           |FRONT LEFT        |NOT INJURED              |33      |HISPANIC         |MALE        |NO            |SHOULDER & LAP BELT|NOT DEPLOYED     |NOT APPLICABLE   |N          |NONE                 |NA              |NA                |NONE                 |NOT APPLICABLE  |NOT APPLICABLE   |null           |0              |0                 |0             |1            |0             |0            |0        |ID CARD               |Texas            |UNLICENSED        |78245   |\n",
            "|14839642|2       |1       |DRIVER                           |FRONT LEFT        |POSSIBLE INJURY          |34      |WHITE            |FEMALE      |NO            |SHOULDER & LAP BELT|DEPLOYED, FRONT  |NOT APPLICABLE   |N          |NONE                 |NA              |NA                |NONE                 |NOT APPLICABLE  |NOT APPLICABLE   |null           |0              |0                 |1             |0            |0             |1            |0        |COMMERCIAL DRIVER LIC.|Texas            |CLASS B           |77316   |\n",
            "|14839642|1       |1       |DRIVER                           |FRONT LEFT        |NOT INJURED              |55      |WHITE            |MALE        |NO            |SHOULDER & LAP BELT|NOT DEPLOYED     |NOT APPLICABLE   |N          |NONE                 |NA              |NA                |NONE                 |NOT APPLICABLE  |NOT APPLICABLE   |null           |0              |0                 |0             |1            |0             |0            |0        |DRIVER LICENSE        |Texas            |CLASS C           |77075   |\n",
            "|14839675|1       |1       |DRIVER                           |FRONT LEFT        |NOT INJURED              |18      |WHITE            |MALE        |NO            |SHOULDER & LAP BELT|NOT DEPLOYED     |NOT APPLICABLE   |N          |NONE                 |NA              |NA                |NONE                 |NOT APPLICABLE  |NOT APPLICABLE   |null           |0              |0                 |0             |1            |0             |0            |0        |DRIVER LICENSE        |Texas            |CLASS C           |77372   |\n",
            "|14839713|2       |1       |UNKNOWN                          |UNKNOWN           |NOT INJURED              |NA      |UNKNOWN          |UNKNOWN     |NOT APPLICABLE|NOT APPLICABLE     |NOT APPLICABLE   |NOT APPLICABLE   |N          |NONE                 |NA              |NA                |NONE                 |NOT APPLICABLE  |NOT APPLICABLE   |null           |0              |0                 |0             |1            |0             |0            |0        |NA                    |NA               |NA                |null    |\n",
            "|14839713|1       |1       |DRIVER                           |FRONT LEFT        |NOT INJURED              |19      |HISPANIC         |MALE        |NO            |SHOULDER & LAP BELT|DEPLOYED, FRONT  |NOT APPLICABLE   |N          |NONE                 |NA              |NA                |NONE                 |NOT APPLICABLE  |NOT APPLICABLE   |null           |0              |0                 |0             |1            |0             |0            |0        |DRIVER LICENSE        |Texas            |CLASS C           |77075   |\n",
            "|14839721|1       |1       |DRIVER                           |FRONT LEFT        |NOT INJURED              |55      |HISPANIC         |FEMALE      |NO            |SHOULDER & LAP BELT|NOT DEPLOYED     |NOT APPLICABLE   |N          |NONE                 |NA              |NA                |NONE                 |NOT APPLICABLE  |NOT APPLICABLE   |null           |0              |0                 |0             |1            |0             |0            |0        |DRIVER LICENSE        |Texas            |CLASS C           |75038   |\n",
            "|14839735|1       |1       |DRIVER                           |FRONT LEFT        |POSSIBLE INJURY          |33      |WHITE            |FEMALE      |NO            |UNKNOWN            |NOT DEPLOYED     |NOT APPLICABLE   |N          |NONE                 |NA              |NA                |NONE                 |NOT APPLICABLE  |NOT APPLICABLE   |null           |0              |0                 |1             |0            |0             |1            |0        |DRIVER LICENSE        |Texas            |CLASS C           |77375   |\n",
            "|14839735|2       |1       |DRIVER                           |FRONT LEFT        |POSSIBLE INJURY          |49      |BLACK            |MALE        |NO            |UNKNOWN            |NOT DEPLOYED     |NOT APPLICABLE   |N          |NONE                 |NA              |NA                |NONE                 |NOT APPLICABLE  |NOT APPLICABLE   |null           |0              |0                 |1             |0            |0             |1            |0        |COMMERCIAL DRIVER LIC.|Texas            |CLASS A           |77493   |\n",
            "|14839747|2       |1       |DRIVER                           |FRONT LEFT        |NOT INJURED              |46      |BLACK            |FEMALE      |NO            |SHOULDER & LAP BELT|NOT DEPLOYED     |NOT APPLICABLE   |N          |NONE                 |NA              |NA                |NONE                 |NOT APPLICABLE  |NOT APPLICABLE   |null           |0              |0                 |0             |1            |0             |0            |0        |DRIVER LICENSE        |Texas            |CLASS C           |75287   |\n",
            "|14839747|1       |1       |DRIVER                           |FRONT LEFT        |NOT INJURED              |18      |WHITE            |MALE        |NO            |SHOULDER & LAP BELT|NOT DEPLOYED     |NOT APPLICABLE   |N          |NONE                 |NA              |NA                |NONE                 |NOT APPLICABLE  |NOT APPLICABLE   |null           |0              |0                 |0             |1            |0             |0            |0        |DRIVER LICENSE        |Texas            |CLASS C           |75067   |\n",
            "|14839755|2       |1       |DRIVER                           |FRONT LEFT        |NOT INJURED              |30      |HISPANIC         |MALE        |NO            |SHOULDER & LAP BELT|DEPLOYED, FRONT  |NOT APPLICABLE   |N          |NONE                 |NA              |NA                |NONE                 |NOT APPLICABLE  |NOT APPLICABLE   |null           |0              |0                 |0             |1            |0             |0            |0        |DRIVER LICENSE        |Texas            |CLASS C           |78231   |\n",
            "|14839755|1       |1       |DRIVER                           |FRONT LEFT        |POSSIBLE INJURY          |52      |WHITE            |MALE        |NO            |SHOULDER & LAP BELT|NOT DEPLOYED     |NOT APPLICABLE   |N          |NONE                 |NA              |NA                |NONE                 |NOT APPLICABLE  |NOT APPLICABLE   |null           |0              |0                 |1             |0            |0             |1            |0        |DRIVER LICENSE        |Texas            |CLASS C           |78219   |\n",
            "|14839761|1       |1       |DRIVER                           |FRONT LEFT        |NOT INJURED              |33      |HISPANIC         |MALE        |NO            |UNKNOWN            |NOT DEPLOYED     |NOT APPLICABLE   |N          |NONE                 |NA              |NA                |NONE                 |NOT APPLICABLE  |NOT APPLICABLE   |null           |0              |0                 |0             |1            |0             |0            |0        |DRIVER LICENSE        |Texas            |CLASS C           |78219   |\n",
            "|14839783|1       |1       |DRIVER                           |FRONT LEFT        |NOT INJURED              |60      |BLACK            |MALE        |NO            |SHOULDER & LAP BELT|NOT DEPLOYED     |NOT APPLICABLE   |N          |BLOOD                |NA              |NA                |NONE                 |NOT APPLICABLE  |NOT APPLICABLE   |null           |0              |0                 |0             |1            |0             |0            |0        |DRIVER LICENSE        |Texas            |CLASS C           |75455   |\n",
            "|14839807|2       |1       |DRIVER                           |FRONT LEFT        |NOT INJURED              |39      |BLACK            |FEMALE      |NO            |SHOULDER & LAP BELT|NOT DEPLOYED     |NOT APPLICABLE   |N          |NONE                 |NA              |NA                |NONE                 |NOT APPLICABLE  |NOT APPLICABLE   |null           |0              |0                 |0             |1            |0             |0            |0        |DRIVER LICENSE        |Texas            |CLASS C           |78232   |\n",
            "|14839807|1       |1       |DRIVER                           |FRONT LEFT        |NOT INJURED              |46      |WHITE            |FEMALE      |NO            |SHOULDER & LAP BELT|NOT DEPLOYED     |NOT APPLICABLE   |N          |NONE                 |NA              |NA                |NONE                 |NOT APPLICABLE  |NOT APPLICABLE   |null           |0              |0                 |0             |1            |0             |0            |0        |ID CARD               |Texas            |UNLICENSED        |78217   |\n",
            "|14839836|1       |1       |DRIVER                           |FRONT LEFT        |NOT INJURED              |20      |BLACK            |MALE        |NO            |SHOULDER & LAP BELT|DEPLOYED, FRONT  |NOT APPLICABLE   |N          |NONE                 |NA              |NA                |NONE                 |NOT APPLICABLE  |NOT APPLICABLE   |null           |0              |0                 |0             |1            |0             |0            |0        |DRIVER LICENSE        |Texas            |CLASS C           |78240   |\n",
            "|14839850|1       |1       |DRIVER                           |FRONT LEFT        |POSSIBLE INJURY          |21      |WHITE            |MALE        |NO            |SHOULDER & LAP BELT|DEPLOYED MULTIPLE|NOT APPLICABLE   |N          |NONE                 |NA              |NA                |NONE                 |NOT APPLICABLE  |NOT APPLICABLE   |null           |0              |0                 |1             |0            |0             |1            |0        |DRIVER LICENSE        |Texas            |CLASS C           |77664   |\n",
            "|14839852|1       |1       |DRIVER                           |FRONT LEFT        |NOT INJURED              |47      |WHITE            |MALE        |NO            |SHOULDER & LAP BELT|NOT DEPLOYED     |NOT APPLICABLE   |N          |NONE                 |NA              |NA                |NONE                 |NOT APPLICABLE  |NOT APPLICABLE   |null           |0              |0                 |0             |1            |0             |0            |0        |COMMERCIAL DRIVER LIC.|Texas            |CLASS A AND M     |77659   |\n",
            "|14839875|2       |1       |DRIVER                           |FRONT LEFT        |NOT INJURED              |24      |HISPANIC         |FEMALE      |NO            |SHOULDER & LAP BELT|NOT DEPLOYED     |NOT APPLICABLE   |N          |NONE                 |NA              |NA                |NONE                 |NOT APPLICABLE  |NOT APPLICABLE   |null           |0              |0                 |0             |1            |0             |0            |0        |DRIVER LICENSE        |Texas            |CLASS C           |77080   |\n",
            "|14839875|1       |1       |DRIVER                           |FRONT LEFT        |NOT INJURED              |55      |HISPANIC         |MALE        |NO            |SHOULDER & LAP BELT|NOT DEPLOYED     |NOT APPLICABLE   |N          |NONE                 |NA              |NA                |NONE                 |NOT APPLICABLE  |NOT APPLICABLE   |null           |0              |0                 |0             |1            |0             |0            |0        |DRIVER LICENSE        |Texas            |CLASS C           |77080   |\n",
            "|14839880|1       |1       |DRIVER                           |FRONT LEFT        |NOT INJURED              |56      |BLACK            |FEMALE      |NO            |SHOULDER & LAP BELT|NOT DEPLOYED     |NOT APPLICABLE   |N          |NONE                 |NA              |NA                |NONE                 |NOT APPLICABLE  |NOT APPLICABLE   |null           |0              |0                 |0             |1            |0             |0            |0        |ID CARD               |Texas            |UNLICENSED        |77373   |\n",
            "|14839880|2       |1       |DRIVER                           |FRONT LEFT        |NOT INJURED              |42      |OTHER            |MALE        |NO            |SHOULDER & LAP BELT|NOT DEPLOYED     |NOT APPLICABLE   |N          |NONE                 |NA              |NA                |NONE                 |NOT APPLICABLE  |NOT APPLICABLE   |null           |0              |0                 |0             |1            |0             |0            |0        |DRIVER LICENSE        |Texas            |CLASS C           |77382   |\n",
            "|14839887|2       |1       |DRIVER                           |FRONT LEFT        |NOT INJURED              |44      |BLACK            |FEMALE      |NO            |UNKNOWN            |NOT DEPLOYED     |NOT APPLICABLE   |N          |NONE                 |NA              |NA                |NONE                 |NOT APPLICABLE  |NOT APPLICABLE   |null           |0              |0                 |0             |1            |0             |0            |0        |DRIVER LICENSE        |Texas            |CLASS C           |77489   |\n",
            "|14839887|1       |1       |DRIVER                           |FRONT LEFT        |NOT INJURED              |23      |ASIAN            |MALE        |NO            |UNKNOWN            |NOT DEPLOYED     |NOT APPLICABLE   |N          |NONE                 |NA              |NA                |NONE                 |NOT APPLICABLE  |NOT APPLICABLE   |null           |0              |0                 |0             |1            |0             |0            |0        |DRIVER LICENSE        |Texas            |CLASS C           |77099   |\n",
            "|14839908|2       |1       |DRIVER                           |FRONT LEFT        |NOT INJURED              |25      |BLACK            |FEMALE      |NO            |SHOULDER & LAP BELT|NOT DEPLOYED     |NOT APPLICABLE   |N          |NONE                 |NA              |NA                |NONE                 |NOT APPLICABLE  |NOT APPLICABLE   |null           |0              |0                 |0             |1            |0             |0            |0        |DRIVER LICENSE        |Texas            |CLASS A           |77573   |\n",
            "|14839908|1       |1       |DRIVER                           |FRONT LEFT        |NOT INJURED              |20      |HISPANIC         |FEMALE      |NO            |SHOULDER & LAP BELT|DEPLOYED, FRONT  |NOT APPLICABLE   |N          |NONE                 |NA              |NA                |NONE                 |NOT APPLICABLE  |NOT APPLICABLE   |null           |0              |0                 |0             |1            |0             |0            |0        |ID CARD               |Texas            |UNLICENSED        |null    |\n",
            "|14839921|1       |1       |DRIVER                           |FRONT LEFT        |NOT INJURED              |17      |WHITE            |FEMALE      |NO            |SHOULDER & LAP BELT|DEPLOYED, FRONT  |NOT APPLICABLE   |N          |NONE                 |NA              |NA                |NONE                 |NOT APPLICABLE  |NOT APPLICABLE   |null           |0              |0                 |0             |1            |0             |0            |0        |DRIVER LICENSE        |Texas            |CLASS C           |78109   |\n",
            "|14839921|2       |1       |DRIVER                           |FRONT LEFT        |NOT INJURED              |31      |HISPANIC         |FEMALE      |NO            |SHOULDER & LAP BELT|NOT DEPLOYED     |NOT APPLICABLE   |N          |NONE                 |NA              |NA                |NONE                 |NOT APPLICABLE  |NOT APPLICABLE   |null           |0              |0                 |0             |1            |0             |0            |0        |DRIVER LICENSE        |Texas            |CLASS C           |78263   |\n",
            "|14839939|2       |1       |DRIVER                           |FRONT LEFT        |NOT INJURED              |18      |WHITE            |MALE        |NO            |SHOULDER & LAP BELT|NOT DEPLOYED     |NOT APPLICABLE   |N          |NONE                 |NA              |NA                |NONE                 |NOT APPLICABLE  |NOT APPLICABLE   |null           |0              |0                 |0             |1            |0             |0            |0        |DRIVER LICENSE        |Texas            |CLASS C           |76001   |\n",
            "|14839939|1       |1       |DRIVER                           |FRONT LEFT        |NOT INJURED              |19      |WHITE            |FEMALE      |NO            |SHOULDER & LAP BELT|NOT DEPLOYED     |NOT APPLICABLE   |N          |NONE                 |NA              |NA                |NONE                 |NOT APPLICABLE  |NOT APPLICABLE   |null           |0              |0                 |0             |1            |0             |0            |0        |DRIVER LICENSE        |Texas            |CLASS C           |75070   |\n",
            "+--------+--------+--------+---------------------------------+------------------+-------------------------+--------+-----------------+------------+--------------+-------------------+-----------------+-----------------+-----------+---------------------+----------------+------------------+---------------------+----------------+-----------------+---------------+---------------+------------------+--------------+-------------+--------------+-------------+---------+----------------------+-----------------+------------------+--------+\n",
            "only showing top 100 rows\n",
            "\n"
          ],
          "name": "stdout"
        }
      ]
    }
  ]
}