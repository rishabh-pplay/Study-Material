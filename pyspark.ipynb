{
  "nbformat": 4,
  "nbformat_minor": 0,
  "metadata": {
    "colab": {
      "name": "pyspark.ipynb",
      "provenance": [],
      "collapsed_sections": [],
      "toc_visible": true,
      "authorship_tag": "ABX9TyPWhKZDKImXfkX4+mjIDUPF",
      "include_colab_link": true
    },
    "kernelspec": {
      "name": "python3",
      "display_name": "Python 3"
    },
    "language_info": {
      "name": "python"
    }
  },
  "cells": [
    {
      "cell_type": "markdown",
      "metadata": {
        "id": "view-in-github",
        "colab_type": "text"
      },
      "source": [
        "<a href=\"https://colab.research.google.com/github/sajal1302/Study-Material/blob/master/pyspark.ipynb\" target=\"_parent\"><img src=\"https://colab.research.google.com/assets/colab-badge.svg\" alt=\"Open In Colab\"/></a>"
      ]
    },
    {
      "cell_type": "code",
      "metadata": {
        "colab": {
          "base_uri": "https://localhost:8080/"
        },
        "id": "Nf-UfmEVW4sN",
        "outputId": "dfa81d23-75f3-4490-e540-dc9be67d8ca1"
      },
      "source": [
        "! pip install pyspark"
      ],
      "execution_count": 1,
      "outputs": [
        {
          "output_type": "stream",
          "text": [
            "Collecting pyspark\n",
            "\u001b[?25l  Downloading https://files.pythonhosted.org/packages/45/b0/9d6860891ab14a39d4bddf80ba26ce51c2f9dc4805e5c6978ac0472c120a/pyspark-3.1.1.tar.gz (212.3MB)\n",
            "\u001b[K     |████████████████████████████████| 212.3MB 71kB/s \n",
            "\u001b[?25hCollecting py4j==0.10.9\n",
            "\u001b[?25l  Downloading https://files.pythonhosted.org/packages/9e/b6/6a4fb90cd235dc8e265a6a2067f2a2c99f0d91787f06aca4bcf7c23f3f80/py4j-0.10.9-py2.py3-none-any.whl (198kB)\n",
            "\u001b[K     |████████████████████████████████| 204kB 47.4MB/s \n",
            "\u001b[?25hBuilding wheels for collected packages: pyspark\n",
            "  Building wheel for pyspark (setup.py) ... \u001b[?25l\u001b[?25hdone\n",
            "  Created wheel for pyspark: filename=pyspark-3.1.1-py2.py3-none-any.whl size=212767604 sha256=96a7e31d3bdebeb3b3abcaa260d1b255b0950a4a621568c017559f57273f9a13\n",
            "  Stored in directory: /root/.cache/pip/wheels/0b/90/c0/01de724414ef122bd05f056541fb6a0ecf47c7ca655f8b3c0f\n",
            "Successfully built pyspark\n",
            "Installing collected packages: py4j, pyspark\n",
            "Successfully installed py4j-0.10.9 pyspark-3.1.1\n"
          ],
          "name": "stdout"
        }
      ]
    },
    {
      "cell_type": "code",
      "metadata": {
        "id": "hxQnd-BJXOJb"
      },
      "source": [
        "from pyspark.sql import SparkSession"
      ],
      "execution_count": 4,
      "outputs": []
    },
    {
      "cell_type": "code",
      "metadata": {
        "id": "Dl4SsGmgFtp5"
      },
      "source": [
        "from pyspark.sql.functions import *\n",
        "import logging\n",
        "logger = logging.getLogger('BCG-Use-Case')\n",
        "logger.setLevel(logging.INFO)"
      ],
      "execution_count": 101,
      "outputs": []
    },
    {
      "cell_type": "code",
      "metadata": {
        "id": "O79HURu6XOUZ"
      },
      "source": [
        "def get_spark_session():\n",
        "    spark = SparkSession.builder.appName(\"BCG-Project\").enableHiveSupport().getOrCreate()\n",
        "    return spark"
      ],
      "execution_count": 3,
      "outputs": []
    },
    {
      "cell_type": "code",
      "metadata": {
        "id": "UOOPesnsXOYD"
      },
      "source": [
        "config = { 'files' : ['Charges_use.csv' ,\n",
        "                      'Damages_use.csv' ,\n",
        "                      'Endorse_use.csv',\n",
        "                      'Primary_Person_use.csv' ,\n",
        "                      'Restrict_use.csv' ,\n",
        "                      'Units_use.csv'] ,\n",
        "          'files_loc' : '',\n",
        "          \n",
        "          'feeds':{\n",
        "              'Charges_use': {\n",
        "                  'feed_name' : 'Charges_use.csv',\n",
        "                  'feed_location' : '',\n",
        "                  'delimeter' : '',\n",
        "                  'compression' : '',\n",
        "                  \n",
        "              },\n",
        "              'Damages_use': {\n",
        "                  'feed_name' : 'Damages_use.csv',\n",
        "                  'feed_location' : '',\n",
        "                  'delimeter' : '',\n",
        "                  'compression' : '',\n",
        "                  \n",
        "              },\n",
        "              'Endorse_use': {\n",
        "                  'feed_name' : 'Damages_use.csv',\n",
        "                  'feed_location' : '',\n",
        "                  'delimeter' : '',\n",
        "                  'compression' : '',\n",
        "                  \n",
        "              },\n",
        "              'Primary_Person_use': {\n",
        "                  'feed_name' : 'Primary_Person_use.csv',\n",
        "                  'feed_location' : '',\n",
        "                  'delimeter' : '',\n",
        "                  'compression' : '',\n",
        "                  \n",
        "              },\n",
        "              'Restrict_use': {\n",
        "                  'feed_name' : 'Restrict_use.csv',\n",
        "                  'feed_location' : '',\n",
        "                  'delimeter' : '',\n",
        "                  'compression' : '',\n",
        "                  \n",
        "              },\n",
        "              'Units_use': {\n",
        "                  'feed_name' : 'Units_use.csv',\n",
        "                  'feed_location' : '',\n",
        "                  'delimeter' : '',\n",
        "                  'compression' : '',\n",
        "                  \n",
        "              }\n",
        "          }  \n",
        "    \n",
        "}"
      ],
      "execution_count": 5,
      "outputs": []
    },
    {
      "cell_type": "code",
      "metadata": {
        "id": "iZzBxexhXOfb"
      },
      "source": [
        "spark = get_spark_session()"
      ],
      "execution_count": 6,
      "outputs": []
    },
    {
      "cell_type": "code",
      "metadata": {
        "colab": {
          "base_uri": "https://localhost:8080/"
        },
        "id": "AgrtiDYys95H",
        "outputId": "45c04e65-e70a-4c35-8899-eb5ef20b72f9"
      },
      "source": [
        "from google.colab import drive\n",
        "drive.mount('/content/drive')"
      ],
      "execution_count": 8,
      "outputs": [
        {
          "output_type": "stream",
          "text": [
            "Mounted at /content/drive\n"
          ],
          "name": "stdout"
        }
      ]
    },
    {
      "cell_type": "code",
      "metadata": {
        "id": "mUudwGX3XOi-",
        "colab": {
          "base_uri": "https://localhost:8080/",
          "height": 218
        },
        "outputId": "bb2c2d53-d2fa-4ed9-8531-863010f4d550"
      },
      "source": [
        "spark"
      ],
      "execution_count": 7,
      "outputs": [
        {
          "output_type": "execute_result",
          "data": {
            "text/html": [
              "\n",
              "            <div>\n",
              "                <p><b>SparkSession - hive</b></p>\n",
              "                \n",
              "        <div>\n",
              "            <p><b>SparkContext</b></p>\n",
              "\n",
              "            <p><a href=\"http://2acd35f17c6d:4040\">Spark UI</a></p>\n",
              "\n",
              "            <dl>\n",
              "              <dt>Version</dt>\n",
              "                <dd><code>v3.1.1</code></dd>\n",
              "              <dt>Master</dt>\n",
              "                <dd><code>local[*]</code></dd>\n",
              "              <dt>AppName</dt>\n",
              "                <dd><code>BCG-Project</code></dd>\n",
              "            </dl>\n",
              "        </div>\n",
              "        \n",
              "            </div>\n",
              "        "
            ],
            "text/plain": [
              "<pyspark.sql.session.SparkSession at 0x7f32abdb2850>"
            ]
          },
          "metadata": {
            "tags": []
          },
          "execution_count": 7
        }
      ]
    },
    {
      "cell_type": "code",
      "metadata": {
        "colab": {
          "base_uri": "https://localhost:8080/"
        },
        "id": "7R9CoY9_sP6S",
        "outputId": "6d33dc26-5ef4-4f89-d420-9de1d4b6bd45"
      },
      "source": [
        "! ls drive/MyDrive/bcg/staging_files/"
      ],
      "execution_count": 15,
      "outputs": [
        {
          "output_type": "stream",
          "text": [
            "Charges_use.csv  Endorse_use.csv\t Restrict_use.csv\n",
            "Damages_use.csv  Primary_Person_use.csv  Units_use.csv\n"
          ],
          "name": "stdout"
        }
      ]
    },
    {
      "cell_type": "code",
      "metadata": {
        "colab": {
          "base_uri": "https://localhost:8080/"
        },
        "id": "IQloN1ZksQEA",
        "outputId": "529d51a8-e1af-4df8-fd84-ea40b133b73c"
      },
      "source": [
        "! ls bcg/config"
      ],
      "execution_count": 20,
      "outputs": [
        {
          "output_type": "stream",
          "text": [
            "config.json\n"
          ],
          "name": "stdout"
        }
      ]
    },
    {
      "cell_type": "code",
      "metadata": {
        "id": "5uDtNXAcws2J"
      },
      "source": [
        "import json"
      ],
      "execution_count": 21,
      "outputs": []
    },
    {
      "cell_type": "code",
      "metadata": {
        "id": "VapaijMQws-_"
      },
      "source": [
        "def load_json(file_path):\n",
        "  with open(file_path) as f:\n",
        "    config = json.load(f)\n",
        "    return config"
      ],
      "execution_count": 28,
      "outputs": []
    },
    {
      "cell_type": "code",
      "metadata": {
        "id": "YYgHC7tszNNT"
      },
      "source": [
        "bcg_conf = load_json('bcg/config/config.json')"
      ],
      "execution_count": 103,
      "outputs": []
    },
    {
      "cell_type": "code",
      "metadata": {
        "id": "kIo02bZu53mM"
      },
      "source": [
        "def load_file(bcg_conf , entity_name):\n",
        "  try :\n",
        "    feed_name = bcg_conf['feeds'][entity_name]['feed_name']\n",
        "    file_loc = bcg_conf['feeds'][entity_name]['feed_location']\n",
        "    file_format = bcg_conf['feeds'][entity_name]['file_format']\n",
        "    delimeter = bcg_conf['feeds'][entity_name]['delimeter']\n",
        "    header = bcg_conf['feeds'][entity_name]['header']\n",
        "    full_path = file_loc + feed_name\n",
        "\n",
        "    print(feed_name , file_loc , file_format, full_path )\n",
        "    df_ = spark.read.load(full_path, \n",
        "                    format= file_format, sep= delimeter, inferSchema=\"true\",\n",
        "                    header=header)\n",
        "    return df_\n",
        "\n",
        "  except:\n",
        "    logger.error(\"Check the Config for the Entity : {} \".format(entity_name))"
      ],
      "execution_count": 104,
      "outputs": []
    },
    {
      "cell_type": "code",
      "metadata": {
        "colab": {
          "base_uri": "https://localhost:8080/"
        },
        "id": "hb3AdDlT0XCP",
        "outputId": "8f0920eb-bd69-4ef8-c466-86a234c1cf80"
      },
      "source": [
        "charges_use_df = load_file(bcg_conf , 'Charges_use')"
      ],
      "execution_count": 105,
      "outputs": [
        {
          "output_type": "stream",
          "text": [
            "Charges_use.csv /content/drive/MyDrive/bcg/staging_files/ csv /content/drive/MyDrive/bcg/staging_files/Charges_use.csv\n"
          ],
          "name": "stdout"
        }
      ]
    },
    {
      "cell_type": "code",
      "metadata": {
        "id": "vSZ0cGEkFUfQ"
      },
      "source": [
        "def trim_columns(df):\n",
        "  df_ = df.select([ trim(col(colm)).alias(colm) if dtype =='string' else col(colm) for colm,dtype in df.dtypes ])\n",
        "  return df_"
      ],
      "execution_count": 115,
      "outputs": []
    },
    {
      "cell_type": "code",
      "metadata": {
        "id": "z6ie-U-uHC8B"
      },
      "source": [
        "charges_use_df = trim_columns(charges_use_df)"
      ],
      "execution_count": 114,
      "outputs": []
    },
    {
      "cell_type": "code",
      "metadata": {
        "colab": {
          "base_uri": "https://localhost:8080/"
        },
        "id": "WeM-9HbbIWUv",
        "outputId": "1d39bd71-479a-41db-d3e1-789c7e11eb4b"
      },
      "source": [
        "charges_use_df.show(10, False)"
      ],
      "execution_count": 108,
      "outputs": [
        {
          "output_type": "stream",
          "text": [
            "+--------+--------+--------+----------------------------------------+------------+\n",
            "|CRASH_ID|UNIT_NBR|PRSN_NBR|CHARGE                                  |CITATION_NBR|\n",
            "+--------+--------+--------+----------------------------------------+------------+\n",
            "|14768622|1       |1       |DRIVING WHILE INTOXICATED               |null        |\n",
            "|14838637|1       |1       |DWI                                     |1600000015  |\n",
            "|14838641|1       |1       |RAN RED LIGHT SOLID (TC 544.007)        |L20440      |\n",
            "|14838641|2       |1       |NO DRIVER'S LICENSE (TC521.025)         |L23141      |\n",
            "|14838668|1       |1       |DRIVING WHILE INTOXICATED               |TX4IC50SRJD3|\n",
            "|14838669|2       |1       |DWI W/BAC >.015                         |2015-000006 |\n",
            "|14838670|1       |1       |DRIVING WHILE INTOXICATED               |2016-000003 |\n",
            "|14838685|1       |1       |FAILED TO DRIVE SINGLE LANE, NOL, NO INS|138434825   |\n",
            "|14838693|1       |1       |DRIVING WHILE INTOXICATED               |TX4IC60UKQND|\n",
            "|14838768|2       |1       |DWI                                     |null        |\n",
            "+--------+--------+--------+----------------------------------------+------------+\n",
            "only showing top 10 rows\n",
            "\n"
          ],
          "name": "stdout"
        }
      ]
    },
    {
      "cell_type": "code",
      "metadata": {
        "colab": {
          "base_uri": "https://localhost:8080/"
        },
        "id": "a0_katULPkq7",
        "outputId": "b27aecc3-b2de-4013-e1a3-6e7e26509196"
      },
      "source": [
        "damages_use_df = load_file(bcg_conf , 'Damages_use')\n"
      ],
      "execution_count": 116,
      "outputs": [
        {
          "output_type": "stream",
          "text": [
            "Damages_use.csv /content/drive/MyDrive/bcg/staging_files/ csv /content/drive/MyDrive/bcg/staging_files/Damages_use.csv\n"
          ],
          "name": "stdout"
        }
      ]
    },
    {
      "cell_type": "code",
      "metadata": {
        "colab": {
          "base_uri": "https://localhost:8080/"
        },
        "id": "4GgQOW0_Pks0",
        "outputId": "33203aaa-529b-4d46-fae5-feb441582f87"
      },
      "source": [
        "charges_use_df = trim_columns(load_file(bcg_conf , 'Charges_use'))\n",
        "damages_use_df = trim_columns(load_file(bcg_conf , 'Damages_use'))\n",
        "endorse_use_df = trim_columns(load_file(bcg_conf , 'Endorse_use'))\n",
        "primary_person_use_df = trim_columns(load_file(bcg_conf , 'Primary_Person_use'))\n",
        "restrict_use_df = trim_columns(load_file(bcg_conf , 'Restrict_use'))\n",
        "units_use_df = trim_columns(load_file(bcg_conf , 'Units_use'))"
      ],
      "execution_count": 118,
      "outputs": [
        {
          "output_type": "stream",
          "text": [
            "Charges_use.csv /content/drive/MyDrive/bcg/staging_files/ csv /content/drive/MyDrive/bcg/staging_files/Charges_use.csv\n",
            "Damages_use.csv /content/drive/MyDrive/bcg/staging_files/ csv /content/drive/MyDrive/bcg/staging_files/Damages_use.csv\n",
            "Damages_use.csv /content/drive/MyDrive/bcg/staging_files/ csv /content/drive/MyDrive/bcg/staging_files/Damages_use.csv\n",
            "Primary_Person_use.csv /content/drive/MyDrive/bcg/staging_files/ csv /content/drive/MyDrive/bcg/staging_files/Primary_Person_use.csv\n",
            "Restrict_use.csv /content/drive/MyDrive/bcg/staging_files/ csv /content/drive/MyDrive/bcg/staging_files/Restrict_use.csv\n",
            "Units_use.csv /content/drive/MyDrive/bcg/staging_files/ csv /content/drive/MyDrive/bcg/staging_files/Units_use.csv\n"
          ],
          "name": "stdout"
        }
      ]
    },
    {
      "cell_type": "code",
      "metadata": {
        "id": "kbanrHO-Pkxc"
      },
      "source": [
        ""
      ],
      "execution_count": null,
      "outputs": []
    }
  ]
}